{
  "nbformat": 4,
  "nbformat_minor": 0,
  "metadata": {
    "colab": {
      "provenance": []
    },
    "kernelspec": {
      "name": "python3",
      "display_name": "Python 3"
    }
  },
  "cells": [
    {
      "cell_type": "markdown",
      "metadata": {
        "id": "ugGDuuAUpZEQ"
      },
      "source": [
        "# **MLPP23 // Assignment 2**\n",
        "\n",
        "assigned : **Feb 20, 2023**\n",
        "\n",
        "DUE : **Feb 26, 2023 11:59pm**\n",
        "\n",
        "## **Sea level rise: projections for the future**\n",
        "\n",
        "<img src=\"https://cdn.viewing.nyc/assets/media/5c0dcd07e43c85f0ad421ed09f21df33/elements/08ebcd75071c8e4d673147698fbbdcdd/xl/cce6b621-11a3-4f0d-8a53-fccdb6457875_2x.png\" width=500>\n",
        "\n",
        "---"
      ]
    },
    {
      "cell_type": "markdown",
      "metadata": {
        "id": "rQgC1Td2qSkW"
      },
      "source": [
        "### OVERVIEW\n",
        "\n",
        "Sea level has been on the rise for at least 100 years, and as the climate changes and the Earth warms, the rate of that rise has been an active area of study given the potential consequences if sea level is strongly affected.\n",
        "\n",
        "Measurements of sea level mostly come in two flavors, satellites and tide gauges.  The satellite measurements are primarily accomplished by firing radio waves towards the ocean surface and waiting for the time it takes for those radio waves to bounce back and return to the satellite.  Since we know how fast light (radio waves are a form of light) travels, the distance from the satellite to the surface is just the bounce back time divided by the speed of light.  [TOPEX/Poseidon](https://en.wikipedia.org/wiki/TOPEX/Poseidon) has been one of the most successful satellite missions for these altimetry measurements of the ocean surface.  [Tide gauges](https://en.wikipedia.org/wiki/Tide_gauge), on the other hand, are ground-based measurements that directly measure the height of water relative to a stationary device.  They are less accurate, provide significantly reduced spatial coverage, but prior to satellite altimetry, were the only real method for measuring sea level.\n",
        "\n",
        "There are three main goals of this assignment:\n",
        "\n",
        "1. you will apply linear regression models to satellite data using Stochastic Gradient Descent;\n",
        "2. you will evaluate the goodness-of-fit of these models;\n",
        "3. you will compare linear models using data covering different time scales and make projections for future sea levels.\n",
        "\n",
        "<b>\n",
        "\n",
        "Rules for assignments:\n",
        "\n",
        "1. You may work with other students in the class, but if you do, each student with whom you worked <u>must</u> be listed below.  Direct copying from someone else's notebook is not permitted.\n",
        "\n",
        "\n",
        "2. All solutions and outputs must be derived with python and the notebook should be \"runable\" by me (top to bottom) without errors.\n",
        "\n",
        "3. Late assignments will assess a 15% late penalty up to 3 days after the due date and a 50% late penalty until the end of the term.\n",
        "\n",
        "</b>\n",
        "\n",
        "<u>**Instructions for tasks that will be graded are in bold below.**</u>\n",
        "\n",
        "---"
      ]
    },
    {
      "cell_type": "markdown",
      "metadata": {
        "id": "jUL2va38d-ph"
      },
      "source": [
        "**Please list the names of the other students with whom you worked for this assignment (if none, put \"None\").**"
      ]
    },
    {
      "cell_type": "markdown",
      "metadata": {
        "id": "Zsjvj1Wfd5nJ"
      },
      "source": [
        "Worked with Nagamalla Charitha for second half of the assignment."
      ]
    },
    {
      "cell_type": "markdown",
      "metadata": {
        "id": "v8J09Gfad5Cr"
      },
      "source": [
        "---"
      ]
    },
    {
      "cell_type": "markdown",
      "metadata": {
        "id": "UBL4OBtWzv7O"
      },
      "source": [
        "### **PART 1 - Background**\n",
        "\n",
        "Good data science and machine learning (and data analysis more generally) depends on a clear understanding of the underlying problem/situation, the methods by which the data you are about to analyze are collected, and the situational context in which that data sits.  To that end:\n",
        "\n",
        "<b>\n",
        "<u>In your own words</u>, provide a brief (no more than 500 words) descriptive overview of sea level rise, including its historical significance, context within a changing climate, and projections for the future.  Potential topics to consider and address include:\n",
        "\n",
        "1. description of historical sea level measurements\n",
        "  \n",
        "2. what open satellite data exist and where they can be located\n",
        "\n",
        "3. characteristic numbers for sea level measurements over time\n",
        "\n",
        "4. why sea level might change as the climate changes\n",
        "\n",
        "5. what projections exist for the future of sea level rise\n",
        "\n",
        "6. on what those projections depend and the consequences for various scenarios\n",
        "\n",
        "Please include *references* within the description via weblinks (like the TOPEX/Poseidon link in the Overview in the cell above).\n",
        "</b>"
      ]
    },
    {
      "cell_type": "markdown",
      "metadata": {
        "id": "egygltbL0Q1Z"
      },
      "source": [
        "1.Sea level measurements have been recorded right from the early 1700s. The earliest measurements were typically taken with simple tide gauges. In the 19th century, more sophisticated tide gauges were developed, which used  a mercury column to measure the height of the water.In the early 20th century, new technologies, such as acoustic or radar-based sensors, were developed which allowed for real-time monitoring of sea level and the development of global sea level monitoring networks. Today, sea level is measured using a variety of methods, including satellite altimetry, tide gauges, and ocean-bottom pressure sensors. Satellites are useful for measuring sea level over large areas, while tide gauges provide more detailed measurements at specific locations. [History](https://www.e-education.psu.edu/earth103/node/731)\n",
        "\n",
        "\n",
        "2.There are several open satellite data sources available for sea level measurement.\n",
        "\n",
        "TOPEX/Poseidon was a joint satellite altimeter mission between NASA, ; and CNES, to map ocean surface topography. [TOPEX](https://en.wikipedia.org/wiki/TOPEX/Poseidon)\n",
        "Jason-3: Jason-3 is a satellite mission that provides global sea level measurements. [Jason-3](https://www.star.nesdis.noaa.gov/socd/lsa/SeaLevelRise/). European Space Agency's Sentinel-3: Sentinel-3 is a satellite mission that provides global sea level measurements. (https://scihub.copernicus.eu/).\n",
        "\n",
        "3.Global sea level rose by about 120 m during the several millennia that followed the end of the last ice age (approximately 21,000 years ago), and stabilised between 3,000 and 2,000 years ago. Sea level indicators suggest that global sea level did not change significantly from then until the late 19th century. Estimates for the 20th century show that global average sea level rose at a rate of about 1.7 mm yr–1.ea level rise is not uniform across the globe.\n",
        "The global mean sea level has risen by an average of about 1.8 mm per year over the period from 1961 to 2018, according to the Intergovernmental Panel on Climate Change [IPCC](https://archive.ipcc.ch/publications_and_data/ar4/wg1/en/faq-5-1.html#:~:text=Global%20sea%20level%20is%20projected,about%204%20mm%20yr%E2%80%931.)\n",
        "\n",
        "4.Climate change, which is caused by human activities such as the burning of fossil fuels, deforestation, and agriculture is one of the major reason of change in sea level. The resulting increase in greenhouse gas concentrations in the atmosphere has led to a warming of the Earth's surface, which in turn affects the oceans and ice sheets. [Climate change](https://www.climate.gov/news-features/understanding-climate/climate-change-global-sea-level)\n",
        "\n",
        "5.current scientific projections indicate that sea level is likely to continue to rise throughout the 21st century and beyond, with potentially significant impacts on coastal communities and ecosystems.NOAA projects that global mean sea level could rise by as much as 2.5 meters by the year 2100 under a high emissions scenario. [Rise](https://www.climate.gov/news-features/understanding-climate/climate-change-global-sea-level)\n",
        "\n",
        "6.The projections are dependent on multiple criteria. The major being high emissions scenario, rate of human activities which will indirectly affect sea levels. Same as above references.\n",
        "\n",
        "\n",
        "\n",
        "\n",
        "\n",
        "\n",
        "\n",
        "\n",
        "\n",
        "\n",
        "\n"
      ]
    },
    {
      "cell_type": "markdown",
      "metadata": {
        "id": "3KwDRW3R2qEU"
      },
      "source": [
        "### **PART 2 - Loading the data**"
      ]
    },
    {
      "cell_type": "markdown",
      "metadata": {
        "id": "34DlaWQAYlmj"
      },
      "source": [
        "In this assignment, we will be using several different data sets from the National Oceanic and Atmospheric Administration (NOAA).  In particular, we'll be looking at data from TOPEX as well as its follow on missions Jason-1, Jason-2, and Jason-3.  All of the data that you will be using is available [here](https://www.star.nesdis.noaa.gov/sod/lsa/SeaLevelRise/LSA_SLR_timeseries.php).\n",
        "\n"
      ]
    },
    {
      "cell_type": "markdown",
      "metadata": {
        "id": "L7GvyP6_O0N8"
      },
      "source": [
        "<b>At the website in the previous cell, copy the link address of the global mean sea level csv file with seasonal signals removed from the \"TOPEX, Jason-1, Jason-2, and Jason-3\" column.  Load the data from the above URL directly (i.e., do not download the data and then reupload to Google Drive) using pandas `read_csv()` function into a DataFrame named `noaa`.  Note, you'll have to skip the first 5 rows.</b>"
      ]
    },
    {
      "cell_type": "code",
      "metadata": {
        "id": "01R3mG16QV9H"
      },
      "source": [
        "import pandas as pd\n",
        "import numpy as np\n",
        "import matplotlib.pyplot as plt"
      ],
      "execution_count": null,
      "outputs": []
    },
    {
      "cell_type": "code",
      "metadata": {
        "id": "g1qvxr1RSqF9"
      },
      "source": [
        "fname=\"https://www.star.nesdis.noaa.gov/socd/lsa/SeaLevelRise/slr/slr_sla_gbl_free_txj1j2_90.csv\"\n",
        "noaa = pd.read_csv(fname, skiprows=5)"
      ],
      "execution_count": null,
      "outputs": []
    },
    {
      "cell_type": "code",
      "source": [
        "noaa.head()"
      ],
      "metadata": {
        "colab": {
          "base_uri": "https://localhost:8080/",
          "height": 206
        },
        "id": "MYrIzaw_1lYA",
        "outputId": "382eb1e2-a400-4e61-9a8b-4a4c23af5605"
      },
      "execution_count": null,
      "outputs": [
        {
          "output_type": "execute_result",
          "data": {
            "text/plain": [
              "        year  TOPEX/Poseidon  Jason-1  Jason-2  Jason-3\n",
              "0  1992.9614          -19.24      NaN      NaN      NaN\n",
              "1  1992.9865          -19.65      NaN      NaN      NaN\n",
              "2  1993.0123          -15.32      NaN      NaN      NaN\n",
              "3  1993.0407          -19.12      NaN      NaN      NaN\n",
              "4  1993.0660          -23.64      NaN      NaN      NaN"
            ],
            "text/html": [
              "\n",
              "  <div id=\"df-7ccb429a-0693-488f-8d1c-111a16ebaf6f\">\n",
              "    <div class=\"colab-df-container\">\n",
              "      <div>\n",
              "<style scoped>\n",
              "    .dataframe tbody tr th:only-of-type {\n",
              "        vertical-align: middle;\n",
              "    }\n",
              "\n",
              "    .dataframe tbody tr th {\n",
              "        vertical-align: top;\n",
              "    }\n",
              "\n",
              "    .dataframe thead th {\n",
              "        text-align: right;\n",
              "    }\n",
              "</style>\n",
              "<table border=\"1\" class=\"dataframe\">\n",
              "  <thead>\n",
              "    <tr style=\"text-align: right;\">\n",
              "      <th></th>\n",
              "      <th>year</th>\n",
              "      <th>TOPEX/Poseidon</th>\n",
              "      <th>Jason-1</th>\n",
              "      <th>Jason-2</th>\n",
              "      <th>Jason-3</th>\n",
              "    </tr>\n",
              "  </thead>\n",
              "  <tbody>\n",
              "    <tr>\n",
              "      <th>0</th>\n",
              "      <td>1992.9614</td>\n",
              "      <td>-19.24</td>\n",
              "      <td>NaN</td>\n",
              "      <td>NaN</td>\n",
              "      <td>NaN</td>\n",
              "    </tr>\n",
              "    <tr>\n",
              "      <th>1</th>\n",
              "      <td>1992.9865</td>\n",
              "      <td>-19.65</td>\n",
              "      <td>NaN</td>\n",
              "      <td>NaN</td>\n",
              "      <td>NaN</td>\n",
              "    </tr>\n",
              "    <tr>\n",
              "      <th>2</th>\n",
              "      <td>1993.0123</td>\n",
              "      <td>-15.32</td>\n",
              "      <td>NaN</td>\n",
              "      <td>NaN</td>\n",
              "      <td>NaN</td>\n",
              "    </tr>\n",
              "    <tr>\n",
              "      <th>3</th>\n",
              "      <td>1993.0407</td>\n",
              "      <td>-19.12</td>\n",
              "      <td>NaN</td>\n",
              "      <td>NaN</td>\n",
              "      <td>NaN</td>\n",
              "    </tr>\n",
              "    <tr>\n",
              "      <th>4</th>\n",
              "      <td>1993.0660</td>\n",
              "      <td>-23.64</td>\n",
              "      <td>NaN</td>\n",
              "      <td>NaN</td>\n",
              "      <td>NaN</td>\n",
              "    </tr>\n",
              "  </tbody>\n",
              "</table>\n",
              "</div>\n",
              "      <button class=\"colab-df-convert\" onclick=\"convertToInteractive('df-7ccb429a-0693-488f-8d1c-111a16ebaf6f')\"\n",
              "              title=\"Convert this dataframe to an interactive table.\"\n",
              "              style=\"display:none;\">\n",
              "        \n",
              "  <svg xmlns=\"http://www.w3.org/2000/svg\" height=\"24px\"viewBox=\"0 0 24 24\"\n",
              "       width=\"24px\">\n",
              "    <path d=\"M0 0h24v24H0V0z\" fill=\"none\"/>\n",
              "    <path d=\"M18.56 5.44l.94 2.06.94-2.06 2.06-.94-2.06-.94-.94-2.06-.94 2.06-2.06.94zm-11 1L8.5 8.5l.94-2.06 2.06-.94-2.06-.94L8.5 2.5l-.94 2.06-2.06.94zm10 10l.94 2.06.94-2.06 2.06-.94-2.06-.94-.94-2.06-.94 2.06-2.06.94z\"/><path d=\"M17.41 7.96l-1.37-1.37c-.4-.4-.92-.59-1.43-.59-.52 0-1.04.2-1.43.59L10.3 9.45l-7.72 7.72c-.78.78-.78 2.05 0 2.83L4 21.41c.39.39.9.59 1.41.59.51 0 1.02-.2 1.41-.59l7.78-7.78 2.81-2.81c.8-.78.8-2.07 0-2.86zM5.41 20L4 18.59l7.72-7.72 1.47 1.35L5.41 20z\"/>\n",
              "  </svg>\n",
              "      </button>\n",
              "      \n",
              "  <style>\n",
              "    .colab-df-container {\n",
              "      display:flex;\n",
              "      flex-wrap:wrap;\n",
              "      gap: 12px;\n",
              "    }\n",
              "\n",
              "    .colab-df-convert {\n",
              "      background-color: #E8F0FE;\n",
              "      border: none;\n",
              "      border-radius: 50%;\n",
              "      cursor: pointer;\n",
              "      display: none;\n",
              "      fill: #1967D2;\n",
              "      height: 32px;\n",
              "      padding: 0 0 0 0;\n",
              "      width: 32px;\n",
              "    }\n",
              "\n",
              "    .colab-df-convert:hover {\n",
              "      background-color: #E2EBFA;\n",
              "      box-shadow: 0px 1px 2px rgba(60, 64, 67, 0.3), 0px 1px 3px 1px rgba(60, 64, 67, 0.15);\n",
              "      fill: #174EA6;\n",
              "    }\n",
              "\n",
              "    [theme=dark] .colab-df-convert {\n",
              "      background-color: #3B4455;\n",
              "      fill: #D2E3FC;\n",
              "    }\n",
              "\n",
              "    [theme=dark] .colab-df-convert:hover {\n",
              "      background-color: #434B5C;\n",
              "      box-shadow: 0px 1px 3px 1px rgba(0, 0, 0, 0.15);\n",
              "      filter: drop-shadow(0px 1px 2px rgba(0, 0, 0, 0.3));\n",
              "      fill: #FFFFFF;\n",
              "    }\n",
              "  </style>\n",
              "\n",
              "      <script>\n",
              "        const buttonEl =\n",
              "          document.querySelector('#df-7ccb429a-0693-488f-8d1c-111a16ebaf6f button.colab-df-convert');\n",
              "        buttonEl.style.display =\n",
              "          google.colab.kernel.accessAllowed ? 'block' : 'none';\n",
              "\n",
              "        async function convertToInteractive(key) {\n",
              "          const element = document.querySelector('#df-7ccb429a-0693-488f-8d1c-111a16ebaf6f');\n",
              "          const dataTable =\n",
              "            await google.colab.kernel.invokeFunction('convertToInteractive',\n",
              "                                                     [key], {});\n",
              "          if (!dataTable) return;\n",
              "\n",
              "          const docLinkHtml = 'Like what you see? Visit the ' +\n",
              "            '<a target=\"_blank\" href=https://colab.research.google.com/notebooks/data_table.ipynb>data table notebook</a>'\n",
              "            + ' to learn more about interactive tables.';\n",
              "          element.innerHTML = '';\n",
              "          dataTable['output_type'] = 'display_data';\n",
              "          await google.colab.output.renderOutput(dataTable, element);\n",
              "          const docLink = document.createElement('div');\n",
              "          docLink.innerHTML = docLinkHtml;\n",
              "          element.appendChild(docLink);\n",
              "        }\n",
              "      </script>\n",
              "    </div>\n",
              "  </div>\n",
              "  "
            ]
          },
          "metadata": {},
          "execution_count": 3
        }
      ]
    },
    {
      "cell_type": "markdown",
      "metadata": {
        "id": "XZoSU1zaSiJD"
      },
      "source": [
        "### **PART 3 - Aggregating and plotting the data**"
      ]
    },
    {
      "cell_type": "markdown",
      "metadata": {
        "id": "G2dyDGWTQWGq"
      },
      "source": [
        "Notice that there are many NaN values (for a variety of reasons, but one big one is that the satellites were not all operating simultaneously).  Let's aggregate the data from all of the satellites so that we have one height for each timestamp.\n",
        "\n",
        "<b>Take the maximum value across the four satellite columns and store it as another column within the DataFrame called `\"max_level\"`.</b>"
      ]
    },
    {
      "cell_type": "code",
      "metadata": {
        "id": "XAfKMVEUQWP3"
      },
      "source": [
        "# -- define subset of the data\n",
        "cols = noaa.columns[1:5] #dosen't take the 5th column name\n",
        "noaa_sub = noaa[cols]"
      ],
      "execution_count": null,
      "outputs": []
    },
    {
      "cell_type": "code",
      "source": [
        "noaa[\"max_level\"]=noaa_sub.max(axis=1)"
      ],
      "metadata": {
        "id": "-Hpflre819J0"
      },
      "execution_count": null,
      "outputs": []
    },
    {
      "cell_type": "code",
      "source": [
        "noaa.head(5)"
      ],
      "metadata": {
        "colab": {
          "base_uri": "https://localhost:8080/",
          "height": 206
        },
        "id": "ecShonGw23mr",
        "outputId": "23ef4272-a640-42df-d9dc-1bebc8cc09c6"
      },
      "execution_count": null,
      "outputs": [
        {
          "output_type": "execute_result",
          "data": {
            "text/plain": [
              "        year  TOPEX/Poseidon  Jason-1  Jason-2  Jason-3  max_level\n",
              "0  1992.9614          -19.24      NaN      NaN      NaN     -19.24\n",
              "1  1992.9865          -19.65      NaN      NaN      NaN     -19.65\n",
              "2  1993.0123          -15.32      NaN      NaN      NaN     -15.32\n",
              "3  1993.0407          -19.12      NaN      NaN      NaN     -19.12\n",
              "4  1993.0660          -23.64      NaN      NaN      NaN     -23.64"
            ],
            "text/html": [
              "\n",
              "  <div id=\"df-b723b901-94e6-4aac-90e4-8b66c866394c\">\n",
              "    <div class=\"colab-df-container\">\n",
              "      <div>\n",
              "<style scoped>\n",
              "    .dataframe tbody tr th:only-of-type {\n",
              "        vertical-align: middle;\n",
              "    }\n",
              "\n",
              "    .dataframe tbody tr th {\n",
              "        vertical-align: top;\n",
              "    }\n",
              "\n",
              "    .dataframe thead th {\n",
              "        text-align: right;\n",
              "    }\n",
              "</style>\n",
              "<table border=\"1\" class=\"dataframe\">\n",
              "  <thead>\n",
              "    <tr style=\"text-align: right;\">\n",
              "      <th></th>\n",
              "      <th>year</th>\n",
              "      <th>TOPEX/Poseidon</th>\n",
              "      <th>Jason-1</th>\n",
              "      <th>Jason-2</th>\n",
              "      <th>Jason-3</th>\n",
              "      <th>max_level</th>\n",
              "    </tr>\n",
              "  </thead>\n",
              "  <tbody>\n",
              "    <tr>\n",
              "      <th>0</th>\n",
              "      <td>1992.9614</td>\n",
              "      <td>-19.24</td>\n",
              "      <td>NaN</td>\n",
              "      <td>NaN</td>\n",
              "      <td>NaN</td>\n",
              "      <td>-19.24</td>\n",
              "    </tr>\n",
              "    <tr>\n",
              "      <th>1</th>\n",
              "      <td>1992.9865</td>\n",
              "      <td>-19.65</td>\n",
              "      <td>NaN</td>\n",
              "      <td>NaN</td>\n",
              "      <td>NaN</td>\n",
              "      <td>-19.65</td>\n",
              "    </tr>\n",
              "    <tr>\n",
              "      <th>2</th>\n",
              "      <td>1993.0123</td>\n",
              "      <td>-15.32</td>\n",
              "      <td>NaN</td>\n",
              "      <td>NaN</td>\n",
              "      <td>NaN</td>\n",
              "      <td>-15.32</td>\n",
              "    </tr>\n",
              "    <tr>\n",
              "      <th>3</th>\n",
              "      <td>1993.0407</td>\n",
              "      <td>-19.12</td>\n",
              "      <td>NaN</td>\n",
              "      <td>NaN</td>\n",
              "      <td>NaN</td>\n",
              "      <td>-19.12</td>\n",
              "    </tr>\n",
              "    <tr>\n",
              "      <th>4</th>\n",
              "      <td>1993.0660</td>\n",
              "      <td>-23.64</td>\n",
              "      <td>NaN</td>\n",
              "      <td>NaN</td>\n",
              "      <td>NaN</td>\n",
              "      <td>-23.64</td>\n",
              "    </tr>\n",
              "  </tbody>\n",
              "</table>\n",
              "</div>\n",
              "      <button class=\"colab-df-convert\" onclick=\"convertToInteractive('df-b723b901-94e6-4aac-90e4-8b66c866394c')\"\n",
              "              title=\"Convert this dataframe to an interactive table.\"\n",
              "              style=\"display:none;\">\n",
              "        \n",
              "  <svg xmlns=\"http://www.w3.org/2000/svg\" height=\"24px\"viewBox=\"0 0 24 24\"\n",
              "       width=\"24px\">\n",
              "    <path d=\"M0 0h24v24H0V0z\" fill=\"none\"/>\n",
              "    <path d=\"M18.56 5.44l.94 2.06.94-2.06 2.06-.94-2.06-.94-.94-2.06-.94 2.06-2.06.94zm-11 1L8.5 8.5l.94-2.06 2.06-.94-2.06-.94L8.5 2.5l-.94 2.06-2.06.94zm10 10l.94 2.06.94-2.06 2.06-.94-2.06-.94-.94-2.06-.94 2.06-2.06.94z\"/><path d=\"M17.41 7.96l-1.37-1.37c-.4-.4-.92-.59-1.43-.59-.52 0-1.04.2-1.43.59L10.3 9.45l-7.72 7.72c-.78.78-.78 2.05 0 2.83L4 21.41c.39.39.9.59 1.41.59.51 0 1.02-.2 1.41-.59l7.78-7.78 2.81-2.81c.8-.78.8-2.07 0-2.86zM5.41 20L4 18.59l7.72-7.72 1.47 1.35L5.41 20z\"/>\n",
              "  </svg>\n",
              "      </button>\n",
              "      \n",
              "  <style>\n",
              "    .colab-df-container {\n",
              "      display:flex;\n",
              "      flex-wrap:wrap;\n",
              "      gap: 12px;\n",
              "    }\n",
              "\n",
              "    .colab-df-convert {\n",
              "      background-color: #E8F0FE;\n",
              "      border: none;\n",
              "      border-radius: 50%;\n",
              "      cursor: pointer;\n",
              "      display: none;\n",
              "      fill: #1967D2;\n",
              "      height: 32px;\n",
              "      padding: 0 0 0 0;\n",
              "      width: 32px;\n",
              "    }\n",
              "\n",
              "    .colab-df-convert:hover {\n",
              "      background-color: #E2EBFA;\n",
              "      box-shadow: 0px 1px 2px rgba(60, 64, 67, 0.3), 0px 1px 3px 1px rgba(60, 64, 67, 0.15);\n",
              "      fill: #174EA6;\n",
              "    }\n",
              "\n",
              "    [theme=dark] .colab-df-convert {\n",
              "      background-color: #3B4455;\n",
              "      fill: #D2E3FC;\n",
              "    }\n",
              "\n",
              "    [theme=dark] .colab-df-convert:hover {\n",
              "      background-color: #434B5C;\n",
              "      box-shadow: 0px 1px 3px 1px rgba(0, 0, 0, 0.15);\n",
              "      filter: drop-shadow(0px 1px 2px rgba(0, 0, 0, 0.3));\n",
              "      fill: #FFFFFF;\n",
              "    }\n",
              "  </style>\n",
              "\n",
              "      <script>\n",
              "        const buttonEl =\n",
              "          document.querySelector('#df-b723b901-94e6-4aac-90e4-8b66c866394c button.colab-df-convert');\n",
              "        buttonEl.style.display =\n",
              "          google.colab.kernel.accessAllowed ? 'block' : 'none';\n",
              "\n",
              "        async function convertToInteractive(key) {\n",
              "          const element = document.querySelector('#df-b723b901-94e6-4aac-90e4-8b66c866394c');\n",
              "          const dataTable =\n",
              "            await google.colab.kernel.invokeFunction('convertToInteractive',\n",
              "                                                     [key], {});\n",
              "          if (!dataTable) return;\n",
              "\n",
              "          const docLinkHtml = 'Like what you see? Visit the ' +\n",
              "            '<a target=\"_blank\" href=https://colab.research.google.com/notebooks/data_table.ipynb>data table notebook</a>'\n",
              "            + ' to learn more about interactive tables.';\n",
              "          element.innerHTML = '';\n",
              "          dataTable['output_type'] = 'display_data';\n",
              "          await google.colab.output.renderOutput(dataTable, element);\n",
              "          const docLink = document.createElement('div');\n",
              "          docLink.innerHTML = docLinkHtml;\n",
              "          element.appendChild(docLink);\n",
              "        }\n",
              "      </script>\n",
              "    </div>\n",
              "  </div>\n",
              "  "
            ]
          },
          "metadata": {},
          "execution_count": 6
        }
      ]
    },
    {
      "cell_type": "markdown",
      "metadata": {
        "id": "n5QIoYpjRA3t"
      },
      "source": [
        "<b>Plot this maximum sea level as a function of year using a black line of linewidth 0.5.$^{\\dagger}$  Remember to ALWAYS label your axes, including units in square brackets when necessary.</b>\n",
        "\n",
        "<small>$^{\\dagger}$ you can use `noaa.plot?` to see the keywords associated with the plot function; there are <u>many</u> ways to customize plots.</small>"
      ]
    },
    {
      "cell_type": "code",
      "metadata": {
        "id": "Uy0bAFLVavhR",
        "colab": {
          "base_uri": "https://localhost:8080/",
          "height": 334
        },
        "outputId": "ffce7ea3-797c-42f6-a3b9-b8f34176e1e9"
      },
      "source": [
        "ax = noaa.plot(\"year\", \"max_level\",linewidth=0.5,color=\"black\",figsize=(10, 5), grid=True, xlabel=\"Year\",\n",
        "          ylabel=\"Sea level relative to 2000 [mm]\",label=\"NOAA data\")\n"
      ],
      "execution_count": null,
      "outputs": [
        {
          "output_type": "display_data",
          "data": {
            "text/plain": [
              "<Figure size 720x360 with 1 Axes>"
            ],
            "image/png": "[encoded data removed]"
          },
          "metadata": {
            "needs_background": "light"
          }
        }
      ]
    },
    {
      "cell_type": "markdown",
      "metadata": {
        "id": "zt9V9a0-a9Fc"
      },
      "source": [
        "Let's compare this global value to values at smaller spatial scales.\n",
        "\n",
        "<b>In the same way that you loaded the global data with seasonal effects removed, load in data for the Pacific Ocean, the Atlantic Ocean, the Indian Ocean, and the Southern Ocean (each in its own DataFrame), and for each of these new DataFrames, create a `\"max_level\"` column that is the max sea level for that region .</b>"
      ]
    },
    {
      "cell_type": "code",
      "metadata": {
        "id": "P3m3W6MVh37e"
      },
      "source": [
        "pac_fname=\"https://www.star.nesdis.noaa.gov/socd/lsa/SeaLevelRise/slr/slr_sla_pac_free_txj1j2_90.csv\"\n",
        "atl_fname=\"https://www.star.nesdis.noaa.gov/socd/lsa/SeaLevelRise/slr/slr_sla_atl_free_txj1j2_90.csv\"\n",
        "ind_fname=\"https://www.star.nesdis.noaa.gov/socd/lsa/SeaLevelRise/slr/slr_sla_ind_free_txj1j2_90.csv\"\n",
        "so_fname=\"https://www.star.nesdis.noaa.gov/socd/lsa/SeaLevelRise/slr/slr_sla_so_free_txj1j2.csv\""
      ],
      "execution_count": null,
      "outputs": []
    },
    {
      "cell_type": "code",
      "source": [
        "pac = pd.read_csv(pac_fname,skiprows=5)\n",
        "pac_sub = pac[cols]\n",
        "pac[\"max_level\"]=pac_sub.max(axis=1)\n",
        "pac.head(5)"
      ],
      "metadata": {
        "colab": {
          "base_uri": "https://localhost:8080/",
          "height": 206
        },
        "id": "tmX6ryzl5rBS",
        "outputId": "9ef62410-5fd3-4231-a51e-14f0ad2abbad"
      },
      "execution_count": null,
      "outputs": [
        {
          "output_type": "execute_result",
          "data": {
            "text/plain": [
              "        year  TOPEX/Poseidon  Jason-1  Jason-2  Jason-3  max_level\n",
              "0  1992.9614          -13.01      NaN      NaN      NaN     -13.01\n",
              "1  1992.9864          -24.28      NaN      NaN      NaN     -24.28\n",
              "2  1993.0122          -20.58      NaN      NaN      NaN     -20.58\n",
              "3  1993.0405          -28.93      NaN      NaN      NaN     -28.93\n",
              "4  1993.0659          -29.39      NaN      NaN      NaN     -29.39"
            ],
            "text/html": [
              "\n",
              "  <div id=\"df-b9b0535b-9678-4283-8cf1-320dfb6d48e9\">\n",
              "    <div class=\"colab-df-container\">\n",
              "      <div>\n",
              "<style scoped>\n",
              "    .dataframe tbody tr th:only-of-type {\n",
              "        vertical-align: middle;\n",
              "    }\n",
              "\n",
              "    .dataframe tbody tr th {\n",
              "        vertical-align: top;\n",
              "    }\n",
              "\n",
              "    .dataframe thead th {\n",
              "        text-align: right;\n",
              "    }\n",
              "</style>\n",
              "<table border=\"1\" class=\"dataframe\">\n",
              "  <thead>\n",
              "    <tr style=\"text-align: right;\">\n",
              "      <th></th>\n",
              "      <th>year</th>\n",
              "      <th>TOPEX/Poseidon</th>\n",
              "      <th>Jason-1</th>\n",
              "      <th>Jason-2</th>\n",
              "      <th>Jason-3</th>\n",
              "      <th>max_level</th>\n",
              "    </tr>\n",
              "  </thead>\n",
              "  <tbody>\n",
              "    <tr>\n",
              "      <th>0</th>\n",
              "      <td>1992.9614</td>\n",
              "      <td>-13.01</td>\n",
              "      <td>NaN</td>\n",
              "      <td>NaN</td>\n",
              "      <td>NaN</td>\n",
              "      <td>-13.01</td>\n",
              "    </tr>\n",
              "    <tr>\n",
              "      <th>1</th>\n",
              "      <td>1992.9864</td>\n",
              "      <td>-24.28</td>\n",
              "      <td>NaN</td>\n",
              "      <td>NaN</td>\n",
              "      <td>NaN</td>\n",
              "      <td>-24.28</td>\n",
              "    </tr>\n",
              "    <tr>\n",
              "      <th>2</th>\n",
              "      <td>1993.0122</td>\n",
              "      <td>-20.58</td>\n",
              "      <td>NaN</td>\n",
              "      <td>NaN</td>\n",
              "      <td>NaN</td>\n",
              "      <td>-20.58</td>\n",
              "    </tr>\n",
              "    <tr>\n",
              "      <th>3</th>\n",
              "      <td>1993.0405</td>\n",
              "      <td>-28.93</td>\n",
              "      <td>NaN</td>\n",
              "      <td>NaN</td>\n",
              "      <td>NaN</td>\n",
              "      <td>-28.93</td>\n",
              "    </tr>\n",
              "    <tr>\n",
              "      <th>4</th>\n",
              "      <td>1993.0659</td>\n",
              "      <td>-29.39</td>\n",
              "      <td>NaN</td>\n",
              "      <td>NaN</td>\n",
              "      <td>NaN</td>\n",
              "      <td>-29.39</td>\n",
              "    </tr>\n",
              "  </tbody>\n",
              "</table>\n",
              "</div>\n",
              "      <button class=\"colab-df-convert\" onclick=\"convertToInteractive('df-b9b0535b-9678-4283-8cf1-320dfb6d48e9')\"\n",
              "              title=\"Convert this dataframe to an interactive table.\"\n",
              "              style=\"display:none;\">\n",
              "        \n",
              "  <svg xmlns=\"http://www.w3.org/2000/svg\" height=\"24px\"viewBox=\"0 0 24 24\"\n",
              "       width=\"24px\">\n",
              "    <path d=\"M0 0h24v24H0V0z\" fill=\"none\"/>\n",
              "    <path d=\"M18.56 5.44l.94 2.06.94-2.06 2.06-.94-2.06-.94-.94-2.06-.94 2.06-2.06.94zm-11 1L8.5 8.5l.94-2.06 2.06-.94-2.06-.94L8.5 2.5l-.94 2.06-2.06.94zm10 10l.94 2.06.94-2.06 2.06-.94-2.06-.94-.94-2.06-.94 2.06-2.06.94z\"/><path d=\"M17.41 7.96l-1.37-1.37c-.4-.4-.92-.59-1.43-.59-.52 0-1.04.2-1.43.59L10.3 9.45l-7.72 7.72c-.78.78-.78 2.05 0 2.83L4 21.41c.39.39.9.59 1.41.59.51 0 1.02-.2 1.41-.59l7.78-7.78 2.81-2.81c.8-.78.8-2.07 0-2.86zM5.41 20L4 18.59l7.72-7.72 1.47 1.35L5.41 20z\"/>\n",
              "  </svg>\n",
              "      </button>\n",
              "      \n",
              "  <style>\n",
              "    .colab-df-container {\n",
              "      display:flex;\n",
              "      flex-wrap:wrap;\n",
              "      gap: 12px;\n",
              "    }\n",
              "\n",
              "    .colab-df-convert {\n",
              "      background-color: #E8F0FE;\n",
              "      border: none;\n",
              "      border-radius: 50%;\n",
              "      cursor: pointer;\n",
              "      display: none;\n",
              "      fill: #1967D2;\n",
              "      height: 32px;\n",
              "      padding: 0 0 0 0;\n",
              "      width: 32px;\n",
              "    }\n",
              "\n",
              "    .colab-df-convert:hover {\n",
              "      background-color: #E2EBFA;\n",
              "      box-shadow: 0px 1px 2px rgba(60, 64, 67, 0.3), 0px 1px 3px 1px rgba(60, 64, 67, 0.15);\n",
              "      fill: #174EA6;\n",
              "    }\n",
              "\n",
              "    [theme=dark] .colab-df-convert {\n",
              "      background-color: #3B4455;\n",
              "      fill: #D2E3FC;\n",
              "    }\n",
              "\n",
              "    [theme=dark] .colab-df-convert:hover {\n",
              "      background-color: #434B5C;\n",
              "      box-shadow: 0px 1px 3px 1px rgba(0, 0, 0, 0.15);\n",
              "      filter: drop-shadow(0px 1px 2px rgba(0, 0, 0, 0.3));\n",
              "      fill: #FFFFFF;\n",
              "    }\n",
              "  </style>\n",
              "\n",
              "      <script>\n",
              "        const buttonEl =\n",
              "          document.querySelector('#df-b9b0535b-9678-4283-8cf1-320dfb6d48e9 button.colab-df-convert');\n",
              "        buttonEl.style.display =\n",
              "          google.colab.kernel.accessAllowed ? 'block' : 'none';\n",
              "\n",
              "        async function convertToInteractive(key) {\n",
              "          const element = document.querySelector('#df-b9b0535b-9678-4283-8cf1-320dfb6d48e9');\n",
              "          const dataTable =\n",
              "            await google.colab.kernel.invokeFunction('convertToInteractive',\n",
              "                                                     [key], {});\n",
              "          if (!dataTable) return;\n",
              "\n",
              "          const docLinkHtml = 'Like what you see? Visit the ' +\n",
              "            '<a target=\"_blank\" href=https://colab.research.google.com/notebooks/data_table.ipynb>data table notebook</a>'\n",
              "            + ' to learn more about interactive tables.';\n",
              "          element.innerHTML = '';\n",
              "          dataTable['output_type'] = 'display_data';\n",
              "          await google.colab.output.renderOutput(dataTable, element);\n",
              "          const docLink = document.createElement('div');\n",
              "          docLink.innerHTML = docLinkHtml;\n",
              "          element.appendChild(docLink);\n",
              "        }\n",
              "      </script>\n",
              "    </div>\n",
              "  </div>\n",
              "  "
            ]
          },
          "metadata": {},
          "execution_count": 9
        }
      ]
    },
    {
      "cell_type": "code",
      "source": [
        "atl = pd.read_csv(atl_fname,skiprows=5)\n",
        "atl_sub = atl[cols]\n",
        "atl[\"max_level\"]=atl_sub.max(axis=1)\n",
        "atl.head(5)"
      ],
      "metadata": {
        "colab": {
          "base_uri": "https://localhost:8080/",
          "height": 206
        },
        "id": "qjbKfqXj5rIa",
        "outputId": "67b81212-02bf-4c77-c5c2-7ffb1e76496e"
      },
      "execution_count": null,
      "outputs": [
        {
          "output_type": "execute_result",
          "data": {
            "text/plain": [
              "        year  TOPEX/Poseidon  Jason-1  Jason-2  Jason-3  max_level\n",
              "0  1992.9615          -24.88      NaN      NaN      NaN     -24.88\n",
              "1  1992.9870          -17.20      NaN      NaN      NaN     -17.20\n",
              "2  1993.0128          -16.66      NaN      NaN      NaN     -16.66\n",
              "3  1993.0413          -11.66      NaN      NaN      NaN     -11.66\n",
              "4  1993.0663          -18.86      NaN      NaN      NaN     -18.86"
            ],
            "text/html": [
              "\n",
              "  <div id=\"df-b5a13a62-1efe-4b4d-acf0-2bd98011fde8\">\n",
              "    <div class=\"colab-df-container\">\n",
              "      <div>\n",
              "<style scoped>\n",
              "    .dataframe tbody tr th:only-of-type {\n",
              "        vertical-align: middle;\n",
              "    }\n",
              "\n",
              "    .dataframe tbody tr th {\n",
              "        vertical-align: top;\n",
              "    }\n",
              "\n",
              "    .dataframe thead th {\n",
              "        text-align: right;\n",
              "    }\n",
              "</style>\n",
              "<table border=\"1\" class=\"dataframe\">\n",
              "  <thead>\n",
              "    <tr style=\"text-align: right;\">\n",
              "      <th></th>\n",
              "      <th>year</th>\n",
              "      <th>TOPEX/Poseidon</th>\n",
              "      <th>Jason-1</th>\n",
              "      <th>Jason-2</th>\n",
              "      <th>Jason-3</th>\n",
              "      <th>max_level</th>\n",
              "    </tr>\n",
              "  </thead>\n",
              "  <tbody>\n",
              "    <tr>\n",
              "      <th>0</th>\n",
              "      <td>1992.9615</td>\n",
              "      <td>-24.88</td>\n",
              "      <td>NaN</td>\n",
              "      <td>NaN</td>\n",
              "      <td>NaN</td>\n",
              "      <td>-24.88</td>\n",
              "    </tr>\n",
              "    <tr>\n",
              "      <th>1</th>\n",
              "      <td>1992.9870</td>\n",
              "      <td>-17.20</td>\n",
              "      <td>NaN</td>\n",
              "      <td>NaN</td>\n",
              "      <td>NaN</td>\n",
              "      <td>-17.20</td>\n",
              "    </tr>\n",
              "    <tr>\n",
              "      <th>2</th>\n",
              "      <td>1993.0128</td>\n",
              "      <td>-16.66</td>\n",
              "      <td>NaN</td>\n",
              "      <td>NaN</td>\n",
              "      <td>NaN</td>\n",
              "      <td>-16.66</td>\n",
              "    </tr>\n",
              "    <tr>\n",
              "      <th>3</th>\n",
              "      <td>1993.0413</td>\n",
              "      <td>-11.66</td>\n",
              "      <td>NaN</td>\n",
              "      <td>NaN</td>\n",
              "      <td>NaN</td>\n",
              "      <td>-11.66</td>\n",
              "    </tr>\n",
              "    <tr>\n",
              "      <th>4</th>\n",
              "      <td>1993.0663</td>\n",
              "      <td>-18.86</td>\n",
              "      <td>NaN</td>\n",
              "      <td>NaN</td>\n",
              "      <td>NaN</td>\n",
              "      <td>-18.86</td>\n",
              "    </tr>\n",
              "  </tbody>\n",
              "</table>\n",
              "</div>\n",
              "      <button class=\"colab-df-convert\" onclick=\"convertToInteractive('df-b5a13a62-1efe-4b4d-acf0-2bd98011fde8')\"\n",
              "              title=\"Convert this dataframe to an interactive table.\"\n",
              "              style=\"display:none;\">\n",
              "        \n",
              "  <svg xmlns=\"http://www.w3.org/2000/svg\" height=\"24px\"viewBox=\"0 0 24 24\"\n",
              "       width=\"24px\">\n",
              "    <path d=\"M0 0h24v24H0V0z\" fill=\"none\"/>\n",
              "    <path d=\"M18.56 5.44l.94 2.06.94-2.06 2.06-.94-2.06-.94-.94-2.06-.94 2.06-2.06.94zm-11 1L8.5 8.5l.94-2.06 2.06-.94-2.06-.94L8.5 2.5l-.94 2.06-2.06.94zm10 10l.94 2.06.94-2.06 2.06-.94-2.06-.94-.94-2.06-.94 2.06-2.06.94z\"/><path d=\"M17.41 7.96l-1.37-1.37c-.4-.4-.92-.59-1.43-.59-.52 0-1.04.2-1.43.59L10.3 9.45l-7.72 7.72c-.78.78-.78 2.05 0 2.83L4 21.41c.39.39.9.59 1.41.59.51 0 1.02-.2 1.41-.59l7.78-7.78 2.81-2.81c.8-.78.8-2.07 0-2.86zM5.41 20L4 18.59l7.72-7.72 1.47 1.35L5.41 20z\"/>\n",
              "  </svg>\n",
              "      </button>\n",
              "      \n",
              "  <style>\n",
              "    .colab-df-container {\n",
              "      display:flex;\n",
              "      flex-wrap:wrap;\n",
              "      gap: 12px;\n",
              "    }\n",
              "\n",
              "    .colab-df-convert {\n",
              "      background-color: #E8F0FE;\n",
              "      border: none;\n",
              "      border-radius: 50%;\n",
              "      cursor: pointer;\n",
              "      display: none;\n",
              "      fill: #1967D2;\n",
              "      height: 32px;\n",
              "      padding: 0 0 0 0;\n",
              "      width: 32px;\n",
              "    }\n",
              "\n",
              "    .colab-df-convert:hover {\n",
              "      background-color: #E2EBFA;\n",
              "      box-shadow: 0px 1px 2px rgba(60, 64, 67, 0.3), 0px 1px 3px 1px rgba(60, 64, 67, 0.15);\n",
              "      fill: #174EA6;\n",
              "    }\n",
              "\n",
              "    [theme=dark] .colab-df-convert {\n",
              "      background-color: #3B4455;\n",
              "      fill: #D2E3FC;\n",
              "    }\n",
              "\n",
              "    [theme=dark] .colab-df-convert:hover {\n",
              "      background-color: #434B5C;\n",
              "      box-shadow: 0px 1px 3px 1px rgba(0, 0, 0, 0.15);\n",
              "      filter: drop-shadow(0px 1px 2px rgba(0, 0, 0, 0.3));\n",
              "      fill: #FFFFFF;\n",
              "    }\n",
              "  </style>\n",
              "\n",
              "      <script>\n",
              "        const buttonEl =\n",
              "          document.querySelector('#df-b5a13a62-1efe-4b4d-acf0-2bd98011fde8 button.colab-df-convert');\n",
              "        buttonEl.style.display =\n",
              "          google.colab.kernel.accessAllowed ? 'block' : 'none';\n",
              "\n",
              "        async function convertToInteractive(key) {\n",
              "          const element = document.querySelector('#df-b5a13a62-1efe-4b4d-acf0-2bd98011fde8');\n",
              "          const dataTable =\n",
              "            await google.colab.kernel.invokeFunction('convertToInteractive',\n",
              "                                                     [key], {});\n",
              "          if (!dataTable) return;\n",
              "\n",
              "          const docLinkHtml = 'Like what you see? Visit the ' +\n",
              "            '<a target=\"_blank\" href=https://colab.research.google.com/notebooks/data_table.ipynb>data table notebook</a>'\n",
              "            + ' to learn more about interactive tables.';\n",
              "          element.innerHTML = '';\n",
              "          dataTable['output_type'] = 'display_data';\n",
              "          await google.colab.output.renderOutput(dataTable, element);\n",
              "          const docLink = document.createElement('div');\n",
              "          docLink.innerHTML = docLinkHtml;\n",
              "          element.appendChild(docLink);\n",
              "        }\n",
              "      </script>\n",
              "    </div>\n",
              "  </div>\n",
              "  "
            ]
          },
          "metadata": {},
          "execution_count": 10
        }
      ]
    },
    {
      "cell_type": "code",
      "source": [
        "ind = pd.read_csv(ind_fname,skiprows=5)\n",
        "ind_sub = ind[cols]\n",
        "ind[\"max_level\"]=ind_sub.max(axis=1)\n",
        "ind.head(5)"
      ],
      "metadata": {
        "colab": {
          "base_uri": "https://localhost:8080/",
          "height": 206
        },
        "id": "ZNO8n1Dz5rLI",
        "outputId": "4f8ba172-31de-45a4-cfc8-bfc4a4c277bc"
      },
      "execution_count": null,
      "outputs": [
        {
          "output_type": "execute_result",
          "data": {
            "text/plain": [
              "        year  TOPEX/Poseidon  Jason-1  Jason-2  Jason-3  max_level\n",
              "0  1992.9614          -28.52      NaN      NaN      NaN     -28.52\n",
              "1  1992.9865          -12.33      NaN      NaN      NaN     -12.33\n",
              "2  1993.0121            2.22      NaN      NaN      NaN       2.22\n",
              "3  1993.0405           -3.17      NaN      NaN      NaN      -3.17\n",
              "4  1993.0659          -14.62      NaN      NaN      NaN     -14.62"
            ],
            "text/html": [
              "\n",
              "  <div id=\"df-00370339-5227-465b-98ba-01f49def848e\">\n",
              "    <div class=\"colab-df-container\">\n",
              "      <div>\n",
              "<style scoped>\n",
              "    .dataframe tbody tr th:only-of-type {\n",
              "        vertical-align: middle;\n",
              "    }\n",
              "\n",
              "    .dataframe tbody tr th {\n",
              "        vertical-align: top;\n",
              "    }\n",
              "\n",
              "    .dataframe thead th {\n",
              "        text-align: right;\n",
              "    }\n",
              "</style>\n",
              "<table border=\"1\" class=\"dataframe\">\n",
              "  <thead>\n",
              "    <tr style=\"text-align: right;\">\n",
              "      <th></th>\n",
              "      <th>year</th>\n",
              "      <th>TOPEX/Poseidon</th>\n",
              "      <th>Jason-1</th>\n",
              "      <th>Jason-2</th>\n",
              "      <th>Jason-3</th>\n",
              "      <th>max_level</th>\n",
              "    </tr>\n",
              "  </thead>\n",
              "  <tbody>\n",
              "    <tr>\n",
              "      <th>0</th>\n",
              "      <td>1992.9614</td>\n",
              "      <td>-28.52</td>\n",
              "      <td>NaN</td>\n",
              "      <td>NaN</td>\n",
              "      <td>NaN</td>\n",
              "      <td>-28.52</td>\n",
              "    </tr>\n",
              "    <tr>\n",
              "      <th>1</th>\n",
              "      <td>1992.9865</td>\n",
              "      <td>-12.33</td>\n",
              "      <td>NaN</td>\n",
              "      <td>NaN</td>\n",
              "      <td>NaN</td>\n",
              "      <td>-12.33</td>\n",
              "    </tr>\n",
              "    <tr>\n",
              "      <th>2</th>\n",
              "      <td>1993.0121</td>\n",
              "      <td>2.22</td>\n",
              "      <td>NaN</td>\n",
              "      <td>NaN</td>\n",
              "      <td>NaN</td>\n",
              "      <td>2.22</td>\n",
              "    </tr>\n",
              "    <tr>\n",
              "      <th>3</th>\n",
              "      <td>1993.0405</td>\n",
              "      <td>-3.17</td>\n",
              "      <td>NaN</td>\n",
              "      <td>NaN</td>\n",
              "      <td>NaN</td>\n",
              "      <td>-3.17</td>\n",
              "    </tr>\n",
              "    <tr>\n",
              "      <th>4</th>\n",
              "      <td>1993.0659</td>\n",
              "      <td>-14.62</td>\n",
              "      <td>NaN</td>\n",
              "      <td>NaN</td>\n",
              "      <td>NaN</td>\n",
              "      <td>-14.62</td>\n",
              "    </tr>\n",
              "  </tbody>\n",
              "</table>\n",
              "</div>\n",
              "      <button class=\"colab-df-convert\" onclick=\"convertToInteractive('df-00370339-5227-465b-98ba-01f49def848e')\"\n",
              "              title=\"Convert this dataframe to an interactive table.\"\n",
              "              style=\"display:none;\">\n",
              "        \n",
              "  <svg xmlns=\"http://www.w3.org/2000/svg\" height=\"24px\"viewBox=\"0 0 24 24\"\n",
              "       width=\"24px\">\n",
              "    <path d=\"M0 0h24v24H0V0z\" fill=\"none\"/>\n",
              "    <path d=\"M18.56 5.44l.94 2.06.94-2.06 2.06-.94-2.06-.94-.94-2.06-.94 2.06-2.06.94zm-11 1L8.5 8.5l.94-2.06 2.06-.94-2.06-.94L8.5 2.5l-.94 2.06-2.06.94zm10 10l.94 2.06.94-2.06 2.06-.94-2.06-.94-.94-2.06-.94 2.06-2.06.94z\"/><path d=\"M17.41 7.96l-1.37-1.37c-.4-.4-.92-.59-1.43-.59-.52 0-1.04.2-1.43.59L10.3 9.45l-7.72 7.72c-.78.78-.78 2.05 0 2.83L4 21.41c.39.39.9.59 1.41.59.51 0 1.02-.2 1.41-.59l7.78-7.78 2.81-2.81c.8-.78.8-2.07 0-2.86zM5.41 20L4 18.59l7.72-7.72 1.47 1.35L5.41 20z\"/>\n",
              "  </svg>\n",
              "      </button>\n",
              "      \n",
              "  <style>\n",
              "    .colab-df-container {\n",
              "      display:flex;\n",
              "      flex-wrap:wrap;\n",
              "      gap: 12px;\n",
              "    }\n",
              "\n",
              "    .colab-df-convert {\n",
              "      background-color: #E8F0FE;\n",
              "      border: none;\n",
              "      border-radius: 50%;\n",
              "      cursor: pointer;\n",
              "      display: none;\n",
              "      fill: #1967D2;\n",
              "      height: 32px;\n",
              "      padding: 0 0 0 0;\n",
              "      width: 32px;\n",
              "    }\n",
              "\n",
              "    .colab-df-convert:hover {\n",
              "      background-color: #E2EBFA;\n",
              "      box-shadow: 0px 1px 2px rgba(60, 64, 67, 0.3), 0px 1px 3px 1px rgba(60, 64, 67, 0.15);\n",
              "      fill: #174EA6;\n",
              "    }\n",
              "\n",
              "    [theme=dark] .colab-df-convert {\n",
              "      background-color: #3B4455;\n",
              "      fill: #D2E3FC;\n",
              "    }\n",
              "\n",
              "    [theme=dark] .colab-df-convert:hover {\n",
              "      background-color: #434B5C;\n",
              "      box-shadow: 0px 1px 3px 1px rgba(0, 0, 0, 0.15);\n",
              "      filter: drop-shadow(0px 1px 2px rgba(0, 0, 0, 0.3));\n",
              "      fill: #FFFFFF;\n",
              "    }\n",
              "  </style>\n",
              "\n",
              "      <script>\n",
              "        const buttonEl =\n",
              "          document.querySelector('#df-00370339-5227-465b-98ba-01f49def848e button.colab-df-convert');\n",
              "        buttonEl.style.display =\n",
              "          google.colab.kernel.accessAllowed ? 'block' : 'none';\n",
              "\n",
              "        async function convertToInteractive(key) {\n",
              "          const element = document.querySelector('#df-00370339-5227-465b-98ba-01f49def848e');\n",
              "          const dataTable =\n",
              "            await google.colab.kernel.invokeFunction('convertToInteractive',\n",
              "                                                     [key], {});\n",
              "          if (!dataTable) return;\n",
              "\n",
              "          const docLinkHtml = 'Like what you see? Visit the ' +\n",
              "            '<a target=\"_blank\" href=https://colab.research.google.com/notebooks/data_table.ipynb>data table notebook</a>'\n",
              "            + ' to learn more about interactive tables.';\n",
              "          element.innerHTML = '';\n",
              "          dataTable['output_type'] = 'display_data';\n",
              "          await google.colab.output.renderOutput(dataTable, element);\n",
              "          const docLink = document.createElement('div');\n",
              "          docLink.innerHTML = docLinkHtml;\n",
              "          element.appendChild(docLink);\n",
              "        }\n",
              "      </script>\n",
              "    </div>\n",
              "  </div>\n",
              "  "
            ]
          },
          "metadata": {},
          "execution_count": 11
        }
      ]
    },
    {
      "cell_type": "code",
      "source": [
        "so = pd.read_csv(so_fname,skiprows=5)\n",
        "so_sub = so[cols]\n",
        "so[\"max_level\"]=so_sub.max(axis=1)\n",
        "so.head(5)"
      ],
      "metadata": {
        "colab": {
          "base_uri": "https://localhost:8080/",
          "height": 206
        },
        "id": "09RwYbXy5rOj",
        "outputId": "4c7f2bd6-f253-4291-8ac5-daa542b70012"
      },
      "execution_count": null,
      "outputs": [
        {
          "output_type": "execute_result",
          "data": {
            "text/plain": [
              "        year  TOPEX/Poseidon  Jason-1  Jason-2  Jason-3  max_level\n",
              "0  1992.9612          -24.13      NaN      NaN      NaN     -24.13\n",
              "1  1992.9865          -19.85      NaN      NaN      NaN     -19.85\n",
              "2  1993.0122          -11.83      NaN      NaN      NaN     -11.83\n",
              "3  1993.0406          -20.97      NaN      NaN      NaN     -20.97\n",
              "4  1993.0659          -27.02      NaN      NaN      NaN     -27.02"
            ],
            "text/html": [
              "\n",
              "  <div id=\"df-9f34a977-09b3-413a-b60a-25af4fd544a4\">\n",
              "    <div class=\"colab-df-container\">\n",
              "      <div>\n",
              "<style scoped>\n",
              "    .dataframe tbody tr th:only-of-type {\n",
              "        vertical-align: middle;\n",
              "    }\n",
              "\n",
              "    .dataframe tbody tr th {\n",
              "        vertical-align: top;\n",
              "    }\n",
              "\n",
              "    .dataframe thead th {\n",
              "        text-align: right;\n",
              "    }\n",
              "</style>\n",
              "<table border=\"1\" class=\"dataframe\">\n",
              "  <thead>\n",
              "    <tr style=\"text-align: right;\">\n",
              "      <th></th>\n",
              "      <th>year</th>\n",
              "      <th>TOPEX/Poseidon</th>\n",
              "      <th>Jason-1</th>\n",
              "      <th>Jason-2</th>\n",
              "      <th>Jason-3</th>\n",
              "      <th>max_level</th>\n",
              "    </tr>\n",
              "  </thead>\n",
              "  <tbody>\n",
              "    <tr>\n",
              "      <th>0</th>\n",
              "      <td>1992.9612</td>\n",
              "      <td>-24.13</td>\n",
              "      <td>NaN</td>\n",
              "      <td>NaN</td>\n",
              "      <td>NaN</td>\n",
              "      <td>-24.13</td>\n",
              "    </tr>\n",
              "    <tr>\n",
              "      <th>1</th>\n",
              "      <td>1992.9865</td>\n",
              "      <td>-19.85</td>\n",
              "      <td>NaN</td>\n",
              "      <td>NaN</td>\n",
              "      <td>NaN</td>\n",
              "      <td>-19.85</td>\n",
              "    </tr>\n",
              "    <tr>\n",
              "      <th>2</th>\n",
              "      <td>1993.0122</td>\n",
              "      <td>-11.83</td>\n",
              "      <td>NaN</td>\n",
              "      <td>NaN</td>\n",
              "      <td>NaN</td>\n",
              "      <td>-11.83</td>\n",
              "    </tr>\n",
              "    <tr>\n",
              "      <th>3</th>\n",
              "      <td>1993.0406</td>\n",
              "      <td>-20.97</td>\n",
              "      <td>NaN</td>\n",
              "      <td>NaN</td>\n",
              "      <td>NaN</td>\n",
              "      <td>-20.97</td>\n",
              "    </tr>\n",
              "    <tr>\n",
              "      <th>4</th>\n",
              "      <td>1993.0659</td>\n",
              "      <td>-27.02</td>\n",
              "      <td>NaN</td>\n",
              "      <td>NaN</td>\n",
              "      <td>NaN</td>\n",
              "      <td>-27.02</td>\n",
              "    </tr>\n",
              "  </tbody>\n",
              "</table>\n",
              "</div>\n",
              "      <button class=\"colab-df-convert\" onclick=\"convertToInteractive('df-9f34a977-09b3-413a-b60a-25af4fd544a4')\"\n",
              "              title=\"Convert this dataframe to an interactive table.\"\n",
              "              style=\"display:none;\">\n",
              "        \n",
              "  <svg xmlns=\"http://www.w3.org/2000/svg\" height=\"24px\"viewBox=\"0 0 24 24\"\n",
              "       width=\"24px\">\n",
              "    <path d=\"M0 0h24v24H0V0z\" fill=\"none\"/>\n",
              "    <path d=\"M18.56 5.44l.94 2.06.94-2.06 2.06-.94-2.06-.94-.94-2.06-.94 2.06-2.06.94zm-11 1L8.5 8.5l.94-2.06 2.06-.94-2.06-.94L8.5 2.5l-.94 2.06-2.06.94zm10 10l.94 2.06.94-2.06 2.06-.94-2.06-.94-.94-2.06-.94 2.06-2.06.94z\"/><path d=\"M17.41 7.96l-1.37-1.37c-.4-.4-.92-.59-1.43-.59-.52 0-1.04.2-1.43.59L10.3 9.45l-7.72 7.72c-.78.78-.78 2.05 0 2.83L4 21.41c.39.39.9.59 1.41.59.51 0 1.02-.2 1.41-.59l7.78-7.78 2.81-2.81c.8-.78.8-2.07 0-2.86zM5.41 20L4 18.59l7.72-7.72 1.47 1.35L5.41 20z\"/>\n",
              "  </svg>\n",
              "      </button>\n",
              "      \n",
              "  <style>\n",
              "    .colab-df-container {\n",
              "      display:flex;\n",
              "      flex-wrap:wrap;\n",
              "      gap: 12px;\n",
              "    }\n",
              "\n",
              "    .colab-df-convert {\n",
              "      background-color: #E8F0FE;\n",
              "      border: none;\n",
              "      border-radius: 50%;\n",
              "      cursor: pointer;\n",
              "      display: none;\n",
              "      fill: #1967D2;\n",
              "      height: 32px;\n",
              "      padding: 0 0 0 0;\n",
              "      width: 32px;\n",
              "    }\n",
              "\n",
              "    .colab-df-convert:hover {\n",
              "      background-color: #E2EBFA;\n",
              "      box-shadow: 0px 1px 2px rgba(60, 64, 67, 0.3), 0px 1px 3px 1px rgba(60, 64, 67, 0.15);\n",
              "      fill: #174EA6;\n",
              "    }\n",
              "\n",
              "    [theme=dark] .colab-df-convert {\n",
              "      background-color: #3B4455;\n",
              "      fill: #D2E3FC;\n",
              "    }\n",
              "\n",
              "    [theme=dark] .colab-df-convert:hover {\n",
              "      background-color: #434B5C;\n",
              "      box-shadow: 0px 1px 3px 1px rgba(0, 0, 0, 0.15);\n",
              "      filter: drop-shadow(0px 1px 2px rgba(0, 0, 0, 0.3));\n",
              "      fill: #FFFFFF;\n",
              "    }\n",
              "  </style>\n",
              "\n",
              "      <script>\n",
              "        const buttonEl =\n",
              "          document.querySelector('#df-9f34a977-09b3-413a-b60a-25af4fd544a4 button.colab-df-convert');\n",
              "        buttonEl.style.display =\n",
              "          google.colab.kernel.accessAllowed ? 'block' : 'none';\n",
              "\n",
              "        async function convertToInteractive(key) {\n",
              "          const element = document.querySelector('#df-9f34a977-09b3-413a-b60a-25af4fd544a4');\n",
              "          const dataTable =\n",
              "            await google.colab.kernel.invokeFunction('convertToInteractive',\n",
              "                                                     [key], {});\n",
              "          if (!dataTable) return;\n",
              "\n",
              "          const docLinkHtml = 'Like what you see? Visit the ' +\n",
              "            '<a target=\"_blank\" href=https://colab.research.google.com/notebooks/data_table.ipynb>data table notebook</a>'\n",
              "            + ' to learn more about interactive tables.';\n",
              "          element.innerHTML = '';\n",
              "          dataTable['output_type'] = 'display_data';\n",
              "          await google.colab.output.renderOutput(dataTable, element);\n",
              "          const docLink = document.createElement('div');\n",
              "          docLink.innerHTML = docLinkHtml;\n",
              "          element.appendChild(docLink);\n",
              "        }\n",
              "      </script>\n",
              "    </div>\n",
              "  </div>\n",
              "  "
            ]
          },
          "metadata": {},
          "execution_count": 12
        }
      ]
    },
    {
      "cell_type": "markdown",
      "metadata": {
        "id": "qgHSOu70h4K8"
      },
      "source": [
        "<b>Plot all of the max sea level data in a different color on the same plot using linewidth 0.2.  Plot the global line last in black using a linewidth of 0.5.  Be sure to include a legend in the plot.</b>"
      ]
    },
    {
      "cell_type": "code",
      "metadata": {
        "id": "eWWsRzwPh4UA",
        "colab": {
          "base_uri": "https://localhost:8080/",
          "height": 445
        },
        "outputId": "4d430bd5-7374-4cc9-9763-dd70c98caf31"
      },
      "source": [
        "ax = pac.plot(\"year\", \"max_level\", label=\"Pacific data\", color=\"red\", xlabel=\"Year\", ylabel=\"Max sea level[mm]\",figsize=(15,7))\n",
        "ax=  atl.plot(\"year\", \"max_level\", label=\"Atlantic data\",  ax=ax, color=\"blue\")\n",
        "ax= ind.plot(\"year\", \"max_level\", label=\"Indian Ocean data\",  ax=ax, color=\"green\")\n",
        "ax=so.plot(\"year\", \"max_level\", label=\"Southern Ocean data\",  ax=ax, color=\"purple\")\n",
        "ax = noaa.plot(\"year\", \"max_level\", linewidth=0.5, label=\"Global data\",color=\"black\",ax=ax)"
      ],
      "execution_count": null,
      "outputs": [
        {
          "output_type": "display_data",
          "data": {
            "text/plain": [
              "<Figure size 1080x504 with 1 Axes>"
            ],
            "image/png": "[encoded data removed]"
          },
          "metadata": {
            "needs_background": "light"
          }
        }
      ]
    },
    {
      "cell_type": "markdown",
      "metadata": {
        "id": "heffq9Oih4dB"
      },
      "source": [
        "<b>Describe the plot above.  What can you conclude about the variability of sea level rise across the globe?</b>"
      ]
    },
    {
      "cell_type": "markdown",
      "metadata": {
        "id": "WN55tjDYRsoP"
      },
      "source": [
        "The plot above indicates there is a increase in sea level rise across globes."
      ]
    },
    {
      "cell_type": "markdown",
      "metadata": {
        "id": "bP-OXuRsiP2o"
      },
      "source": [
        "This data covers roughly 30 years of sea level changes, but there are data that go back further that are available from CSIRO (Commonwealth Scientific and Industrial Research Organization).  Descriptions of aggregated historical data from CSIRO can be found [here](https://research.csiro.au/slrwavescoast/sea-level/measurements-and-data/) and in the associated links.  The data we'll be using is available as a [CSV](https://datahub.io/core/sea-level-rise/r/epa-sea-level.csv) -- but please see the documentation and caveats associated with it in the README at the bottom of [this](https://datahub.io/core/sea-level-rise) page."
      ]
    },
    {
      "cell_type": "markdown",
      "metadata": {
        "id": "Of9sydSHti07"
      },
      "source": [
        "<b>Read in the CSIRO data from the link above labeled CSV (again, <u>without</u> downloading the data) into a DataFrame called `csiro` and take the <u>minimum</u> of the `\"CSIRO Adjusted Sea Level\"` and `\"NOAA Adjusted Sea Level\"` colmuns for each year and add those values to the `csiro` DataFrame as a column called `\"min_level\"`.</b>"
      ]
    },
    {
      "cell_type": "code",
      "source": [
        "csiro_fname= \"https://datahub.io/core/sea-level-rise/r/epa-sea-level.csv\"\n",
        "csiro=pd.read_csv(csiro_fname)\n",
        "csiro.head(5)"
      ],
      "metadata": {
        "colab": {
          "base_uri": "https://localhost:8080/",
          "height": 206
        },
        "id": "zk5Pcf4kBwgz",
        "outputId": "174c0b2f-6bec-420c-df2c-39673734e5fa"
      },
      "execution_count": null,
      "outputs": [
        {
          "output_type": "execute_result",
          "data": {
            "text/plain": [
              "         Year  CSIRO Adjusted Sea Level  Lower Error Bound  Upper Error Bound  \\\n",
              "0  1880-03-15                  0.000000          -0.952756           0.952756   \n",
              "1  1881-03-15                  0.220472          -0.732283           1.173228   \n",
              "2  1882-03-15                 -0.440945          -1.346457           0.464567   \n",
              "3  1883-03-15                 -0.232283          -1.129921           0.665354   \n",
              "4  1884-03-15                  0.590551          -0.283465           1.464567   \n",
              "\n",
              "   NOAA Adjusted Sea Level  \n",
              "0                      NaN  \n",
              "1                      NaN  \n",
              "2                      NaN  \n",
              "3                      NaN  \n",
              "4                      NaN  "
            ],
            "text/html": [
              "\n",
              "  <div id=\"df-8d288b6c-a9d3-447e-9104-cf4bb365d0b8\">\n",
              "    <div class=\"colab-df-container\">\n",
              "      <div>\n",
              "<style scoped>\n",
              "    .dataframe tbody tr th:only-of-type {\n",
              "        vertical-align: middle;\n",
              "    }\n",
              "\n",
              "    .dataframe tbody tr th {\n",
              "        vertical-align: top;\n",
              "    }\n",
              "\n",
              "    .dataframe thead th {\n",
              "        text-align: right;\n",
              "    }\n",
              "</style>\n",
              "<table border=\"1\" class=\"dataframe\">\n",
              "  <thead>\n",
              "    <tr style=\"text-align: right;\">\n",
              "      <th></th>\n",
              "      <th>Year</th>\n",
              "      <th>CSIRO Adjusted Sea Level</th>\n",
              "      <th>Lower Error Bound</th>\n",
              "      <th>Upper Error Bound</th>\n",
              "      <th>NOAA Adjusted Sea Level</th>\n",
              "    </tr>\n",
              "  </thead>\n",
              "  <tbody>\n",
              "    <tr>\n",
              "      <th>0</th>\n",
              "      <td>1880-03-15</td>\n",
              "      <td>0.000000</td>\n",
              "      <td>-0.952756</td>\n",
              "      <td>0.952756</td>\n",
              "      <td>NaN</td>\n",
              "    </tr>\n",
              "    <tr>\n",
              "      <th>1</th>\n",
              "      <td>1881-03-15</td>\n",
              "      <td>0.220472</td>\n",
              "      <td>-0.732283</td>\n",
              "      <td>1.173228</td>\n",
              "      <td>NaN</td>\n",
              "    </tr>\n",
              "    <tr>\n",
              "      <th>2</th>\n",
              "      <td>1882-03-15</td>\n",
              "      <td>-0.440945</td>\n",
              "      <td>-1.346457</td>\n",
              "      <td>0.464567</td>\n",
              "      <td>NaN</td>\n",
              "    </tr>\n",
              "    <tr>\n",
              "      <th>3</th>\n",
              "      <td>1883-03-15</td>\n",
              "      <td>-0.232283</td>\n",
              "      <td>-1.129921</td>\n",
              "      <td>0.665354</td>\n",
              "      <td>NaN</td>\n",
              "    </tr>\n",
              "    <tr>\n",
              "      <th>4</th>\n",
              "      <td>1884-03-15</td>\n",
              "      <td>0.590551</td>\n",
              "      <td>-0.283465</td>\n",
              "      <td>1.464567</td>\n",
              "      <td>NaN</td>\n",
              "    </tr>\n",
              "  </tbody>\n",
              "</table>\n",
              "</div>\n",
              "      <button class=\"colab-df-convert\" onclick=\"convertToInteractive('df-8d288b6c-a9d3-447e-9104-cf4bb365d0b8')\"\n",
              "              title=\"Convert this dataframe to an interactive table.\"\n",
              "              style=\"display:none;\">\n",
              "        \n",
              "  <svg xmlns=\"http://www.w3.org/2000/svg\" height=\"24px\"viewBox=\"0 0 24 24\"\n",
              "       width=\"24px\">\n",
              "    <path d=\"M0 0h24v24H0V0z\" fill=\"none\"/>\n",
              "    <path d=\"M18.56 5.44l.94 2.06.94-2.06 2.06-.94-2.06-.94-.94-2.06-.94 2.06-2.06.94zm-11 1L8.5 8.5l.94-2.06 2.06-.94-2.06-.94L8.5 2.5l-.94 2.06-2.06.94zm10 10l.94 2.06.94-2.06 2.06-.94-2.06-.94-.94-2.06-.94 2.06-2.06.94z\"/><path d=\"M17.41 7.96l-1.37-1.37c-.4-.4-.92-.59-1.43-.59-.52 0-1.04.2-1.43.59L10.3 9.45l-7.72 7.72c-.78.78-.78 2.05 0 2.83L4 21.41c.39.39.9.59 1.41.59.51 0 1.02-.2 1.41-.59l7.78-7.78 2.81-2.81c.8-.78.8-2.07 0-2.86zM5.41 20L4 18.59l7.72-7.72 1.47 1.35L5.41 20z\"/>\n",
              "  </svg>\n",
              "      </button>\n",
              "      \n",
              "  <style>\n",
              "    .colab-df-container {\n",
              "      display:flex;\n",
              "      flex-wrap:wrap;\n",
              "      gap: 12px;\n",
              "    }\n",
              "\n",
              "    .colab-df-convert {\n",
              "      background-color: #E8F0FE;\n",
              "      border: none;\n",
              "      border-radius: 50%;\n",
              "      cursor: pointer;\n",
              "      display: none;\n",
              "      fill: #1967D2;\n",
              "      height: 32px;\n",
              "      padding: 0 0 0 0;\n",
              "      width: 32px;\n",
              "    }\n",
              "\n",
              "    .colab-df-convert:hover {\n",
              "      background-color: #E2EBFA;\n",
              "      box-shadow: 0px 1px 2px rgba(60, 64, 67, 0.3), 0px 1px 3px 1px rgba(60, 64, 67, 0.15);\n",
              "      fill: #174EA6;\n",
              "    }\n",
              "\n",
              "    [theme=dark] .colab-df-convert {\n",
              "      background-color: #3B4455;\n",
              "      fill: #D2E3FC;\n",
              "    }\n",
              "\n",
              "    [theme=dark] .colab-df-convert:hover {\n",
              "      background-color: #434B5C;\n",
              "      box-shadow: 0px 1px 3px 1px rgba(0, 0, 0, 0.15);\n",
              "      filter: drop-shadow(0px 1px 2px rgba(0, 0, 0, 0.3));\n",
              "      fill: #FFFFFF;\n",
              "    }\n",
              "  </style>\n",
              "\n",
              "      <script>\n",
              "        const buttonEl =\n",
              "          document.querySelector('#df-8d288b6c-a9d3-447e-9104-cf4bb365d0b8 button.colab-df-convert');\n",
              "        buttonEl.style.display =\n",
              "          google.colab.kernel.accessAllowed ? 'block' : 'none';\n",
              "\n",
              "        async function convertToInteractive(key) {\n",
              "          const element = document.querySelector('#df-8d288b6c-a9d3-447e-9104-cf4bb365d0b8');\n",
              "          const dataTable =\n",
              "            await google.colab.kernel.invokeFunction('convertToInteractive',\n",
              "                                                     [key], {});\n",
              "          if (!dataTable) return;\n",
              "\n",
              "          const docLinkHtml = 'Like what you see? Visit the ' +\n",
              "            '<a target=\"_blank\" href=https://colab.research.google.com/notebooks/data_table.ipynb>data table notebook</a>'\n",
              "            + ' to learn more about interactive tables.';\n",
              "          element.innerHTML = '';\n",
              "          dataTable['output_type'] = 'display_data';\n",
              "          await google.colab.output.renderOutput(dataTable, element);\n",
              "          const docLink = document.createElement('div');\n",
              "          docLink.innerHTML = docLinkHtml;\n",
              "          element.appendChild(docLink);\n",
              "        }\n",
              "      </script>\n",
              "    </div>\n",
              "  </div>\n",
              "  "
            ]
          },
          "metadata": {},
          "execution_count": 14
        }
      ]
    },
    {
      "cell_type": "code",
      "source": [
        "cols_1=[\"CSIRO Adjusted Sea Level\",\"NOAA Adjusted Sea Level\"]\n",
        "sub_1=csiro[cols_1]\n",
        "csiro[\"min_level\"]=sub_1.min(axis=1)\n",
        "csiro.head(5)"
      ],
      "metadata": {
        "colab": {
          "base_uri": "https://localhost:8080/",
          "height": 206
        },
        "id": "G2qCZBKwEeXT",
        "outputId": "a5f23c1e-350c-4993-ca45-b1cfce54fd35"
      },
      "execution_count": null,
      "outputs": [
        {
          "output_type": "execute_result",
          "data": {
            "text/plain": [
              "         Year  CSIRO Adjusted Sea Level  Lower Error Bound  Upper Error Bound  \\\n",
              "0  1880-03-15                  0.000000          -0.952756           0.952756   \n",
              "1  1881-03-15                  0.220472          -0.732283           1.173228   \n",
              "2  1882-03-15                 -0.440945          -1.346457           0.464567   \n",
              "3  1883-03-15                 -0.232283          -1.129921           0.665354   \n",
              "4  1884-03-15                  0.590551          -0.283465           1.464567   \n",
              "\n",
              "   NOAA Adjusted Sea Level  min_level  \n",
              "0                      NaN   0.000000  \n",
              "1                      NaN   0.220472  \n",
              "2                      NaN  -0.440945  \n",
              "3                      NaN  -0.232283  \n",
              "4                      NaN   0.590551  "
            ],
            "text/html": [
              "\n",
              "  <div id=\"df-7189d18d-e5ec-4914-a34d-74f01e7e72b5\">\n",
              "    <div class=\"colab-df-container\">\n",
              "      <div>\n",
              "<style scoped>\n",
              "    .dataframe tbody tr th:only-of-type {\n",
              "        vertical-align: middle;\n",
              "    }\n",
              "\n",
              "    .dataframe tbody tr th {\n",
              "        vertical-align: top;\n",
              "    }\n",
              "\n",
              "    .dataframe thead th {\n",
              "        text-align: right;\n",
              "    }\n",
              "</style>\n",
              "<table border=\"1\" class=\"dataframe\">\n",
              "  <thead>\n",
              "    <tr style=\"text-align: right;\">\n",
              "      <th></th>\n",
              "      <th>Year</th>\n",
              "      <th>CSIRO Adjusted Sea Level</th>\n",
              "      <th>Lower Error Bound</th>\n",
              "      <th>Upper Error Bound</th>\n",
              "      <th>NOAA Adjusted Sea Level</th>\n",
              "      <th>min_level</th>\n",
              "    </tr>\n",
              "  </thead>\n",
              "  <tbody>\n",
              "    <tr>\n",
              "      <th>0</th>\n",
              "      <td>1880-03-15</td>\n",
              "      <td>0.000000</td>\n",
              "      <td>-0.952756</td>\n",
              "      <td>0.952756</td>\n",
              "      <td>NaN</td>\n",
              "      <td>0.000000</td>\n",
              "    </tr>\n",
              "    <tr>\n",
              "      <th>1</th>\n",
              "      <td>1881-03-15</td>\n",
              "      <td>0.220472</td>\n",
              "      <td>-0.732283</td>\n",
              "      <td>1.173228</td>\n",
              "      <td>NaN</td>\n",
              "      <td>0.220472</td>\n",
              "    </tr>\n",
              "    <tr>\n",
              "      <th>2</th>\n",
              "      <td>1882-03-15</td>\n",
              "      <td>-0.440945</td>\n",
              "      <td>-1.346457</td>\n",
              "      <td>0.464567</td>\n",
              "      <td>NaN</td>\n",
              "      <td>-0.440945</td>\n",
              "    </tr>\n",
              "    <tr>\n",
              "      <th>3</th>\n",
              "      <td>1883-03-15</td>\n",
              "      <td>-0.232283</td>\n",
              "      <td>-1.129921</td>\n",
              "      <td>0.665354</td>\n",
              "      <td>NaN</td>\n",
              "      <td>-0.232283</td>\n",
              "    </tr>\n",
              "    <tr>\n",
              "      <th>4</th>\n",
              "      <td>1884-03-15</td>\n",
              "      <td>0.590551</td>\n",
              "      <td>-0.283465</td>\n",
              "      <td>1.464567</td>\n",
              "      <td>NaN</td>\n",
              "      <td>0.590551</td>\n",
              "    </tr>\n",
              "  </tbody>\n",
              "</table>\n",
              "</div>\n",
              "      <button class=\"colab-df-convert\" onclick=\"convertToInteractive('df-7189d18d-e5ec-4914-a34d-74f01e7e72b5')\"\n",
              "              title=\"Convert this dataframe to an interactive table.\"\n",
              "              style=\"display:none;\">\n",
              "        \n",
              "  <svg xmlns=\"http://www.w3.org/2000/svg\" height=\"24px\"viewBox=\"0 0 24 24\"\n",
              "       width=\"24px\">\n",
              "    <path d=\"M0 0h24v24H0V0z\" fill=\"none\"/>\n",
              "    <path d=\"M18.56 5.44l.94 2.06.94-2.06 2.06-.94-2.06-.94-.94-2.06-.94 2.06-2.06.94zm-11 1L8.5 8.5l.94-2.06 2.06-.94-2.06-.94L8.5 2.5l-.94 2.06-2.06.94zm10 10l.94 2.06.94-2.06 2.06-.94-2.06-.94-.94-2.06-.94 2.06-2.06.94z\"/><path d=\"M17.41 7.96l-1.37-1.37c-.4-.4-.92-.59-1.43-.59-.52 0-1.04.2-1.43.59L10.3 9.45l-7.72 7.72c-.78.78-.78 2.05 0 2.83L4 21.41c.39.39.9.59 1.41.59.51 0 1.02-.2 1.41-.59l7.78-7.78 2.81-2.81c.8-.78.8-2.07 0-2.86zM5.41 20L4 18.59l7.72-7.72 1.47 1.35L5.41 20z\"/>\n",
              "  </svg>\n",
              "      </button>\n",
              "      \n",
              "  <style>\n",
              "    .colab-df-container {\n",
              "      display:flex;\n",
              "      flex-wrap:wrap;\n",
              "      gap: 12px;\n",
              "    }\n",
              "\n",
              "    .colab-df-convert {\n",
              "      background-color: #E8F0FE;\n",
              "      border: none;\n",
              "      border-radius: 50%;\n",
              "      cursor: pointer;\n",
              "      display: none;\n",
              "      fill: #1967D2;\n",
              "      height: 32px;\n",
              "      padding: 0 0 0 0;\n",
              "      width: 32px;\n",
              "    }\n",
              "\n",
              "    .colab-df-convert:hover {\n",
              "      background-color: #E2EBFA;\n",
              "      box-shadow: 0px 1px 2px rgba(60, 64, 67, 0.3), 0px 1px 3px 1px rgba(60, 64, 67, 0.15);\n",
              "      fill: #174EA6;\n",
              "    }\n",
              "\n",
              "    [theme=dark] .colab-df-convert {\n",
              "      background-color: #3B4455;\n",
              "      fill: #D2E3FC;\n",
              "    }\n",
              "\n",
              "    [theme=dark] .colab-df-convert:hover {\n",
              "      background-color: #434B5C;\n",
              "      box-shadow: 0px 1px 3px 1px rgba(0, 0, 0, 0.15);\n",
              "      filter: drop-shadow(0px 1px 2px rgba(0, 0, 0, 0.3));\n",
              "      fill: #FFFFFF;\n",
              "    }\n",
              "  </style>\n",
              "\n",
              "      <script>\n",
              "        const buttonEl =\n",
              "          document.querySelector('#df-7189d18d-e5ec-4914-a34d-74f01e7e72b5 button.colab-df-convert');\n",
              "        buttonEl.style.display =\n",
              "          google.colab.kernel.accessAllowed ? 'block' : 'none';\n",
              "\n",
              "        async function convertToInteractive(key) {\n",
              "          const element = document.querySelector('#df-7189d18d-e5ec-4914-a34d-74f01e7e72b5');\n",
              "          const dataTable =\n",
              "            await google.colab.kernel.invokeFunction('convertToInteractive',\n",
              "                                                     [key], {});\n",
              "          if (!dataTable) return;\n",
              "\n",
              "          const docLinkHtml = 'Like what you see? Visit the ' +\n",
              "            '<a target=\"_blank\" href=https://colab.research.google.com/notebooks/data_table.ipynb>data table notebook</a>'\n",
              "            + ' to learn more about interactive tables.';\n",
              "          element.innerHTML = '';\n",
              "          dataTable['output_type'] = 'display_data';\n",
              "          await google.colab.output.renderOutput(dataTable, element);\n",
              "          const docLink = document.createElement('div');\n",
              "          docLink.innerHTML = docLinkHtml;\n",
              "          element.appendChild(docLink);\n",
              "        }\n",
              "      </script>\n",
              "    </div>\n",
              "  </div>\n",
              "  "
            ]
          },
          "metadata": {},
          "execution_count": 15
        }
      ]
    },
    {
      "cell_type": "markdown",
      "metadata": {
        "id": "W7j4qbXsv_ub"
      },
      "source": [
        "Note that the year 2000 is in the 120th element of the CSIRO data and that the data is in inches, not millimeters.\n",
        "\n",
        "<b>To get it in the same units as the NOAA data above, subtract off the value of `min_level` at the 120th element from `min_level`, then multiply the result by `2.54 * 10` (the inches to millimeters conversion), and put the result into a new column called `\"adjusted_min_level\"`.</b>"
      ]
    },
    {
      "cell_type": "code",
      "source": [
        "csiro[\"adjusted_min_level\"]=(csiro[\"min_level\"]-csiro.iloc[120,4])*2.54*10"
      ],
      "metadata": {
        "id": "h4h327OpKcv_"
      },
      "execution_count": null,
      "outputs": []
    },
    {
      "cell_type": "markdown",
      "metadata": {
        "id": "PDi4tcVHSC1v"
      },
      "source": [
        "Run the cell below to create a column called \"year_int\" that is the CSIRO year so that we don't have to worry about the months and dates from now on."
      ]
    },
    {
      "cell_type": "code",
      "metadata": {
        "id": "Ozu40AMKxUe4"
      },
      "source": [
        "csiro[\"year_int\"] = [int(i[:4]) for i in csiro[\"Year\"]]"
      ],
      "execution_count": null,
      "outputs": []
    },
    {
      "cell_type": "code",
      "source": [
        "csiro.head(5)"
      ],
      "metadata": {
        "colab": {
          "base_uri": "https://localhost:8080/",
          "height": 206
        },
        "id": "V8TuGW17KvVH",
        "outputId": "6e3b84e8-310b-4161-f730-0d2d703b5456"
      },
      "execution_count": null,
      "outputs": [
        {
          "output_type": "execute_result",
          "data": {
            "text/plain": [
              "         Year  CSIRO Adjusted Sea Level  Lower Error Bound  Upper Error Bound  \\\n",
              "0  1880-03-15                  0.000000          -0.952756           0.952756   \n",
              "1  1881-03-15                  0.220472          -0.732283           1.173228   \n",
              "2  1882-03-15                 -0.440945          -1.346457           0.464567   \n",
              "3  1883-03-15                 -0.232283          -1.129921           0.665354   \n",
              "4  1884-03-15                  0.590551          -0.283465           1.464567   \n",
              "\n",
              "   NOAA Adjusted Sea Level  min_level  adjusted_min_level  year_int  \n",
              "0                      NaN   0.000000         -175.782783      1880  \n",
              "1                      NaN   0.220472         -170.182783      1881  \n",
              "2                      NaN  -0.440945         -186.982783      1882  \n",
              "3                      NaN  -0.232283         -181.682783      1883  \n",
              "4                      NaN   0.590551         -160.782783      1884  "
            ],
            "text/html": [
              "\n",
              "  <div id=\"df-36c707c8-1511-4de9-9d0e-7fa27ede9a8f\">\n",
              "    <div class=\"colab-df-container\">\n",
              "      <div>\n",
              "<style scoped>\n",
              "    .dataframe tbody tr th:only-of-type {\n",
              "        vertical-align: middle;\n",
              "    }\n",
              "\n",
              "    .dataframe tbody tr th {\n",
              "        vertical-align: top;\n",
              "    }\n",
              "\n",
              "    .dataframe thead th {\n",
              "        text-align: right;\n",
              "    }\n",
              "</style>\n",
              "<table border=\"1\" class=\"dataframe\">\n",
              "  <thead>\n",
              "    <tr style=\"text-align: right;\">\n",
              "      <th></th>\n",
              "      <th>Year</th>\n",
              "      <th>CSIRO Adjusted Sea Level</th>\n",
              "      <th>Lower Error Bound</th>\n",
              "      <th>Upper Error Bound</th>\n",
              "      <th>NOAA Adjusted Sea Level</th>\n",
              "      <th>min_level</th>\n",
              "      <th>adjusted_min_level</th>\n",
              "      <th>year_int</th>\n",
              "    </tr>\n",
              "  </thead>\n",
              "  <tbody>\n",
              "    <tr>\n",
              "      <th>0</th>\n",
              "      <td>1880-03-15</td>\n",
              "      <td>0.000000</td>\n",
              "      <td>-0.952756</td>\n",
              "      <td>0.952756</td>\n",
              "      <td>NaN</td>\n",
              "      <td>0.000000</td>\n",
              "      <td>-175.782783</td>\n",
              "      <td>1880</td>\n",
              "    </tr>\n",
              "    <tr>\n",
              "      <th>1</th>\n",
              "      <td>1881-03-15</td>\n",
              "      <td>0.220472</td>\n",
              "      <td>-0.732283</td>\n",
              "      <td>1.173228</td>\n",
              "      <td>NaN</td>\n",
              "      <td>0.220472</td>\n",
              "      <td>-170.182783</td>\n",
              "      <td>1881</td>\n",
              "    </tr>\n",
              "    <tr>\n",
              "      <th>2</th>\n",
              "      <td>1882-03-15</td>\n",
              "      <td>-0.440945</td>\n",
              "      <td>-1.346457</td>\n",
              "      <td>0.464567</td>\n",
              "      <td>NaN</td>\n",
              "      <td>-0.440945</td>\n",
              "      <td>-186.982783</td>\n",
              "      <td>1882</td>\n",
              "    </tr>\n",
              "    <tr>\n",
              "      <th>3</th>\n",
              "      <td>1883-03-15</td>\n",
              "      <td>-0.232283</td>\n",
              "      <td>-1.129921</td>\n",
              "      <td>0.665354</td>\n",
              "      <td>NaN</td>\n",
              "      <td>-0.232283</td>\n",
              "      <td>-181.682783</td>\n",
              "      <td>1883</td>\n",
              "    </tr>\n",
              "    <tr>\n",
              "      <th>4</th>\n",
              "      <td>1884-03-15</td>\n",
              "      <td>0.590551</td>\n",
              "      <td>-0.283465</td>\n",
              "      <td>1.464567</td>\n",
              "      <td>NaN</td>\n",
              "      <td>0.590551</td>\n",
              "      <td>-160.782783</td>\n",
              "      <td>1884</td>\n",
              "    </tr>\n",
              "  </tbody>\n",
              "</table>\n",
              "</div>\n",
              "      <button class=\"colab-df-convert\" onclick=\"convertToInteractive('df-36c707c8-1511-4de9-9d0e-7fa27ede9a8f')\"\n",
              "              title=\"Convert this dataframe to an interactive table.\"\n",
              "              style=\"display:none;\">\n",
              "        \n",
              "  <svg xmlns=\"http://www.w3.org/2000/svg\" height=\"24px\"viewBox=\"0 0 24 24\"\n",
              "       width=\"24px\">\n",
              "    <path d=\"M0 0h24v24H0V0z\" fill=\"none\"/>\n",
              "    <path d=\"M18.56 5.44l.94 2.06.94-2.06 2.06-.94-2.06-.94-.94-2.06-.94 2.06-2.06.94zm-11 1L8.5 8.5l.94-2.06 2.06-.94-2.06-.94L8.5 2.5l-.94 2.06-2.06.94zm10 10l.94 2.06.94-2.06 2.06-.94-2.06-.94-.94-2.06-.94 2.06-2.06.94z\"/><path d=\"M17.41 7.96l-1.37-1.37c-.4-.4-.92-.59-1.43-.59-.52 0-1.04.2-1.43.59L10.3 9.45l-7.72 7.72c-.78.78-.78 2.05 0 2.83L4 21.41c.39.39.9.59 1.41.59.51 0 1.02-.2 1.41-.59l7.78-7.78 2.81-2.81c.8-.78.8-2.07 0-2.86zM5.41 20L4 18.59l7.72-7.72 1.47 1.35L5.41 20z\"/>\n",
              "  </svg>\n",
              "      </button>\n",
              "      \n",
              "  <style>\n",
              "    .colab-df-container {\n",
              "      display:flex;\n",
              "      flex-wrap:wrap;\n",
              "      gap: 12px;\n",
              "    }\n",
              "\n",
              "    .colab-df-convert {\n",
              "      background-color: #E8F0FE;\n",
              "      border: none;\n",
              "      border-radius: 50%;\n",
              "      cursor: pointer;\n",
              "      display: none;\n",
              "      fill: #1967D2;\n",
              "      height: 32px;\n",
              "      padding: 0 0 0 0;\n",
              "      width: 32px;\n",
              "    }\n",
              "\n",
              "    .colab-df-convert:hover {\n",
              "      background-color: #E2EBFA;\n",
              "      box-shadow: 0px 1px 2px rgba(60, 64, 67, 0.3), 0px 1px 3px 1px rgba(60, 64, 67, 0.15);\n",
              "      fill: #174EA6;\n",
              "    }\n",
              "\n",
              "    [theme=dark] .colab-df-convert {\n",
              "      background-color: #3B4455;\n",
              "      fill: #D2E3FC;\n",
              "    }\n",
              "\n",
              "    [theme=dark] .colab-df-convert:hover {\n",
              "      background-color: #434B5C;\n",
              "      box-shadow: 0px 1px 3px 1px rgba(0, 0, 0, 0.15);\n",
              "      filter: drop-shadow(0px 1px 2px rgba(0, 0, 0, 0.3));\n",
              "      fill: #FFFFFF;\n",
              "    }\n",
              "  </style>\n",
              "\n",
              "      <script>\n",
              "        const buttonEl =\n",
              "          document.querySelector('#df-36c707c8-1511-4de9-9d0e-7fa27ede9a8f button.colab-df-convert');\n",
              "        buttonEl.style.display =\n",
              "          google.colab.kernel.accessAllowed ? 'block' : 'none';\n",
              "\n",
              "        async function convertToInteractive(key) {\n",
              "          const element = document.querySelector('#df-36c707c8-1511-4de9-9d0e-7fa27ede9a8f');\n",
              "          const dataTable =\n",
              "            await google.colab.kernel.invokeFunction('convertToInteractive',\n",
              "                                                     [key], {});\n",
              "          if (!dataTable) return;\n",
              "\n",
              "          const docLinkHtml = 'Like what you see? Visit the ' +\n",
              "            '<a target=\"_blank\" href=https://colab.research.google.com/notebooks/data_table.ipynb>data table notebook</a>'\n",
              "            + ' to learn more about interactive tables.';\n",
              "          element.innerHTML = '';\n",
              "          dataTable['output_type'] = 'display_data';\n",
              "          await google.colab.output.renderOutput(dataTable, element);\n",
              "          const docLink = document.createElement('div');\n",
              "          docLink.innerHTML = docLinkHtml;\n",
              "          element.appendChild(docLink);\n",
              "        }\n",
              "      </script>\n",
              "    </div>\n",
              "  </div>\n",
              "  "
            ]
          },
          "metadata": {},
          "execution_count": 18
        }
      ]
    },
    {
      "cell_type": "markdown",
      "metadata": {
        "id": "8U0t9h2G-1KP"
      },
      "source": [
        "<b>Now plot all of the data (all NOAA and CSIRO) on the same graph.</b>"
      ]
    },
    {
      "cell_type": "code",
      "metadata": {
        "id": "vgfPIvdBmQQ1",
        "colab": {
          "base_uri": "https://localhost:8080/",
          "height": 297
        },
        "outputId": "b34ac3cc-5600-4524-c662-38d8cfe2c754"
      },
      "source": [
        "ax = noaa.plot(\"year\", \"max_level\", label=\"NOAA data\", color=\"red\", xlabel=\"Year\", ylabel=\"Sea level [mm]\")\n",
        "csiro.plot(\"year_int\", \"adjusted_min_level\", label=\"CSIRO data (adjusted min level)\",  ax=ax, color=\"blue\")"
      ],
      "execution_count": null,
      "outputs": [
        {
          "output_type": "execute_result",
          "data": {
            "text/plain": [
              "<AxesSubplot:xlabel='year_int', ylabel='Sea level [mm]'>"
            ]
          },
          "metadata": {},
          "execution_count": 19
        },
        {
          "output_type": "display_data",
          "data": {
            "text/plain": [
              "<Figure size 432x288 with 1 Axes>"
            ],
            "image/png": "[encoded data removed]"
          },
          "metadata": {
            "needs_background": "light"
          }
        }
      ]
    },
    {
      "cell_type": "code",
      "source": [
        "ax=noaa.plot(x=\"year\")\n",
        "ax=csiro.plot(ax=ax)"
      ],
      "metadata": {
        "colab": {
          "base_uri": "https://localhost:8080/",
          "height": 279
        },
        "id": "gCak_Wu5-ME5",
        "outputId": "bdb829ed-dfe7-4d79-e79a-8174efe2f076"
      },
      "execution_count": null,
      "outputs": [
        {
          "output_type": "display_data",
          "data": {
            "text/plain": [
              "<Figure size 432x288 with 1 Axes>"
            ],
            "image/png": "[encoded data removed]"
          },
          "metadata": {
            "needs_background": "light"
          }
        }
      ]
    },
    {
      "cell_type": "markdown",
      "metadata": {
        "id": "g_c54zBK47Gm"
      },
      "source": [
        "### **PART 4 - Standardize the data**"
      ]
    },
    {
      "cell_type": "markdown",
      "metadata": {
        "id": "ab9gpV9jp27P"
      },
      "source": [
        "You should now have two DataFrames, one holding the <u>global</u> NOAA data (we'll work with only the global data from now on) with columns called `\"year\"` and `\"max_level\"`, and one holding the CSIRO data with columns called `\"year_int\"` and `\"adjusted_min_level\"`.  As we did in class, we have to standardize this data for the SGD-based linear regression.\n",
        "\n",
        "<b>Get the mean and standard deviation of `\"year\"` and `\"max_level\"` from the NOAA dataframe and the mean and standard deviation of the `\"year_int\"` and `\"adjusted_min_level\"` from the CSIRO dataframe.</b>"
      ]
    },
    {
      "cell_type": "code",
      "metadata": {
        "id": "uBENL05UCWYS",
        "colab": {
          "base_uri": "https://localhost:8080/"
        },
        "outputId": "dab852e2-a25e-41d4-cd84-98c55da774af"
      },
      "source": [
        "#NOAA data\n",
        "print(noaa[\"year\"].mean())  #year mean\n",
        "print(noaa[\"year\"].std()) #year stdev\n",
        "print(noaa[\"max_level\"].mean()) #max level mean\n",
        "print(noaa[\"max_level\"].std()) #max level stdev"
      ],
      "execution_count": null,
      "outputs": [
        {
          "output_type": "stream",
          "name": "stdout",
          "text": [
            "2008.4829838257015\n",
            "7.883028559157361\n",
            "25.395450516986703\n",
            "24.52842955528888\n"
          ]
        }
      ]
    },
    {
      "cell_type": "code",
      "source": [
        "print( csiro[\"year_int\"].mean())\n",
        "print(csiro[\"year_int\"].std())\n",
        "print(csiro[\"adjusted_min_level\"].mean())\n",
        "print(csiro[\"adjusted_min_level\"].std())"
      ],
      "metadata": {
        "colab": {
          "base_uri": "https://localhost:8080/"
        },
        "id": "-zQidlCXUqpm",
        "outputId": "eadd971b-e869-43a4-a38e-e530bc32db18"
      },
      "execution_count": null,
      "outputs": [
        {
          "output_type": "stream",
          "name": "stdout",
          "text": [
            "1947.0\n",
            "39.11521443121589\n",
            "-83.3455077780252\n",
            "61.66319754974889\n"
          ]
        }
      ]
    },
    {
      "cell_type": "markdown",
      "metadata": {
        "id": "FCpQJiI6CWiQ"
      },
      "source": [
        "<b>Create columns in your NOAA dataframe called `\"year_st\"` and `\"max_level_st\"` that are standardized versions of `\"year\"` and `\"max_level\"`.</b>"
      ]
    },
    {
      "cell_type": "code",
      "metadata": {
        "id": "tVOah4-nSqEM"
      },
      "source": [
        "noaa[\"year_st\"] = (noaa[\"year\"] - noaa[\"year\"].mean()) / noaa[\"year\"].std()\n",
        "noaa[\"max_level_st\"] = (noaa[\"max_level\"] - noaa[\"max_level\"].mean()) / noaa[\"max_level\"].std()"
      ],
      "execution_count": null,
      "outputs": []
    },
    {
      "cell_type": "code",
      "source": [
        "noaa.head(5)"
      ],
      "metadata": {
        "colab": {
          "base_uri": "https://localhost:8080/",
          "height": 206
        },
        "id": "kbM-y7fbL9Fe",
        "outputId": "ac507575-c5a8-490b-9ed1-0dd5e3376075"
      },
      "execution_count": null,
      "outputs": [
        {
          "output_type": "execute_result",
          "data": {
            "text/plain": [
              "        year  TOPEX/Poseidon  Jason-1  Jason-2  Jason-3  max_level   year_st  \\\n",
              "0  1992.9614          -19.24      NaN      NaN      NaN     -19.24 -1.968987   \n",
              "1  1992.9865          -19.65      NaN      NaN      NaN     -19.65 -1.965803   \n",
              "2  1993.0123          -15.32      NaN      NaN      NaN     -15.32 -1.962530   \n",
              "3  1993.0407          -19.12      NaN      NaN      NaN     -19.12 -1.958928   \n",
              "4  1993.0660          -23.64      NaN      NaN      NaN     -23.64 -1.955718   \n",
              "\n",
              "   max_level_st  \n",
              "0     -1.819744  \n",
              "1     -1.836459  \n",
              "2     -1.659929  \n",
              "3     -1.814851  \n",
              "4     -1.999127  "
            ],
            "text/html": [
              "\n",
              "  <div id=\"df-1ce14955-713b-4ff4-a2d3-6a00911a7f0a\">\n",
              "    <div class=\"colab-df-container\">\n",
              "      <div>\n",
              "<style scoped>\n",
              "    .dataframe tbody tr th:only-of-type {\n",
              "        vertical-align: middle;\n",
              "    }\n",
              "\n",
              "    .dataframe tbody tr th {\n",
              "        vertical-align: top;\n",
              "    }\n",
              "\n",
              "    .dataframe thead th {\n",
              "        text-align: right;\n",
              "    }\n",
              "</style>\n",
              "<table border=\"1\" class=\"dataframe\">\n",
              "  <thead>\n",
              "    <tr style=\"text-align: right;\">\n",
              "      <th></th>\n",
              "      <th>year</th>\n",
              "      <th>TOPEX/Poseidon</th>\n",
              "      <th>Jason-1</th>\n",
              "      <th>Jason-2</th>\n",
              "      <th>Jason-3</th>\n",
              "      <th>max_level</th>\n",
              "      <th>year_st</th>\n",
              "      <th>max_level_st</th>\n",
              "    </tr>\n",
              "  </thead>\n",
              "  <tbody>\n",
              "    <tr>\n",
              "      <th>0</th>\n",
              "      <td>1992.9614</td>\n",
              "      <td>-19.24</td>\n",
              "      <td>NaN</td>\n",
              "      <td>NaN</td>\n",
              "      <td>NaN</td>\n",
              "      <td>-19.24</td>\n",
              "      <td>-1.968987</td>\n",
              "      <td>-1.819744</td>\n",
              "    </tr>\n",
              "    <tr>\n",
              "      <th>1</th>\n",
              "      <td>1992.9865</td>\n",
              "      <td>-19.65</td>\n",
              "      <td>NaN</td>\n",
              "      <td>NaN</td>\n",
              "      <td>NaN</td>\n",
              "      <td>-19.65</td>\n",
              "      <td>-1.965803</td>\n",
              "      <td>-1.836459</td>\n",
              "    </tr>\n",
              "    <tr>\n",
              "      <th>2</th>\n",
              "      <td>1993.0123</td>\n",
              "      <td>-15.32</td>\n",
              "      <td>NaN</td>\n",
              "      <td>NaN</td>\n",
              "      <td>NaN</td>\n",
              "      <td>-15.32</td>\n",
              "      <td>-1.962530</td>\n",
              "      <td>-1.659929</td>\n",
              "    </tr>\n",
              "    <tr>\n",
              "      <th>3</th>\n",
              "      <td>1993.0407</td>\n",
              "      <td>-19.12</td>\n",
              "      <td>NaN</td>\n",
              "      <td>NaN</td>\n",
              "      <td>NaN</td>\n",
              "      <td>-19.12</td>\n",
              "      <td>-1.958928</td>\n",
              "      <td>-1.814851</td>\n",
              "    </tr>\n",
              "    <tr>\n",
              "      <th>4</th>\n",
              "      <td>1993.0660</td>\n",
              "      <td>-23.64</td>\n",
              "      <td>NaN</td>\n",
              "      <td>NaN</td>\n",
              "      <td>NaN</td>\n",
              "      <td>-23.64</td>\n",
              "      <td>-1.955718</td>\n",
              "      <td>-1.999127</td>\n",
              "    </tr>\n",
              "  </tbody>\n",
              "</table>\n",
              "</div>\n",
              "      <button class=\"colab-df-convert\" onclick=\"convertToInteractive('df-1ce14955-713b-4ff4-a2d3-6a00911a7f0a')\"\n",
              "              title=\"Convert this dataframe to an interactive table.\"\n",
              "              style=\"display:none;\">\n",
              "        \n",
              "  <svg xmlns=\"http://www.w3.org/2000/svg\" height=\"24px\"viewBox=\"0 0 24 24\"\n",
              "       width=\"24px\">\n",
              "    <path d=\"M0 0h24v24H0V0z\" fill=\"none\"/>\n",
              "    <path d=\"M18.56 5.44l.94 2.06.94-2.06 2.06-.94-2.06-.94-.94-2.06-.94 2.06-2.06.94zm-11 1L8.5 8.5l.94-2.06 2.06-.94-2.06-.94L8.5 2.5l-.94 2.06-2.06.94zm10 10l.94 2.06.94-2.06 2.06-.94-2.06-.94-.94-2.06-.94 2.06-2.06.94z\"/><path d=\"M17.41 7.96l-1.37-1.37c-.4-.4-.92-.59-1.43-.59-.52 0-1.04.2-1.43.59L10.3 9.45l-7.72 7.72c-.78.78-.78 2.05 0 2.83L4 21.41c.39.39.9.59 1.41.59.51 0 1.02-.2 1.41-.59l7.78-7.78 2.81-2.81c.8-.78.8-2.07 0-2.86zM5.41 20L4 18.59l7.72-7.72 1.47 1.35L5.41 20z\"/>\n",
              "  </svg>\n",
              "      </button>\n",
              "      \n",
              "  <style>\n",
              "    .colab-df-container {\n",
              "      display:flex;\n",
              "      flex-wrap:wrap;\n",
              "      gap: 12px;\n",
              "    }\n",
              "\n",
              "    .colab-df-convert {\n",
              "      background-color: #E8F0FE;\n",
              "      border: none;\n",
              "      border-radius: 50%;\n",
              "      cursor: pointer;\n",
              "      display: none;\n",
              "      fill: #1967D2;\n",
              "      height: 32px;\n",
              "      padding: 0 0 0 0;\n",
              "      width: 32px;\n",
              "    }\n",
              "\n",
              "    .colab-df-convert:hover {\n",
              "      background-color: #E2EBFA;\n",
              "      box-shadow: 0px 1px 2px rgba(60, 64, 67, 0.3), 0px 1px 3px 1px rgba(60, 64, 67, 0.15);\n",
              "      fill: #174EA6;\n",
              "    }\n",
              "\n",
              "    [theme=dark] .colab-df-convert {\n",
              "      background-color: #3B4455;\n",
              "      fill: #D2E3FC;\n",
              "    }\n",
              "\n",
              "    [theme=dark] .colab-df-convert:hover {\n",
              "      background-color: #434B5C;\n",
              "      box-shadow: 0px 1px 3px 1px rgba(0, 0, 0, 0.15);\n",
              "      filter: drop-shadow(0px 1px 2px rgba(0, 0, 0, 0.3));\n",
              "      fill: #FFFFFF;\n",
              "    }\n",
              "  </style>\n",
              "\n",
              "      <script>\n",
              "        const buttonEl =\n",
              "          document.querySelector('#df-1ce14955-713b-4ff4-a2d3-6a00911a7f0a button.colab-df-convert');\n",
              "        buttonEl.style.display =\n",
              "          google.colab.kernel.accessAllowed ? 'block' : 'none';\n",
              "\n",
              "        async function convertToInteractive(key) {\n",
              "          const element = document.querySelector('#df-1ce14955-713b-4ff4-a2d3-6a00911a7f0a');\n",
              "          const dataTable =\n",
              "            await google.colab.kernel.invokeFunction('convertToInteractive',\n",
              "                                                     [key], {});\n",
              "          if (!dataTable) return;\n",
              "\n",
              "          const docLinkHtml = 'Like what you see? Visit the ' +\n",
              "            '<a target=\"_blank\" href=https://colab.research.google.com/notebooks/data_table.ipynb>data table notebook</a>'\n",
              "            + ' to learn more about interactive tables.';\n",
              "          element.innerHTML = '';\n",
              "          dataTable['output_type'] = 'display_data';\n",
              "          await google.colab.output.renderOutput(dataTable, element);\n",
              "          const docLink = document.createElement('div');\n",
              "          docLink.innerHTML = docLinkHtml;\n",
              "          element.appendChild(docLink);\n",
              "        }\n",
              "      </script>\n",
              "    </div>\n",
              "  </div>\n",
              "  "
            ]
          },
          "metadata": {},
          "execution_count": 24
        }
      ]
    },
    {
      "cell_type": "markdown",
      "metadata": {
        "id": "00Q7KoaESpuu"
      },
      "source": [
        " <b>Create columns in your CSIRO dataframe called `\"year_int_st\"` and `\"adjusted_min_level_st\"` that are standardized versions of `\"year_int\"` and `\"adjusted_min_level\"`.</b>"
      ]
    },
    {
      "cell_type": "code",
      "metadata": {
        "id": "DFgLtoixAwmk"
      },
      "source": [
        "csiro[\"year_int_st\"] = (csiro[\"year_int\"] - csiro[\"year_int\"].mean()) / csiro[\"year_int\"].std()\n",
        "csiro[\"adjusted_min_level_st\"] = (csiro[\"adjusted_min_level\"] - csiro[\"adjusted_min_level\"].mean()) / csiro[\"adjusted_min_level\"].std()"
      ],
      "execution_count": null,
      "outputs": []
    },
    {
      "cell_type": "code",
      "source": [
        "csiro.head(5)"
      ],
      "metadata": {
        "colab": {
          "base_uri": "https://localhost:8080/",
          "height": 206
        },
        "id": "PrOD-oy5MDSq",
        "outputId": "87098b42-0ebb-4cd0-f552-ce1baf3a3cc8"
      },
      "execution_count": null,
      "outputs": [
        {
          "output_type": "execute_result",
          "data": {
            "text/plain": [
              "         Year  CSIRO Adjusted Sea Level  Lower Error Bound  Upper Error Bound  \\\n",
              "0  1880-03-15                  0.000000          -0.952756           0.952756   \n",
              "1  1881-03-15                  0.220472          -0.732283           1.173228   \n",
              "2  1882-03-15                 -0.440945          -1.346457           0.464567   \n",
              "3  1883-03-15                 -0.232283          -1.129921           0.665354   \n",
              "4  1884-03-15                  0.590551          -0.283465           1.464567   \n",
              "\n",
              "   NOAA Adjusted Sea Level  min_level  adjusted_min_level  year_int  \\\n",
              "0                      NaN   0.000000         -175.782783      1880   \n",
              "1                      NaN   0.220472         -170.182783      1881   \n",
              "2                      NaN  -0.440945         -186.982783      1882   \n",
              "3                      NaN  -0.232283         -181.682783      1883   \n",
              "4                      NaN   0.590551         -160.782783      1884   \n",
              "\n",
              "   year_int_st  adjusted_min_level_st  \n",
              "0    -1.712888              -1.499067  \n",
              "1    -1.687323              -1.408251  \n",
              "2    -1.661757              -1.680699  \n",
              "3    -1.636192              -1.594748  \n",
              "4    -1.610626              -1.255810  "
            ],
            "text/html": [
              "\n",
              "  <div id=\"df-551848bc-90fe-4c08-8b59-a0bdb543658f\">\n",
              "    <div class=\"colab-df-container\">\n",
              "      <div>\n",
              "<style scoped>\n",
              "    .dataframe tbody tr th:only-of-type {\n",
              "        vertical-align: middle;\n",
              "    }\n",
              "\n",
              "    .dataframe tbody tr th {\n",
              "        vertical-align: top;\n",
              "    }\n",
              "\n",
              "    .dataframe thead th {\n",
              "        text-align: right;\n",
              "    }\n",
              "</style>\n",
              "<table border=\"1\" class=\"dataframe\">\n",
              "  <thead>\n",
              "    <tr style=\"text-align: right;\">\n",
              "      <th></th>\n",
              "      <th>Year</th>\n",
              "      <th>CSIRO Adjusted Sea Level</th>\n",
              "      <th>Lower Error Bound</th>\n",
              "      <th>Upper Error Bound</th>\n",
              "      <th>NOAA Adjusted Sea Level</th>\n",
              "      <th>min_level</th>\n",
              "      <th>adjusted_min_level</th>\n",
              "      <th>year_int</th>\n",
              "      <th>year_int_st</th>\n",
              "      <th>adjusted_min_level_st</th>\n",
              "    </tr>\n",
              "  </thead>\n",
              "  <tbody>\n",
              "    <tr>\n",
              "      <th>0</th>\n",
              "      <td>1880-03-15</td>\n",
              "      <td>0.000000</td>\n",
              "      <td>-0.952756</td>\n",
              "      <td>0.952756</td>\n",
              "      <td>NaN</td>\n",
              "      <td>0.000000</td>\n",
              "      <td>-175.782783</td>\n",
              "      <td>1880</td>\n",
              "      <td>-1.712888</td>\n",
              "      <td>-1.499067</td>\n",
              "    </tr>\n",
              "    <tr>\n",
              "      <th>1</th>\n",
              "      <td>1881-03-15</td>\n",
              "      <td>0.220472</td>\n",
              "      <td>-0.732283</td>\n",
              "      <td>1.173228</td>\n",
              "      <td>NaN</td>\n",
              "      <td>0.220472</td>\n",
              "      <td>-170.182783</td>\n",
              "      <td>1881</td>\n",
              "      <td>-1.687323</td>\n",
              "      <td>-1.408251</td>\n",
              "    </tr>\n",
              "    <tr>\n",
              "      <th>2</th>\n",
              "      <td>1882-03-15</td>\n",
              "      <td>-0.440945</td>\n",
              "      <td>-1.346457</td>\n",
              "      <td>0.464567</td>\n",
              "      <td>NaN</td>\n",
              "      <td>-0.440945</td>\n",
              "      <td>-186.982783</td>\n",
              "      <td>1882</td>\n",
              "      <td>-1.661757</td>\n",
              "      <td>-1.680699</td>\n",
              "    </tr>\n",
              "    <tr>\n",
              "      <th>3</th>\n",
              "      <td>1883-03-15</td>\n",
              "      <td>-0.232283</td>\n",
              "      <td>-1.129921</td>\n",
              "      <td>0.665354</td>\n",
              "      <td>NaN</td>\n",
              "      <td>-0.232283</td>\n",
              "      <td>-181.682783</td>\n",
              "      <td>1883</td>\n",
              "      <td>-1.636192</td>\n",
              "      <td>-1.594748</td>\n",
              "    </tr>\n",
              "    <tr>\n",
              "      <th>4</th>\n",
              "      <td>1884-03-15</td>\n",
              "      <td>0.590551</td>\n",
              "      <td>-0.283465</td>\n",
              "      <td>1.464567</td>\n",
              "      <td>NaN</td>\n",
              "      <td>0.590551</td>\n",
              "      <td>-160.782783</td>\n",
              "      <td>1884</td>\n",
              "      <td>-1.610626</td>\n",
              "      <td>-1.255810</td>\n",
              "    </tr>\n",
              "  </tbody>\n",
              "</table>\n",
              "</div>\n",
              "      <button class=\"colab-df-convert\" onclick=\"convertToInteractive('df-551848bc-90fe-4c08-8b59-a0bdb543658f')\"\n",
              "              title=\"Convert this dataframe to an interactive table.\"\n",
              "              style=\"display:none;\">\n",
              "        \n",
              "  <svg xmlns=\"http://www.w3.org/2000/svg\" height=\"24px\"viewBox=\"0 0 24 24\"\n",
              "       width=\"24px\">\n",
              "    <path d=\"M0 0h24v24H0V0z\" fill=\"none\"/>\n",
              "    <path d=\"M18.56 5.44l.94 2.06.94-2.06 2.06-.94-2.06-.94-.94-2.06-.94 2.06-2.06.94zm-11 1L8.5 8.5l.94-2.06 2.06-.94-2.06-.94L8.5 2.5l-.94 2.06-2.06.94zm10 10l.94 2.06.94-2.06 2.06-.94-2.06-.94-.94-2.06-.94 2.06-2.06.94z\"/><path d=\"M17.41 7.96l-1.37-1.37c-.4-.4-.92-.59-1.43-.59-.52 0-1.04.2-1.43.59L10.3 9.45l-7.72 7.72c-.78.78-.78 2.05 0 2.83L4 21.41c.39.39.9.59 1.41.59.51 0 1.02-.2 1.41-.59l7.78-7.78 2.81-2.81c.8-.78.8-2.07 0-2.86zM5.41 20L4 18.59l7.72-7.72 1.47 1.35L5.41 20z\"/>\n",
              "  </svg>\n",
              "      </button>\n",
              "      \n",
              "  <style>\n",
              "    .colab-df-container {\n",
              "      display:flex;\n",
              "      flex-wrap:wrap;\n",
              "      gap: 12px;\n",
              "    }\n",
              "\n",
              "    .colab-df-convert {\n",
              "      background-color: #E8F0FE;\n",
              "      border: none;\n",
              "      border-radius: 50%;\n",
              "      cursor: pointer;\n",
              "      display: none;\n",
              "      fill: #1967D2;\n",
              "      height: 32px;\n",
              "      padding: 0 0 0 0;\n",
              "      width: 32px;\n",
              "    }\n",
              "\n",
              "    .colab-df-convert:hover {\n",
              "      background-color: #E2EBFA;\n",
              "      box-shadow: 0px 1px 2px rgba(60, 64, 67, 0.3), 0px 1px 3px 1px rgba(60, 64, 67, 0.15);\n",
              "      fill: #174EA6;\n",
              "    }\n",
              "\n",
              "    [theme=dark] .colab-df-convert {\n",
              "      background-color: #3B4455;\n",
              "      fill: #D2E3FC;\n",
              "    }\n",
              "\n",
              "    [theme=dark] .colab-df-convert:hover {\n",
              "      background-color: #434B5C;\n",
              "      box-shadow: 0px 1px 3px 1px rgba(0, 0, 0, 0.15);\n",
              "      filter: drop-shadow(0px 1px 2px rgba(0, 0, 0, 0.3));\n",
              "      fill: #FFFFFF;\n",
              "    }\n",
              "  </style>\n",
              "\n",
              "      <script>\n",
              "        const buttonEl =\n",
              "          document.querySelector('#df-551848bc-90fe-4c08-8b59-a0bdb543658f button.colab-df-convert');\n",
              "        buttonEl.style.display =\n",
              "          google.colab.kernel.accessAllowed ? 'block' : 'none';\n",
              "\n",
              "        async function convertToInteractive(key) {\n",
              "          const element = document.querySelector('#df-551848bc-90fe-4c08-8b59-a0bdb543658f');\n",
              "          const dataTable =\n",
              "            await google.colab.kernel.invokeFunction('convertToInteractive',\n",
              "                                                     [key], {});\n",
              "          if (!dataTable) return;\n",
              "\n",
              "          const docLinkHtml = 'Like what you see? Visit the ' +\n",
              "            '<a target=\"_blank\" href=https://colab.research.google.com/notebooks/data_table.ipynb>data table notebook</a>'\n",
              "            + ' to learn more about interactive tables.';\n",
              "          element.innerHTML = '';\n",
              "          dataTable['output_type'] = 'display_data';\n",
              "          await google.colab.output.renderOutput(dataTable, element);\n",
              "          const docLink = document.createElement('div');\n",
              "          docLink.innerHTML = docLinkHtml;\n",
              "          element.appendChild(docLink);\n",
              "        }\n",
              "      </script>\n",
              "    </div>\n",
              "  </div>\n",
              "  "
            ]
          },
          "metadata": {},
          "execution_count": 26
        }
      ]
    },
    {
      "cell_type": "markdown",
      "metadata": {
        "id": "eScY6F7Lrwea"
      },
      "source": [
        "<b>Make a plot of the standardized NOAA global data.</b>"
      ]
    },
    {
      "cell_type": "code",
      "metadata": {
        "id": "e4TeJ38RrwMa",
        "colab": {
          "base_uri": "https://localhost:8080/",
          "height": 296
        },
        "outputId": "8bfbbff5-a560-45b5-f7c3-47b16ab60a78"
      },
      "source": [
        "noaa.plot(\"year_st\", \"max_level_st\", kind=\"line\", linewidth=0.5,\n",
        "                xlabel=\"Year [standardized]\",\n",
        "                ylabel=\"Max Sea level [standardized]\",\n",
        "                color=\"steelblue\", label=\"NOAA data\")"
      ],
      "execution_count": null,
      "outputs": [
        {
          "output_type": "execute_result",
          "data": {
            "text/plain": [
              "<AxesSubplot:xlabel='Year [standardized]', ylabel='Max Sea level [standardized]'>"
            ]
          },
          "metadata": {},
          "execution_count": 27
        },
        {
          "output_type": "display_data",
          "data": {
            "text/plain": [
              "<Figure size 432x288 with 1 Axes>"
            ],
            "image/png": "[encoded data removed]"
          },
          "metadata": {
            "needs_background": "light"
          }
        }
      ]
    },
    {
      "cell_type": "markdown",
      "metadata": {
        "id": "4C34ZrtLERYG"
      },
      "source": [
        "<b>Make a plot of the standardized CSIRO data.</b>"
      ]
    },
    {
      "cell_type": "code",
      "metadata": {
        "id": "oJ5zxjiUEYH5",
        "colab": {
          "base_uri": "https://localhost:8080/",
          "height": 296
        },
        "outputId": "f277bca8-efb8-4197-a783-14056751e427"
      },
      "source": [
        "csiro.plot(\"year_int_st\", \"adjusted_min_level_st\", kind=\"line\", linewidth=0.5,\n",
        "                xlabel=\"Year [standardized]\",\n",
        "                ylabel=\"Min Sea level [standardized]\",\n",
        "                color=\"Red\", label=\"CSIRO data\")"
      ],
      "execution_count": null,
      "outputs": [
        {
          "output_type": "execute_result",
          "data": {
            "text/plain": [
              "<AxesSubplot:xlabel='Year [standardized]', ylabel='Min Sea level [standardized]'>"
            ]
          },
          "metadata": {},
          "execution_count": 28
        },
        {
          "output_type": "display_data",
          "data": {
            "text/plain": [
              "<Figure size 432x288 with 1 Axes>"
            ],
            "image/png": "[encoded data removed]"
          },
          "metadata": {
            "needs_background": "light"
          }
        }
      ]
    },
    {
      "cell_type": "markdown",
      "metadata": {
        "id": "h0FudZHVEYQ2"
      },
      "source": [
        "### **PART 5 - Fit and compare models between NOAA and CSIRO**"
      ]
    },
    {
      "cell_type": "markdown",
      "metadata": {
        "id": "Wz7btZQ9FBf6"
      },
      "source": [
        "<b>Import `SGDRegressor` from `sklearn` and run a regression model on the NOAA global data using the default parameters.</b>"
      ]
    },
    {
      "cell_type": "code",
      "metadata": {
        "id": "0qjT7U7IEYaQ",
        "colab": {
          "base_uri": "https://localhost:8080/"
        },
        "outputId": "5b0e31c1-94c6-48d7-9ebf-6d1f43319b8b"
      },
      "source": [
        "from sklearn.linear_model import SGDRegressor\n",
        "noaa_lm = SGDRegressor()\n",
        "noaa_lm.fit(noaa[[\"year_st\"]], noaa[\"max_level_st\"])"
      ],
      "execution_count": null,
      "outputs": [
        {
          "output_type": "execute_result",
          "data": {
            "text/plain": [
              "SGDRegressor()"
            ]
          },
          "metadata": {},
          "execution_count": 29
        }
      ]
    },
    {
      "cell_type": "code",
      "source": [
        "noaa_model= noaa_lm.predict(noaa[[\"year_st\"]])\n",
        "noaa[\"model_st\"]= noaa_model"
      ],
      "metadata": {
        "id": "FQ7zyCIwPj3B"
      },
      "execution_count": null,
      "outputs": []
    },
    {
      "cell_type": "markdown",
      "metadata": {
        "id": "HBo0mE33uGyK"
      },
      "source": [
        "<b>\"Unstandardize\" the model as we did in class by multiplying by the standard deviation and adding the average of the unstandardized data set.</b>"
      ]
    },
    {
      "cell_type": "code",
      "metadata": {
        "id": "gfBIUggDFylY"
      },
      "source": [
        "noaa_model_unst = noaa[\"model_st\"] * noaa[\"max_level\"].std() + noaa[\"max_level\"].mean()\n",
        "noaa[\"model_unst\"]=noaa_model_unst"
      ],
      "execution_count": null,
      "outputs": []
    },
    {
      "cell_type": "code",
      "source": [
        "noaa.head()"
      ],
      "metadata": {
        "colab": {
          "base_uri": "https://localhost:8080/",
          "height": 206
        },
        "id": "xz7MFFWHXIBA",
        "outputId": "7e9edca2-4dcd-4015-e526-7459d6c2c17d"
      },
      "execution_count": null,
      "outputs": [
        {
          "output_type": "execute_result",
          "data": {
            "text/plain": [
              "        year  TOPEX/Poseidon  Jason-1  Jason-2  Jason-3  max_level   year_st  \\\n",
              "0  1992.9614          -19.24      NaN      NaN      NaN     -19.24 -1.968987   \n",
              "1  1992.9865          -19.65      NaN      NaN      NaN     -19.65 -1.965803   \n",
              "2  1993.0123          -15.32      NaN      NaN      NaN     -15.32 -1.962530   \n",
              "3  1993.0407          -19.12      NaN      NaN      NaN     -19.12 -1.958928   \n",
              "4  1993.0660          -23.64      NaN      NaN      NaN     -23.64 -1.955718   \n",
              "\n",
              "   max_level_st  model_st  model_unst  \n",
              "0     -1.819744 -1.934309  -22.050100  \n",
              "1     -1.836459 -1.931182  -21.973405  \n",
              "2     -1.659929 -1.927968  -21.894571  \n",
              "3     -1.814851 -1.924430  -21.807792  \n",
              "4     -1.999127 -1.921278  -21.730486  "
            ],
            "text/html": [
              "\n",
              "  <div id=\"df-71fd5916-7919-42af-8fc5-d95b98f8c2c7\">\n",
              "    <div class=\"colab-df-container\">\n",
              "      <div>\n",
              "<style scoped>\n",
              "    .dataframe tbody tr th:only-of-type {\n",
              "        vertical-align: middle;\n",
              "    }\n",
              "\n",
              "    .dataframe tbody tr th {\n",
              "        vertical-align: top;\n",
              "    }\n",
              "\n",
              "    .dataframe thead th {\n",
              "        text-align: right;\n",
              "    }\n",
              "</style>\n",
              "<table border=\"1\" class=\"dataframe\">\n",
              "  <thead>\n",
              "    <tr style=\"text-align: right;\">\n",
              "      <th></th>\n",
              "      <th>year</th>\n",
              "      <th>TOPEX/Poseidon</th>\n",
              "      <th>Jason-1</th>\n",
              "      <th>Jason-2</th>\n",
              "      <th>Jason-3</th>\n",
              "      <th>max_level</th>\n",
              "      <th>year_st</th>\n",
              "      <th>max_level_st</th>\n",
              "      <th>model_st</th>\n",
              "      <th>model_unst</th>\n",
              "    </tr>\n",
              "  </thead>\n",
              "  <tbody>\n",
              "    <tr>\n",
              "      <th>0</th>\n",
              "      <td>1992.9614</td>\n",
              "      <td>-19.24</td>\n",
              "      <td>NaN</td>\n",
              "      <td>NaN</td>\n",
              "      <td>NaN</td>\n",
              "      <td>-19.24</td>\n",
              "      <td>-1.968987</td>\n",
              "      <td>-1.819744</td>\n",
              "      <td>-1.934309</td>\n",
              "      <td>-22.050100</td>\n",
              "    </tr>\n",
              "    <tr>\n",
              "      <th>1</th>\n",
              "      <td>1992.9865</td>\n",
              "      <td>-19.65</td>\n",
              "      <td>NaN</td>\n",
              "      <td>NaN</td>\n",
              "      <td>NaN</td>\n",
              "      <td>-19.65</td>\n",
              "      <td>-1.965803</td>\n",
              "      <td>-1.836459</td>\n",
              "      <td>-1.931182</td>\n",
              "      <td>-21.973405</td>\n",
              "    </tr>\n",
              "    <tr>\n",
              "      <th>2</th>\n",
              "      <td>1993.0123</td>\n",
              "      <td>-15.32</td>\n",
              "      <td>NaN</td>\n",
              "      <td>NaN</td>\n",
              "      <td>NaN</td>\n",
              "      <td>-15.32</td>\n",
              "      <td>-1.962530</td>\n",
              "      <td>-1.659929</td>\n",
              "      <td>-1.927968</td>\n",
              "      <td>-21.894571</td>\n",
              "    </tr>\n",
              "    <tr>\n",
              "      <th>3</th>\n",
              "      <td>1993.0407</td>\n",
              "      <td>-19.12</td>\n",
              "      <td>NaN</td>\n",
              "      <td>NaN</td>\n",
              "      <td>NaN</td>\n",
              "      <td>-19.12</td>\n",
              "      <td>-1.958928</td>\n",
              "      <td>-1.814851</td>\n",
              "      <td>-1.924430</td>\n",
              "      <td>-21.807792</td>\n",
              "    </tr>\n",
              "    <tr>\n",
              "      <th>4</th>\n",
              "      <td>1993.0660</td>\n",
              "      <td>-23.64</td>\n",
              "      <td>NaN</td>\n",
              "      <td>NaN</td>\n",
              "      <td>NaN</td>\n",
              "      <td>-23.64</td>\n",
              "      <td>-1.955718</td>\n",
              "      <td>-1.999127</td>\n",
              "      <td>-1.921278</td>\n",
              "      <td>-21.730486</td>\n",
              "    </tr>\n",
              "  </tbody>\n",
              "</table>\n",
              "</div>\n",
              "      <button class=\"colab-df-convert\" onclick=\"convertToInteractive('df-71fd5916-7919-42af-8fc5-d95b98f8c2c7')\"\n",
              "              title=\"Convert this dataframe to an interactive table.\"\n",
              "              style=\"display:none;\">\n",
              "        \n",
              "  <svg xmlns=\"http://www.w3.org/2000/svg\" height=\"24px\"viewBox=\"0 0 24 24\"\n",
              "       width=\"24px\">\n",
              "    <path d=\"M0 0h24v24H0V0z\" fill=\"none\"/>\n",
              "    <path d=\"M18.56 5.44l.94 2.06.94-2.06 2.06-.94-2.06-.94-.94-2.06-.94 2.06-2.06.94zm-11 1L8.5 8.5l.94-2.06 2.06-.94-2.06-.94L8.5 2.5l-.94 2.06-2.06.94zm10 10l.94 2.06.94-2.06 2.06-.94-2.06-.94-.94-2.06-.94 2.06-2.06.94z\"/><path d=\"M17.41 7.96l-1.37-1.37c-.4-.4-.92-.59-1.43-.59-.52 0-1.04.2-1.43.59L10.3 9.45l-7.72 7.72c-.78.78-.78 2.05 0 2.83L4 21.41c.39.39.9.59 1.41.59.51 0 1.02-.2 1.41-.59l7.78-7.78 2.81-2.81c.8-.78.8-2.07 0-2.86zM5.41 20L4 18.59l7.72-7.72 1.47 1.35L5.41 20z\"/>\n",
              "  </svg>\n",
              "      </button>\n",
              "      \n",
              "  <style>\n",
              "    .colab-df-container {\n",
              "      display:flex;\n",
              "      flex-wrap:wrap;\n",
              "      gap: 12px;\n",
              "    }\n",
              "\n",
              "    .colab-df-convert {\n",
              "      background-color: #E8F0FE;\n",
              "      border: none;\n",
              "      border-radius: 50%;\n",
              "      cursor: pointer;\n",
              "      display: none;\n",
              "      fill: #1967D2;\n",
              "      height: 32px;\n",
              "      padding: 0 0 0 0;\n",
              "      width: 32px;\n",
              "    }\n",
              "\n",
              "    .colab-df-convert:hover {\n",
              "      background-color: #E2EBFA;\n",
              "      box-shadow: 0px 1px 2px rgba(60, 64, 67, 0.3), 0px 1px 3px 1px rgba(60, 64, 67, 0.15);\n",
              "      fill: #174EA6;\n",
              "    }\n",
              "\n",
              "    [theme=dark] .colab-df-convert {\n",
              "      background-color: #3B4455;\n",
              "      fill: #D2E3FC;\n",
              "    }\n",
              "\n",
              "    [theme=dark] .colab-df-convert:hover {\n",
              "      background-color: #434B5C;\n",
              "      box-shadow: 0px 1px 3px 1px rgba(0, 0, 0, 0.15);\n",
              "      filter: drop-shadow(0px 1px 2px rgba(0, 0, 0, 0.3));\n",
              "      fill: #FFFFFF;\n",
              "    }\n",
              "  </style>\n",
              "\n",
              "      <script>\n",
              "        const buttonEl =\n",
              "          document.querySelector('#df-71fd5916-7919-42af-8fc5-d95b98f8c2c7 button.colab-df-convert');\n",
              "        buttonEl.style.display =\n",
              "          google.colab.kernel.accessAllowed ? 'block' : 'none';\n",
              "\n",
              "        async function convertToInteractive(key) {\n",
              "          const element = document.querySelector('#df-71fd5916-7919-42af-8fc5-d95b98f8c2c7');\n",
              "          const dataTable =\n",
              "            await google.colab.kernel.invokeFunction('convertToInteractive',\n",
              "                                                     [key], {});\n",
              "          if (!dataTable) return;\n",
              "\n",
              "          const docLinkHtml = 'Like what you see? Visit the ' +\n",
              "            '<a target=\"_blank\" href=https://colab.research.google.com/notebooks/data_table.ipynb>data table notebook</a>'\n",
              "            + ' to learn more about interactive tables.';\n",
              "          element.innerHTML = '';\n",
              "          dataTable['output_type'] = 'display_data';\n",
              "          await google.colab.output.renderOutput(dataTable, element);\n",
              "          const docLink = document.createElement('div');\n",
              "          docLink.innerHTML = docLinkHtml;\n",
              "          element.appendChild(docLink);\n",
              "        }\n",
              "      </script>\n",
              "    </div>\n",
              "  </div>\n",
              "  "
            ]
          },
          "metadata": {},
          "execution_count": 32
        }
      ]
    },
    {
      "cell_type": "markdown",
      "metadata": {
        "id": "ZYb4SYtNHpVj"
      },
      "source": [
        "<b>Calculate the Mean Squared Error (MSE) and $R^2$ for this model.</b>"
      ]
    },
    {
      "cell_type": "code",
      "metadata": {
        "id": "ouu0yL1EFyuw",
        "colab": {
          "base_uri": "https://localhost:8080/"
        },
        "outputId": "77c3daf8-c0c5-44a1-ed48-08913aa20c8b"
      },
      "source": [
        "mse = np.mean((noaa[\"max_level\"] - noaa[\"model_unst\"])**2)\n",
        "print(\"MSE = {0:0.4}\".format(mse))\n",
        "\n",
        "r2 = 1 - np.var(noaa[\"max_level\"] - noaa[\"model_unst\"]) / np.var(noaa[\"max_level\"])\n",
        "print(\"R^2 = {0:0.2}\".format(r2))"
      ],
      "execution_count": null,
      "outputs": [
        {
          "output_type": "stream",
          "name": "stdout",
          "text": [
            "MSE = 21.89\n",
            "R^2 = 0.96\n"
          ]
        }
      ]
    },
    {
      "cell_type": "markdown",
      "metadata": {
        "id": "-TWdrc2-Fy4Z"
      },
      "source": [
        "<b>Overplot this model on the global data.</b>"
      ]
    },
    {
      "cell_type": "code",
      "metadata": {
        "id": "2V4JTpShMTqm",
        "colab": {
          "base_uri": "https://localhost:8080/",
          "height": 279
        },
        "outputId": "929856a5-2292-4f21-a4a2-bce68737afd1"
      },
      "source": [
        "ax = noaa.plot(\"year\", \"max_level\", kind=\"scatter\",\n",
        "                xlabel=\"Year\",\n",
        "                ylabel=\"Sea level relative to 2000 [mm]\",\n",
        "                color=\"steelblue\", label=\"NOAA data\", s=20)\n",
        "ax = noaa.plot(\"year\", \"model_unst\", label=\"Linear model\", color=\"red\", ax=ax)"
      ],
      "execution_count": null,
      "outputs": [
        {
          "output_type": "display_data",
          "data": {
            "text/plain": [
              "<Figure size 432x288 with 1 Axes>"
            ],
            "image/png": "[encoded data removed]"
          },
          "metadata": {
            "needs_background": "light"
          }
        }
      ]
    },
    {
      "cell_type": "markdown",
      "metadata": {
        "id": "0CUHVR3WMTfw"
      },
      "source": [
        "<b>Fit an SGDRegressor model to the standardized CSIRO data, \"un-standardize\" the model, and calculate the MSE and $R^2$ for this model.</b>"
      ]
    },
    {
      "cell_type": "code",
      "metadata": {
        "id": "1cYdcWmfMTVK",
        "colab": {
          "base_uri": "https://localhost:8080/"
        },
        "outputId": "40200624-0d3d-4df3-f554-76e08d0cddab"
      },
      "source": [
        "from sklearn.linear_model import SGDRegressor\n",
        "\n",
        "csiro_lm = SGDRegressor()\n",
        "csiro_lm.fit(csiro[[\"year_int_st\"]], csiro[\"adjusted_min_level_st\"])\n",
        "\n",
        "csiro_model= csiro_lm.predict(csiro[[\"year_int_st\"]])\n",
        "csiro[\"model_st\"]= csiro_model\n",
        "\n",
        "csiro_model_unst = (csiro[\"model_st\"] * csiro[\"adjusted_min_level\"].std()) + csiro[\"adjusted_min_level\"].mean()\n",
        "csiro[\"model_unst\"]=csiro_model_unst\n",
        "mse = np.mean((csiro[\"adjusted_min_level\"] - csiro[\"model_unst\"])**2)\n",
        "print(\"MSE = {0:0.4}\".format(mse))\n",
        "\n",
        "r2 = 1 - np.var(csiro[\"adjusted_min_level\"] - csiro[\"model_unst\"]) / np.var(csiro[\"adjusted_min_level\"])\n",
        "print(\"R^2 = {0:0.2}\".format(r2))\n"
      ],
      "execution_count": null,
      "outputs": [
        {
          "output_type": "stream",
          "name": "stdout",
          "text": [
            "MSE = 82.67\n",
            "R^2 = 0.98\n"
          ]
        }
      ]
    },
    {
      "cell_type": "code",
      "source": [
        "csiro.head(3)"
      ],
      "metadata": {
        "colab": {
          "base_uri": "https://localhost:8080/",
          "height": 143
        },
        "id": "tUg4wcsraC8C",
        "outputId": "11ac2b75-f638-43b7-a12d-33a9accc9ebd"
      },
      "execution_count": null,
      "outputs": [
        {
          "output_type": "execute_result",
          "data": {
            "text/plain": [
              "         Year  CSIRO Adjusted Sea Level  Lower Error Bound  Upper Error Bound  \\\n",
              "0  1880-03-15                  0.000000          -0.952756           0.952756   \n",
              "1  1881-03-15                  0.220472          -0.732283           1.173228   \n",
              "2  1882-03-15                 -0.440945          -1.346457           0.464567   \n",
              "\n",
              "   NOAA Adjusted Sea Level  min_level  adjusted_min_level  year_int  \\\n",
              "0                      NaN   0.000000         -175.782783      1880   \n",
              "1                      NaN   0.220472         -170.182783      1881   \n",
              "2                      NaN  -0.440945         -186.982783      1882   \n",
              "\n",
              "   year_int_st  adjusted_min_level_st  model_st  model_unst  \n",
              "0    -1.712888              -1.499067 -1.662059 -185.833393  \n",
              "1    -1.687323              -1.408251 -1.637255 -184.303873  \n",
              "2    -1.661757              -1.680699 -1.612450 -182.774353  "
            ],
            "text/html": [
              "\n",
              "  <div id=\"df-06cd581f-1064-4383-bfb8-09a85c688956\">\n",
              "    <div class=\"colab-df-container\">\n",
              "      <div>\n",
              "<style scoped>\n",
              "    .dataframe tbody tr th:only-of-type {\n",
              "        vertical-align: middle;\n",
              "    }\n",
              "\n",
              "    .dataframe tbody tr th {\n",
              "        vertical-align: top;\n",
              "    }\n",
              "\n",
              "    .dataframe thead th {\n",
              "        text-align: right;\n",
              "    }\n",
              "</style>\n",
              "<table border=\"1\" class=\"dataframe\">\n",
              "  <thead>\n",
              "    <tr style=\"text-align: right;\">\n",
              "      <th></th>\n",
              "      <th>Year</th>\n",
              "      <th>CSIRO Adjusted Sea Level</th>\n",
              "      <th>Lower Error Bound</th>\n",
              "      <th>Upper Error Bound</th>\n",
              "      <th>NOAA Adjusted Sea Level</th>\n",
              "      <th>min_level</th>\n",
              "      <th>adjusted_min_level</th>\n",
              "      <th>year_int</th>\n",
              "      <th>year_int_st</th>\n",
              "      <th>adjusted_min_level_st</th>\n",
              "      <th>model_st</th>\n",
              "      <th>model_unst</th>\n",
              "    </tr>\n",
              "  </thead>\n",
              "  <tbody>\n",
              "    <tr>\n",
              "      <th>0</th>\n",
              "      <td>1880-03-15</td>\n",
              "      <td>0.000000</td>\n",
              "      <td>-0.952756</td>\n",
              "      <td>0.952756</td>\n",
              "      <td>NaN</td>\n",
              "      <td>0.000000</td>\n",
              "      <td>-175.782783</td>\n",
              "      <td>1880</td>\n",
              "      <td>-1.712888</td>\n",
              "      <td>-1.499067</td>\n",
              "      <td>-1.662059</td>\n",
              "      <td>-185.833393</td>\n",
              "    </tr>\n",
              "    <tr>\n",
              "      <th>1</th>\n",
              "      <td>1881-03-15</td>\n",
              "      <td>0.220472</td>\n",
              "      <td>-0.732283</td>\n",
              "      <td>1.173228</td>\n",
              "      <td>NaN</td>\n",
              "      <td>0.220472</td>\n",
              "      <td>-170.182783</td>\n",
              "      <td>1881</td>\n",
              "      <td>-1.687323</td>\n",
              "      <td>-1.408251</td>\n",
              "      <td>-1.637255</td>\n",
              "      <td>-184.303873</td>\n",
              "    </tr>\n",
              "    <tr>\n",
              "      <th>2</th>\n",
              "      <td>1882-03-15</td>\n",
              "      <td>-0.440945</td>\n",
              "      <td>-1.346457</td>\n",
              "      <td>0.464567</td>\n",
              "      <td>NaN</td>\n",
              "      <td>-0.440945</td>\n",
              "      <td>-186.982783</td>\n",
              "      <td>1882</td>\n",
              "      <td>-1.661757</td>\n",
              "      <td>-1.680699</td>\n",
              "      <td>-1.612450</td>\n",
              "      <td>-182.774353</td>\n",
              "    </tr>\n",
              "  </tbody>\n",
              "</table>\n",
              "</div>\n",
              "      <button class=\"colab-df-convert\" onclick=\"convertToInteractive('df-06cd581f-1064-4383-bfb8-09a85c688956')\"\n",
              "              title=\"Convert this dataframe to an interactive table.\"\n",
              "              style=\"display:none;\">\n",
              "        \n",
              "  <svg xmlns=\"http://www.w3.org/2000/svg\" height=\"24px\"viewBox=\"0 0 24 24\"\n",
              "       width=\"24px\">\n",
              "    <path d=\"M0 0h24v24H0V0z\" fill=\"none\"/>\n",
              "    <path d=\"M18.56 5.44l.94 2.06.94-2.06 2.06-.94-2.06-.94-.94-2.06-.94 2.06-2.06.94zm-11 1L8.5 8.5l.94-2.06 2.06-.94-2.06-.94L8.5 2.5l-.94 2.06-2.06.94zm10 10l.94 2.06.94-2.06 2.06-.94-2.06-.94-.94-2.06-.94 2.06-2.06.94z\"/><path d=\"M17.41 7.96l-1.37-1.37c-.4-.4-.92-.59-1.43-.59-.52 0-1.04.2-1.43.59L10.3 9.45l-7.72 7.72c-.78.78-.78 2.05 0 2.83L4 21.41c.39.39.9.59 1.41.59.51 0 1.02-.2 1.41-.59l7.78-7.78 2.81-2.81c.8-.78.8-2.07 0-2.86zM5.41 20L4 18.59l7.72-7.72 1.47 1.35L5.41 20z\"/>\n",
              "  </svg>\n",
              "      </button>\n",
              "      \n",
              "  <style>\n",
              "    .colab-df-container {\n",
              "      display:flex;\n",
              "      flex-wrap:wrap;\n",
              "      gap: 12px;\n",
              "    }\n",
              "\n",
              "    .colab-df-convert {\n",
              "      background-color: #E8F0FE;\n",
              "      border: none;\n",
              "      border-radius: 50%;\n",
              "      cursor: pointer;\n",
              "      display: none;\n",
              "      fill: #1967D2;\n",
              "      height: 32px;\n",
              "      padding: 0 0 0 0;\n",
              "      width: 32px;\n",
              "    }\n",
              "\n",
              "    .colab-df-convert:hover {\n",
              "      background-color: #E2EBFA;\n",
              "      box-shadow: 0px 1px 2px rgba(60, 64, 67, 0.3), 0px 1px 3px 1px rgba(60, 64, 67, 0.15);\n",
              "      fill: #174EA6;\n",
              "    }\n",
              "\n",
              "    [theme=dark] .colab-df-convert {\n",
              "      background-color: #3B4455;\n",
              "      fill: #D2E3FC;\n",
              "    }\n",
              "\n",
              "    [theme=dark] .colab-df-convert:hover {\n",
              "      background-color: #434B5C;\n",
              "      box-shadow: 0px 1px 3px 1px rgba(0, 0, 0, 0.15);\n",
              "      filter: drop-shadow(0px 1px 2px rgba(0, 0, 0, 0.3));\n",
              "      fill: #FFFFFF;\n",
              "    }\n",
              "  </style>\n",
              "\n",
              "      <script>\n",
              "        const buttonEl =\n",
              "          document.querySelector('#df-06cd581f-1064-4383-bfb8-09a85c688956 button.colab-df-convert');\n",
              "        buttonEl.style.display =\n",
              "          google.colab.kernel.accessAllowed ? 'block' : 'none';\n",
              "\n",
              "        async function convertToInteractive(key) {\n",
              "          const element = document.querySelector('#df-06cd581f-1064-4383-bfb8-09a85c688956');\n",
              "          const dataTable =\n",
              "            await google.colab.kernel.invokeFunction('convertToInteractive',\n",
              "                                                     [key], {});\n",
              "          if (!dataTable) return;\n",
              "\n",
              "          const docLinkHtml = 'Like what you see? Visit the ' +\n",
              "            '<a target=\"_blank\" href=https://colab.research.google.com/notebooks/data_table.ipynb>data table notebook</a>'\n",
              "            + ' to learn more about interactive tables.';\n",
              "          element.innerHTML = '';\n",
              "          dataTable['output_type'] = 'display_data';\n",
              "          await google.colab.output.renderOutput(dataTable, element);\n",
              "          const docLink = document.createElement('div');\n",
              "          docLink.innerHTML = docLinkHtml;\n",
              "          element.appendChild(docLink);\n",
              "        }\n",
              "      </script>\n",
              "    </div>\n",
              "  </div>\n",
              "  "
            ]
          },
          "metadata": {},
          "execution_count": 36
        }
      ]
    },
    {
      "cell_type": "markdown",
      "metadata": {
        "id": "wbzcFFRLQTRI"
      },
      "source": [
        "<b>Overplot this model on the CSIRO data.</b>"
      ]
    },
    {
      "cell_type": "code",
      "source": [
        "ax = csiro.plot(\"year_int\", \"adjusted_min_level\", kind=\"scatter\",\n",
        "                xlabel=\"Year\",\n",
        "                ylabel=\"Min sea level [mm]\",\n",
        "                color=\"steelblue\", label=\"CSIRO data\", s=20)\n",
        "ax = csiro.plot(\"year_int\", \"model_unst\", label=\"Linear model\", color=\"red\", ax=ax)"
      ],
      "metadata": {
        "colab": {
          "base_uri": "https://localhost:8080/",
          "height": 280
        },
        "id": "71h8Xh9UZ3B7",
        "outputId": "ab16c170-4369-445a-bf35-eb93ced5feae"
      },
      "execution_count": null,
      "outputs": [
        {
          "output_type": "display_data",
          "data": {
            "text/plain": [
              "<Figure size 432x288 with 1 Axes>"
            ],
            "image/png": "[encoded data removed]"
          },
          "metadata": {
            "needs_background": "light"
          }
        }
      ]
    },
    {
      "cell_type": "code",
      "source": [
        "#Predicting for 2100 CSIRO\n",
        "\n",
        "csiro_unst_2100= (2100 - csiro[\"year_int\"].mean()) / csiro[\"year_int\"].std() #standardize\n",
        "hgt = csiro_unst_2100.reshape(-1, 1)\n",
        "x=csiro_lm.predict(hgt)\n",
        "x * csiro[\"adjusted_min_level\"].std() + csiro[\"adjusted_min_level\"].mean()\n"
      ],
      "metadata": {
        "colab": {
          "base_uri": "https://localhost:8080/"
        },
        "id": "ENvu_99gazOs",
        "outputId": "f2fc42c3-b6f1-4f4e-ef11-013b09ad853e"
      },
      "execution_count": null,
      "outputs": [
        {
          "output_type": "stream",
          "name": "stderr",
          "text": [
            "/usr/local/lib/python3.8/dist-packages/sklearn/base.py:450: UserWarning: X does not have valid feature names, but SGDRegressor was fitted with feature names\n",
            "  warnings.warn(\n"
          ]
        },
        {
          "output_type": "execute_result",
          "data": {
            "text/plain": [
              "array([150.66106376])"
            ]
          },
          "metadata": {},
          "execution_count": 38
        }
      ]
    },
    {
      "cell_type": "code",
      "source": [
        "#Predicting for 2100 NOAA\n",
        "\n",
        "noaa_unst_2100= (2100 - noaa[\"year\"].mean()) / noaa[\"year\"].std()\n",
        "fgt = noaa_unst_2100.reshape(-1, 1)\n",
        "y=noaa_lm.predict(fgt)\n",
        "y * noaa[\"max_level\"].std() + noaa[\"max_level\"].mean()"
      ],
      "metadata": {
        "colab": {
          "base_uri": "https://localhost:8080/"
        },
        "id": "GvsDYEicgE5x",
        "outputId": "ec1084ae-dbca-4d45-a6e0-b94708378513"
      },
      "execution_count": null,
      "outputs": [
        {
          "output_type": "stream",
          "name": "stderr",
          "text": [
            "/usr/local/lib/python3.8/dist-packages/sklearn/base.py:450: UserWarning: X does not have valid feature names, but SGDRegressor was fitted with feature names\n",
            "  warnings.warn(\n"
          ]
        },
        {
          "output_type": "execute_result",
          "data": {
            "text/plain": [
              "array([305.01620158])"
            ]
          },
          "metadata": {},
          "execution_count": 39
        }
      ]
    },
    {
      "cell_type": "code",
      "source": [
        "noaa_lm.intercept_"
      ],
      "metadata": {
        "colab": {
          "base_uri": "https://localhost:8080/"
        },
        "id": "h-Aij7aCBuCN",
        "outputId": "73747d13-de09-4b16-e483-d4fac2c5f781"
      },
      "execution_count": null,
      "outputs": [
        {
          "output_type": "execute_result",
          "data": {
            "text/plain": [
              "array([-0.00073066])"
            ]
          },
          "metadata": {},
          "execution_count": 40
        }
      ]
    },
    {
      "cell_type": "code",
      "source": [
        "csiro_lm.intercept_"
      ],
      "metadata": {
        "colab": {
          "base_uri": "https://localhost:8080/"
        },
        "id": "gGFcnv_GBzbh",
        "outputId": "f34bc93d-4ef2-4e1f-d714-33d3cb214d57"
      },
      "execution_count": null,
      "outputs": [
        {
          "output_type": "execute_result",
          "data": {
            "text/plain": [
              "array([-0.00016263])"
            ]
          },
          "metadata": {},
          "execution_count": 41
        }
      ]
    },
    {
      "cell_type": "markdown",
      "metadata": {
        "id": "EXAX7y0tN874"
      },
      "source": [
        "<b>Comment on the above plots by answering the following questions:  Which data is better fit by a linear model?  Why do you think that is?  What are the rates of sea level rise for each model?  What are the predictions for each model for sea level in 2100?  What approximations have we made that may or may not be accurate?</b>"
      ]
    },
    {
      "cell_type": "markdown",
      "metadata": {
        "id": "CKB2XvlSQDll"
      },
      "source": [
        "The R2 of both the plots are almost similar. R2=0.98 for CSIRO and 0.96 for NOAA but the MSE for NOAA is lesser (21.89) than that of CSIRO (83.07). Hence NOAA is better fit by a linear model than CSIRO. Based on above calculations the sea level prediction in 2100 by NOAA data is 305.53 mm and by CSIRO data is 149.84. The intercept for NOAA is -0.0009 and rate of sea level rise for CSIRO data is 0.0004. The CSIRO data has been approximated such that the relative sea level at 2000 is considered as 0 mm."
      ]
    },
    {
      "cell_type": "markdown",
      "metadata": {
        "id": "84bGnQmV5GCy"
      },
      "source": [
        "### **PART 6 - EXTRA CREDIT**\n",
        "\n",
        "<b>Perform a linear regression on each 30 year interval in the CSIRO data starting from 1880 (i.e, 1880-1910, 1881-1911, 1882-1912, etc).  Make a plot of the slope that is fit for each interval as a function of time.  What are the implications of this plot?</b>\n"
      ]
    },
    {
      "cell_type": "code",
      "metadata": {
        "id": "0--8CuVRLa66"
      },
      "source": [
        "x= csiro[(csiro[\"year_int\"] >= 1880) & (csiro[\"year_int\"]<=1910)]"
      ],
      "execution_count": null,
      "outputs": []
    },
    {
      "cell_type": "code",
      "source": [
        "x.plot(\"year_int\", \"adjusted_min_level_st\",xlabel=\"Year\",ylabel=\"Adjusted minimum level[mm]\",label=\"CSIRO data\")"
      ],
      "metadata": {
        "colab": {
          "base_uri": "https://localhost:8080/",
          "height": 299
        },
        "id": "dm_69eo1CvM3",
        "outputId": "f8ef6c90-8283-4e7d-e1ae-a82ec936cc40"
      },
      "execution_count": null,
      "outputs": [
        {
          "output_type": "execute_result",
          "data": {
            "text/plain": [
              "<AxesSubplot:xlabel='Year', ylabel='Adjusted minimum level[mm]'>"
            ]
          },
          "metadata": {},
          "execution_count": 43
        },
        {
          "output_type": "display_data",
          "data": {
            "text/plain": [
              "<Figure size 432x288 with 1 Axes>"
            ],
            "image/png": "[encoded data removed]"
          },
          "metadata": {
            "needs_background": "light"
          }
        }
      ]
    },
    {
      "cell_type": "code",
      "source": [
        "x.head(5)"
      ],
      "metadata": {
        "colab": {
          "base_uri": "https://localhost:8080/",
          "height": 206
        },
        "id": "u-KWBpx0KJE7",
        "outputId": "1b7180f0-e2f7-4fb1-ce79-3655965da036"
      },
      "execution_count": null,
      "outputs": [
        {
          "output_type": "execute_result",
          "data": {
            "text/plain": [
              "         Year  CSIRO Adjusted Sea Level  Lower Error Bound  Upper Error Bound  \\\n",
              "0  1880-03-15                  0.000000          -0.952756           0.952756   \n",
              "1  1881-03-15                  0.220472          -0.732283           1.173228   \n",
              "2  1882-03-15                 -0.440945          -1.346457           0.464567   \n",
              "3  1883-03-15                 -0.232283          -1.129921           0.665354   \n",
              "4  1884-03-15                  0.590551          -0.283465           1.464567   \n",
              "\n",
              "   NOAA Adjusted Sea Level  min_level  adjusted_min_level  year_int  \\\n",
              "0                      NaN   0.000000         -175.782783      1880   \n",
              "1                      NaN   0.220472         -170.182783      1881   \n",
              "2                      NaN  -0.440945         -186.982783      1882   \n",
              "3                      NaN  -0.232283         -181.682783      1883   \n",
              "4                      NaN   0.590551         -160.782783      1884   \n",
              "\n",
              "   year_int_st  adjusted_min_level_st  model_st  model_unst  \n",
              "0    -1.712888              -1.499067 -1.662059 -185.833393  \n",
              "1    -1.687323              -1.408251 -1.637255 -184.303873  \n",
              "2    -1.661757              -1.680699 -1.612450 -182.774353  \n",
              "3    -1.636192              -1.594748 -1.587646 -181.244832  \n",
              "4    -1.610626              -1.255810 -1.562842 -179.715312  "
            ],
            "text/html": [
              "\n",
              "  <div id=\"df-4272664b-7dba-41c3-8794-b4ed967b25df\">\n",
              "    <div class=\"colab-df-container\">\n",
              "      <div>\n",
              "<style scoped>\n",
              "    .dataframe tbody tr th:only-of-type {\n",
              "        vertical-align: middle;\n",
              "    }\n",
              "\n",
              "    .dataframe tbody tr th {\n",
              "        vertical-align: top;\n",
              "    }\n",
              "\n",
              "    .dataframe thead th {\n",
              "        text-align: right;\n",
              "    }\n",
              "</style>\n",
              "<table border=\"1\" class=\"dataframe\">\n",
              "  <thead>\n",
              "    <tr style=\"text-align: right;\">\n",
              "      <th></th>\n",
              "      <th>Year</th>\n",
              "      <th>CSIRO Adjusted Sea Level</th>\n",
              "      <th>Lower Error Bound</th>\n",
              "      <th>Upper Error Bound</th>\n",
              "      <th>NOAA Adjusted Sea Level</th>\n",
              "      <th>min_level</th>\n",
              "      <th>adjusted_min_level</th>\n",
              "      <th>year_int</th>\n",
              "      <th>year_int_st</th>\n",
              "      <th>adjusted_min_level_st</th>\n",
              "      <th>model_st</th>\n",
              "      <th>model_unst</th>\n",
              "    </tr>\n",
              "  </thead>\n",
              "  <tbody>\n",
              "    <tr>\n",
              "      <th>0</th>\n",
              "      <td>1880-03-15</td>\n",
              "      <td>0.000000</td>\n",
              "      <td>-0.952756</td>\n",
              "      <td>0.952756</td>\n",
              "      <td>NaN</td>\n",
              "      <td>0.000000</td>\n",
              "      <td>-175.782783</td>\n",
              "      <td>1880</td>\n",
              "      <td>-1.712888</td>\n",
              "      <td>-1.499067</td>\n",
              "      <td>-1.662059</td>\n",
              "      <td>-185.833393</td>\n",
              "    </tr>\n",
              "    <tr>\n",
              "      <th>1</th>\n",
              "      <td>1881-03-15</td>\n",
              "      <td>0.220472</td>\n",
              "      <td>-0.732283</td>\n",
              "      <td>1.173228</td>\n",
              "      <td>NaN</td>\n",
              "      <td>0.220472</td>\n",
              "      <td>-170.182783</td>\n",
              "      <td>1881</td>\n",
              "      <td>-1.687323</td>\n",
              "      <td>-1.408251</td>\n",
              "      <td>-1.637255</td>\n",
              "      <td>-184.303873</td>\n",
              "    </tr>\n",
              "    <tr>\n",
              "      <th>2</th>\n",
              "      <td>1882-03-15</td>\n",
              "      <td>-0.440945</td>\n",
              "      <td>-1.346457</td>\n",
              "      <td>0.464567</td>\n",
              "      <td>NaN</td>\n",
              "      <td>-0.440945</td>\n",
              "      <td>-186.982783</td>\n",
              "      <td>1882</td>\n",
              "      <td>-1.661757</td>\n",
              "      <td>-1.680699</td>\n",
              "      <td>-1.612450</td>\n",
              "      <td>-182.774353</td>\n",
              "    </tr>\n",
              "    <tr>\n",
              "      <th>3</th>\n",
              "      <td>1883-03-15</td>\n",
              "      <td>-0.232283</td>\n",
              "      <td>-1.129921</td>\n",
              "      <td>0.665354</td>\n",
              "      <td>NaN</td>\n",
              "      <td>-0.232283</td>\n",
              "      <td>-181.682783</td>\n",
              "      <td>1883</td>\n",
              "      <td>-1.636192</td>\n",
              "      <td>-1.594748</td>\n",
              "      <td>-1.587646</td>\n",
              "      <td>-181.244832</td>\n",
              "    </tr>\n",
              "    <tr>\n",
              "      <th>4</th>\n",
              "      <td>1884-03-15</td>\n",
              "      <td>0.590551</td>\n",
              "      <td>-0.283465</td>\n",
              "      <td>1.464567</td>\n",
              "      <td>NaN</td>\n",
              "      <td>0.590551</td>\n",
              "      <td>-160.782783</td>\n",
              "      <td>1884</td>\n",
              "      <td>-1.610626</td>\n",
              "      <td>-1.255810</td>\n",
              "      <td>-1.562842</td>\n",
              "      <td>-179.715312</td>\n",
              "    </tr>\n",
              "  </tbody>\n",
              "</table>\n",
              "</div>\n",
              "      <button class=\"colab-df-convert\" onclick=\"convertToInteractive('df-4272664b-7dba-41c3-8794-b4ed967b25df')\"\n",
              "              title=\"Convert this dataframe to an interactive table.\"\n",
              "              style=\"display:none;\">\n",
              "        \n",
              "  <svg xmlns=\"http://www.w3.org/2000/svg\" height=\"24px\"viewBox=\"0 0 24 24\"\n",
              "       width=\"24px\">\n",
              "    <path d=\"M0 0h24v24H0V0z\" fill=\"none\"/>\n",
              "    <path d=\"M18.56 5.44l.94 2.06.94-2.06 2.06-.94-2.06-.94-.94-2.06-.94 2.06-2.06.94zm-11 1L8.5 8.5l.94-2.06 2.06-.94-2.06-.94L8.5 2.5l-.94 2.06-2.06.94zm10 10l.94 2.06.94-2.06 2.06-.94-2.06-.94-.94-2.06-.94 2.06-2.06.94z\"/><path d=\"M17.41 7.96l-1.37-1.37c-.4-.4-.92-.59-1.43-.59-.52 0-1.04.2-1.43.59L10.3 9.45l-7.72 7.72c-.78.78-.78 2.05 0 2.83L4 21.41c.39.39.9.59 1.41.59.51 0 1.02-.2 1.41-.59l7.78-7.78 2.81-2.81c.8-.78.8-2.07 0-2.86zM5.41 20L4 18.59l7.72-7.72 1.47 1.35L5.41 20z\"/>\n",
              "  </svg>\n",
              "      </button>\n",
              "      \n",
              "  <style>\n",
              "    .colab-df-container {\n",
              "      display:flex;\n",
              "      flex-wrap:wrap;\n",
              "      gap: 12px;\n",
              "    }\n",
              "\n",
              "    .colab-df-convert {\n",
              "      background-color: #E8F0FE;\n",
              "      border: none;\n",
              "      border-radius: 50%;\n",
              "      cursor: pointer;\n",
              "      display: none;\n",
              "      fill: #1967D2;\n",
              "      height: 32px;\n",
              "      padding: 0 0 0 0;\n",
              "      width: 32px;\n",
              "    }\n",
              "\n",
              "    .colab-df-convert:hover {\n",
              "      background-color: #E2EBFA;\n",
              "      box-shadow: 0px 1px 2px rgba(60, 64, 67, 0.3), 0px 1px 3px 1px rgba(60, 64, 67, 0.15);\n",
              "      fill: #174EA6;\n",
              "    }\n",
              "\n",
              "    [theme=dark] .colab-df-convert {\n",
              "      background-color: #3B4455;\n",
              "      fill: #D2E3FC;\n",
              "    }\n",
              "\n",
              "    [theme=dark] .colab-df-convert:hover {\n",
              "      background-color: #434B5C;\n",
              "      box-shadow: 0px 1px 3px 1px rgba(0, 0, 0, 0.15);\n",
              "      filter: drop-shadow(0px 1px 2px rgba(0, 0, 0, 0.3));\n",
              "      fill: #FFFFFF;\n",
              "    }\n",
              "  </style>\n",
              "\n",
              "      <script>\n",
              "        const buttonEl =\n",
              "          document.querySelector('#df-4272664b-7dba-41c3-8794-b4ed967b25df button.colab-df-convert');\n",
              "        buttonEl.style.display =\n",
              "          google.colab.kernel.accessAllowed ? 'block' : 'none';\n",
              "\n",
              "        async function convertToInteractive(key) {\n",
              "          const element = document.querySelector('#df-4272664b-7dba-41c3-8794-b4ed967b25df');\n",
              "          const dataTable =\n",
              "            await google.colab.kernel.invokeFunction('convertToInteractive',\n",
              "                                                     [key], {});\n",
              "          if (!dataTable) return;\n",
              "\n",
              "          const docLinkHtml = 'Like what you see? Visit the ' +\n",
              "            '<a target=\"_blank\" href=https://colab.research.google.com/notebooks/data_table.ipynb>data table notebook</a>'\n",
              "            + ' to learn more about interactive tables.';\n",
              "          element.innerHTML = '';\n",
              "          dataTable['output_type'] = 'display_data';\n",
              "          await google.colab.output.renderOutput(dataTable, element);\n",
              "          const docLink = document.createElement('div');\n",
              "          docLink.innerHTML = docLinkHtml;\n",
              "          element.appendChild(docLink);\n",
              "        }\n",
              "      </script>\n",
              "    </div>\n",
              "  </div>\n",
              "  "
            ]
          },
          "metadata": {},
          "execution_count": 44
        }
      ]
    },
    {
      "cell_type": "markdown",
      "source": [
        "The minimum sea levels are increasing over time. Idea is to create a for loop with x=1880 and y=1910 and keep incrementing by 1. Rough work done below"
      ],
      "metadata": {
        "id": "ruGGfF94Hn1o"
      }
    },
    {
      "cell_type": "code",
      "source": [
        "x=np.arange(1880,1979,1)\n",
        "y=np.arange(1910,2009,1)"
      ],
      "metadata": {
        "id": "VHOCzn_uERSY"
      },
      "execution_count": null,
      "outputs": []
    },
    {
      "cell_type": "code",
      "source": [
        "x=x.astype(int)\n",
        "y=y.astype(int)"
      ],
      "metadata": {
        "id": "TeLovvXJJY4m"
      },
      "execution_count": null,
      "outputs": []
    },
    {
      "cell_type": "code",
      "source": [
        "#df=pd.DataFrame()\n",
        "#df=pd.concat([x,y]) # - throws error"
      ],
      "metadata": {
        "id": "R9hIdMoaHuUG"
      },
      "execution_count": null,
      "outputs": []
    },
    {
      "cell_type": "code",
      "source": [
        "#for index, row in df.iterrows():\n",
        "    #m=row[x], n=row[y]\n",
        "    #print(m,n)"
      ],
      "metadata": {
        "id": "SX8AiAGbFWFs"
      },
      "execution_count": null,
      "outputs": []
    }
  ]
}