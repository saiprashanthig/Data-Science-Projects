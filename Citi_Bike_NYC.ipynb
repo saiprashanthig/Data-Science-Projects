{
  "nbformat": 4,
  "nbformat_minor": 0,
  "metadata": {
    "colab": {
      "provenance": []
    },
    "kernelspec": {
      "name": "python3",
      "display_name": "Python 3"
    }
  },
  "cells": [
    {
      "cell_type": "markdown",
      "metadata": {
        "id": "ugGDuuAUpZEQ"
      },
      "source": [
        "# **MLPP23 // Assignment 1**\n",
        "\n",
        "assigned : **Feb 14, 2023**\n",
        "\n",
        "DUE : **Feb 19, 2023 11:59pm**\n",
        "\n",
        "## Ridership of Urban Bike Shares: the case of Citi Bike in NYC\n",
        "\n",
        "![alt text](https://d21xlh2maitm24.cloudfront.net/nyc/01unlock2.JPG?mtime=20160428123800)\n",
        "\n",
        "---"
      ]
    },
    {
      "cell_type": "markdown",
      "metadata": {
        "id": "rQgC1Td2qSkW"
      },
      "source": [
        "### OVERVIEW\n",
        "\n",
        "Bike share programs have been implemented in cities around the world in an effort to address multiple aspects of both city functioning and quality of life for urban populations.  Traffic congestion, public health, community engagement, and air quality have all aspects of city life that could *potentially* be impacted by the introduction of a bike share program into a community.\n",
        "\n",
        "One particularly massive bike share is New York City's [Citi Bike](https://www.citibikenyc.com/) program.  The area coverage of this program is large (extending into New Jersey across the Hudson River) and ridership initial adoption rates – as measured by the number of rides taken – were promising.  However this program has not been without controversy and there has been active discussion regarding which communities ara actually being served and which are not, who is benefitting from the availability of bikes, how they are being used for recreational vs commuter purposes, etc.\n",
        "\n",
        "The goal of this assignment is two-fold: first, you will learn to work with basic tabular data from the Citi Bike program and second, you will generate a simple estimate for the <u>which age group is predominantly using citi bikes for commuter travel</u>.\n",
        "\n",
        "<b>\n",
        "\n",
        "Rules for assignments:\n",
        "\n",
        "1. You may work with other students in the class, but if you do, each student with whom you worked <u>must</u> be listed below.  Direct copying from someone else's notebook is not permitted.\n",
        "\n",
        "\n",
        "2. All solutions and outputs must be derived with python and the notebook should be \"runable\" by me (top to bottom) without errors.\n",
        "\n",
        "3. Late assignments will assess a 15% late penalty up to 3 days after the due date and a 50% late penalty until the end of the term.\n",
        "\n",
        "</b>\n",
        "\n",
        "<u>**Instructions for tasks that will be graded are in bold below.**</u>\n",
        "\n",
        "---"
      ]
    },
    {
      "cell_type": "markdown",
      "metadata": {
        "id": "Qe9TyGHFgxCx"
      },
      "source": [
        "**Please list the names of the other students with whom you worked for this assignment (if none, put \"None\").** :"
      ]
    },
    {
      "cell_type": "markdown",
      "metadata": {
        "id": "tQPt2WKxgx5m"
      },
      "source": [
        "Had a brief discussion with Nagamalla Charitha after completing the assignment"
      ]
    },
    {
      "cell_type": "markdown",
      "metadata": {
        "id": "UBL4OBtWzv7O"
      },
      "source": [
        "### **PART 1 - Background**\n",
        "\n",
        "Good data science (and data analysis more generally) as well as the appropriate application of machine learning algorithms depends on a clear understanding of the underlying problem/situation, the methods by which the data you are about to analyze are collected, and the situational context in which that data sits.  To that end:\n",
        "\n",
        "<b>\n",
        "\n",
        "<u>In your own words</u>, provide a brief (no more than 500 words) descriptive overview of the Citi Bike program in NYC to set the stage for the analysis below.  Potential topics to consider and address include:\n",
        "\n",
        "1. historical motivations for introducing the program\n",
        "\n",
        "2. operational methodology\n",
        "\n",
        "3. published aggregate ridership characteristics\n",
        "\n",
        "4. difficulties associated with implementing the program\n",
        "\n",
        "5. community reaction and engagement\n",
        "\n",
        "Please include *references* within the description via weblinks (like the Citi Bike link in the Overview in the cell above).\n",
        "</b>"
      ]
    },
    {
      "cell_type": "markdown",
      "metadata": {
        "id": "egygltbL0Q1Z"
      },
      "source": [
        "1.In an effort to reduce emissions, road wear, collisions, and road and transit congestion and to improve public health, the New York City Department of Transportation (NYCDOT) researched alternative forms of transportation, publishing a strategic plan in 2008. [Citi Bike](https://en.wikipedia.org/wiki/Citi_Bike). To encourage residents to use bicycles more, the city committed to expanding bike lane miles, bike racks, and bike-parking shelters.\n",
        "\n",
        "2.Citi Bike finally began operations on May 27, 2013, with 332 stations.Citi Bike’s station connection to public transportation hubs and station density are\n",
        "major factors in the system’s high ridership and use. Seventy-four percent of Citi Bike stations are within a five-minute walk of a subway station entrance, providing a “last mile” solution for transit commuters.Unlike other\n",
        "American bike share programs, Citi Bike operates at a dense, concentrated core that intertwines with transit.  Citi Bike complements and supplements\n",
        "existing transit in New York City. [Citi Bike Report](https://wagner.nyu.edu/files/faculty/publications/Citi_Bike_First_Two_Years_RudinCenter.pdftps://)\n",
        "\n",
        "3.Despite Citi Bike’s popularity, the vast majority of Citi Bike rides are taken by male riders: 77.7 percent of member rides were taken by a man.The disparity between male and female usage grows to an 80:20 ratio, as women tend to ride Citi Bikes less in inclement weather. While\tCiti\tBike\thas\tsucceeded\tin\tmany\tways,\tto\tdate\tthe\tprogram, has underperformed\tin\tengaging low-income\tcommunities\tthrough\tthe\tCiti\tBike discounted\tmembership\tprogram [Analysis](https://nacto.org/wp-content/uploads/2015/07/2015_Stead_Sharing-is-Caring-An-Analysis-of-Citi-Bikes-Discounted-Program-for-NYCHA-Residents.pdf)\n",
        "\n",
        "4.The system’s greatest challenges are expanding and diversifying its\n",
        "customer base while also rebalancing the number of bicycles available at high-demand stations. Citi Bike has become an integral part of New York’s transportation culture, even though it serves a limited geographic area. One challenge is keeping the docks stocked with bikes. [Challenges](https://www.fox5ny.com/news/citi-bike-empty-dockshttps://). An audit revealed spotty maintenance, poor cleanliness and defective parking stations.The audit also reveals the bikes are not undergoing required inspections.[Audit report](https://abc7ny.com/citibike-audit-new-york-scott-stringer-bike/433473/tps://).  Additonal probelms include, glitchy mobile app, failing bike docks and a general sense of not being about to count on the overall reliability of the system.[Report ](https://science.time.com/2013/06/20/as-new-yorks-bike-share-fixes-failures-it-needs-to-cope-with-success/)\n",
        "\n",
        "5.Over 1,000 people participated in 19 community events (virtually and in-person) held by the Citi Bike team this year.Citi Bikes allow New Yorkers to escape their hectic work lives and focus on the present moment. Many New Yorkers agreed that fears over safety made them hesitant to go for a ride.\n",
        "[Citi Bike Paper](https://arxiv.org/ftp/arxiv/papers/1808/1808.06606.pdf),\n",
        "[Link](hhttps://www.nytimes.com/2015/07/11/nyregion/times-readers-react-to-citi-bikes-gender-gap.htmlttps://). In an estimate from 2015, it was concluded that on average, users of Citi Bikes saved $496.21, burned 12,437 more calories, saved 8.19 hours of transportation, and  saved 3.16 gallons of gas that would have been used if they had decided to travel by car or bus annually."
      ]
    },
    {
      "cell_type": "markdown",
      "metadata": {
        "id": "3KwDRW3R2qEU"
      },
      "source": [
        "### **PART 2 - Loading the data**"
      ]
    },
    {
      "cell_type": "markdown",
      "metadata": {
        "id": "q_GKoBEuqTHF"
      },
      "source": [
        "First things first, let's get access to the data.  To do that, we need to link this notebook with out Google Drive.  On the left there is a folder icon.  **Click that and in the popout menu click \"Mount Drive\" (i.e., the folder with the Google Drive icon).**  This will create a cell of code for you to run.  **Follow the instructions to link this notebook with your Google Drive.**"
      ]
    },
    {
      "cell_type": "code",
      "source": [
        "from google.colab import drive\n",
        "drive.mount('/content/drive')"
      ],
      "metadata": {
        "colab": {
          "base_uri": "https://localhost:8080/"
        },
        "id": "Vgmv6ahMV2Np",
        "outputId": "6795f97b-a635-4d73-a160-1a53c2ab74f2"
      },
      "execution_count": null,
      "outputs": [
        {
          "output_type": "stream",
          "name": "stdout",
          "text": [
            "Drive already mounted at /content/drive; to attempt to forcibly remount, call drive.mount(\"/content/drive\", force_remount=True).\n"
          ]
        }
      ]
    },
    {
      "cell_type": "markdown",
      "metadata": {
        "id": "heffq9Oih4dB"
      },
      "source": [
        "In the menu on the left, **click the `drive` folder <small>(nb., you may need to click the folder with the refresh icon to see your `drive` folder)</small>, then `My Drive`, then locate the shared `mlpp23` directory**.  Inside of that is a directory called `data` and inside that is a directory called `citibike`.  In that folder is the citibike data.  **Right click on the file and select \"copy path\".  Put that path to the file into a string variable called `fname` and use pandas `read_csv()` function to load the data (no need to skip rows) into a pandas DataFrame called `citi`.**"
      ]
    },
    {
      "cell_type": "code",
      "source": [
        "import pandas as pd\n",
        "import numpy as np\n",
        "import matplotlib.pyplot as plt"
      ],
      "metadata": {
        "id": "3RMIhirCWVvO"
      },
      "execution_count": null,
      "outputs": []
    },
    {
      "cell_type": "code",
      "metadata": {
        "id": "bP-OXuRsiP2o"
      },
      "source": [
        "fname= \"/content/drive/MyDrive/mlpp23/data/citibike/JC-201604-citibike-tripdata.csv\" #loading file\n",
        "citi=pd.read_csv(fname)"
      ],
      "execution_count": null,
      "outputs": []
    },
    {
      "cell_type": "code",
      "source": [
        "citi.head(3)"
      ],
      "metadata": {
        "colab": {
          "base_uri": "https://localhost:8080/",
          "height": 257
        },
        "id": "1C46ZTNaWsBj",
        "outputId": "f85376d5-faf9-48ce-c723-fbadc424df77"
      },
      "execution_count": null,
      "outputs": [
        {
          "output_type": "execute_result",
          "data": {
            "text/plain": [
              "   Trip Duration           Start Time            Stop Time  Start Station ID  \\\n",
              "0           2084  2016-04-01 00:16:13  2016-04-01 00:50:58              3203   \n",
              "1            324  2016-04-01 00:32:48  2016-04-01 00:38:13              3202   \n",
              "2            387  2016-04-01 02:00:33  2016-04-01 02:07:00              3220   \n",
              "\n",
              "  Start Station Name  Start Station Latitude  Start Station Longitude  \\\n",
              "0      Hamilton Park               40.727596               -74.044247   \n",
              "1       Newport PATH               40.727224               -74.033759   \n",
              "2  5 Corners Library               40.734961               -74.059503   \n",
              "\n",
              "   End Station ID End Station Name  End Station Latitude  \\\n",
              "0            3209     Brunswick St             40.724176   \n",
              "1            3203    Hamilton Park             40.727596   \n",
              "2            3215      Central Ave             40.746730   \n",
              "\n",
              "   End Station Longitude  Bike ID   User Type  Birth Year  Gender  \n",
              "0             -74.050656    24500  Subscriber      1979.0       1  \n",
              "1             -74.044247    24475  Subscriber      1954.0       1  \n",
              "2             -74.049251    24503  Subscriber      1975.0       1  "
            ],
            "text/html": [
              "\n",
              "  <div id=\"df-d6d28828-5535-49d4-b433-84fb53752992\">\n",
              "    <div class=\"colab-df-container\">\n",
              "      <div>\n",
              "<style scoped>\n",
              "    .dataframe tbody tr th:only-of-type {\n",
              "        vertical-align: middle;\n",
              "    }\n",
              "\n",
              "    .dataframe tbody tr th {\n",
              "        vertical-align: top;\n",
              "    }\n",
              "\n",
              "    .dataframe thead th {\n",
              "        text-align: right;\n",
              "    }\n",
              "</style>\n",
              "<table border=\"1\" class=\"dataframe\">\n",
              "  <thead>\n",
              "    <tr style=\"text-align: right;\">\n",
              "      <th></th>\n",
              "      <th>Trip Duration</th>\n",
              "      <th>Start Time</th>\n",
              "      <th>Stop Time</th>\n",
              "      <th>Start Station ID</th>\n",
              "      <th>Start Station Name</th>\n",
              "      <th>Start Station Latitude</th>\n",
              "      <th>Start Station Longitude</th>\n",
              "      <th>End Station ID</th>\n",
              "      <th>End Station Name</th>\n",
              "      <th>End Station Latitude</th>\n",
              "      <th>End Station Longitude</th>\n",
              "      <th>Bike ID</th>\n",
              "      <th>User Type</th>\n",
              "      <th>Birth Year</th>\n",
              "      <th>Gender</th>\n",
              "    </tr>\n",
              "  </thead>\n",
              "  <tbody>\n",
              "    <tr>\n",
              "      <th>0</th>\n",
              "      <td>2084</td>\n",
              "      <td>2016-04-01 00:16:13</td>\n",
              "      <td>2016-04-01 00:50:58</td>\n",
              "      <td>3203</td>\n",
              "      <td>Hamilton Park</td>\n",
              "      <td>40.727596</td>\n",
              "      <td>-74.044247</td>\n",
              "      <td>3209</td>\n",
              "      <td>Brunswick St</td>\n",
              "      <td>40.724176</td>\n",
              "      <td>-74.050656</td>\n",
              "      <td>24500</td>\n",
              "      <td>Subscriber</td>\n",
              "      <td>1979.0</td>\n",
              "      <td>1</td>\n",
              "    </tr>\n",
              "    <tr>\n",
              "      <th>1</th>\n",
              "      <td>324</td>\n",
              "      <td>2016-04-01 00:32:48</td>\n",
              "      <td>2016-04-01 00:38:13</td>\n",
              "      <td>3202</td>\n",
              "      <td>Newport PATH</td>\n",
              "      <td>40.727224</td>\n",
              "      <td>-74.033759</td>\n",
              "      <td>3203</td>\n",
              "      <td>Hamilton Park</td>\n",
              "      <td>40.727596</td>\n",
              "      <td>-74.044247</td>\n",
              "      <td>24475</td>\n",
              "      <td>Subscriber</td>\n",
              "      <td>1954.0</td>\n",
              "      <td>1</td>\n",
              "    </tr>\n",
              "    <tr>\n",
              "      <th>2</th>\n",
              "      <td>387</td>\n",
              "      <td>2016-04-01 02:00:33</td>\n",
              "      <td>2016-04-01 02:07:00</td>\n",
              "      <td>3220</td>\n",
              "      <td>5 Corners Library</td>\n",
              "      <td>40.734961</td>\n",
              "      <td>-74.059503</td>\n",
              "      <td>3215</td>\n",
              "      <td>Central Ave</td>\n",
              "      <td>40.746730</td>\n",
              "      <td>-74.049251</td>\n",
              "      <td>24503</td>\n",
              "      <td>Subscriber</td>\n",
              "      <td>1975.0</td>\n",
              "      <td>1</td>\n",
              "    </tr>\n",
              "  </tbody>\n",
              "</table>\n",
              "</div>\n",
              "      <button class=\"colab-df-convert\" onclick=\"convertToInteractive('df-d6d28828-5535-49d4-b433-84fb53752992')\"\n",
              "              title=\"Convert this dataframe to an interactive table.\"\n",
              "              style=\"display:none;\">\n",
              "        \n",
              "  <svg xmlns=\"http://www.w3.org/2000/svg\" height=\"24px\"viewBox=\"0 0 24 24\"\n",
              "       width=\"24px\">\n",
              "    <path d=\"M0 0h24v24H0V0z\" fill=\"none\"/>\n",
              "    <path d=\"M18.56 5.44l.94 2.06.94-2.06 2.06-.94-2.06-.94-.94-2.06-.94 2.06-2.06.94zm-11 1L8.5 8.5l.94-2.06 2.06-.94-2.06-.94L8.5 2.5l-.94 2.06-2.06.94zm10 10l.94 2.06.94-2.06 2.06-.94-2.06-.94-.94-2.06-.94 2.06-2.06.94z\"/><path d=\"M17.41 7.96l-1.37-1.37c-.4-.4-.92-.59-1.43-.59-.52 0-1.04.2-1.43.59L10.3 9.45l-7.72 7.72c-.78.78-.78 2.05 0 2.83L4 21.41c.39.39.9.59 1.41.59.51 0 1.02-.2 1.41-.59l7.78-7.78 2.81-2.81c.8-.78.8-2.07 0-2.86zM5.41 20L4 18.59l7.72-7.72 1.47 1.35L5.41 20z\"/>\n",
              "  </svg>\n",
              "      </button>\n",
              "      \n",
              "  <style>\n",
              "    .colab-df-container {\n",
              "      display:flex;\n",
              "      flex-wrap:wrap;\n",
              "      gap: 12px;\n",
              "    }\n",
              "\n",
              "    .colab-df-convert {\n",
              "      background-color: #E8F0FE;\n",
              "      border: none;\n",
              "      border-radius: 50%;\n",
              "      cursor: pointer;\n",
              "      display: none;\n",
              "      fill: #1967D2;\n",
              "      height: 32px;\n",
              "      padding: 0 0 0 0;\n",
              "      width: 32px;\n",
              "    }\n",
              "\n",
              "    .colab-df-convert:hover {\n",
              "      background-color: #E2EBFA;\n",
              "      box-shadow: 0px 1px 2px rgba(60, 64, 67, 0.3), 0px 1px 3px 1px rgba(60, 64, 67, 0.15);\n",
              "      fill: #174EA6;\n",
              "    }\n",
              "\n",
              "    [theme=dark] .colab-df-convert {\n",
              "      background-color: #3B4455;\n",
              "      fill: #D2E3FC;\n",
              "    }\n",
              "\n",
              "    [theme=dark] .colab-df-convert:hover {\n",
              "      background-color: #434B5C;\n",
              "      box-shadow: 0px 1px 3px 1px rgba(0, 0, 0, 0.15);\n",
              "      filter: drop-shadow(0px 1px 2px rgba(0, 0, 0, 0.3));\n",
              "      fill: #FFFFFF;\n",
              "    }\n",
              "  </style>\n",
              "\n",
              "      <script>\n",
              "        const buttonEl =\n",
              "          document.querySelector('#df-d6d28828-5535-49d4-b433-84fb53752992 button.colab-df-convert');\n",
              "        buttonEl.style.display =\n",
              "          google.colab.kernel.accessAllowed ? 'block' : 'none';\n",
              "\n",
              "        async function convertToInteractive(key) {\n",
              "          const element = document.querySelector('#df-d6d28828-5535-49d4-b433-84fb53752992');\n",
              "          const dataTable =\n",
              "            await google.colab.kernel.invokeFunction('convertToInteractive',\n",
              "                                                     [key], {});\n",
              "          if (!dataTable) return;\n",
              "\n",
              "          const docLinkHtml = 'Like what you see? Visit the ' +\n",
              "            '<a target=\"_blank\" href=https://colab.research.google.com/notebooks/data_table.ipynb>data table notebook</a>'\n",
              "            + ' to learn more about interactive tables.';\n",
              "          element.innerHTML = '';\n",
              "          dataTable['output_type'] = 'display_data';\n",
              "          await google.colab.output.renderOutput(dataTable, element);\n",
              "          const docLink = document.createElement('div');\n",
              "          docLink.innerHTML = docLinkHtml;\n",
              "          element.appendChild(docLink);\n",
              "        }\n",
              "      </script>\n",
              "    </div>\n",
              "  </div>\n",
              "  "
            ]
          },
          "metadata": {},
          "execution_count": 4
        }
      ]
    },
    {
      "cell_type": "markdown",
      "metadata": {
        "id": "g_c54zBK47Gm"
      },
      "source": [
        "### **PART 3 - Calculate useful metrics**"
      ]
    },
    {
      "cell_type": "markdown",
      "metadata": {
        "id": "ab9gpV9jp27P"
      },
      "source": [
        "Our end goal is to get an estimate of what age riders are using citi bikes for commuter travel the most.  <u>We're going to do that by separating the trips into short and long trips and then finding the age that has the highest fraction of short trips.</u>\n",
        "\n",
        "Let's convert a couple columns of data into some quantities that will be useful in our model below."
      ]
    },
    {
      "cell_type": "markdown",
      "metadata": {
        "id": "eScY6F7Lrwea"
      },
      "source": [
        "First, extract the values from the \"Birth Year\" column and use them to **calculate the age of the rider.  Add those values as a column called \"age\" in your `citi` DataFrame**."
      ]
    },
    {
      "cell_type": "code",
      "metadata": {
        "id": "e4TeJ38RrwMa"
      },
      "source": [
        "df = pd.DataFrame()\n",
        "df['Year']=pd.DatetimeIndex(citi['Stop Time']).year\n",
        "citi['age']=df['Year']-citi['Birth Year']"
      ],
      "execution_count": null,
      "outputs": []
    },
    {
      "cell_type": "code",
      "source": [
        "citi.head(3)"
      ],
      "metadata": {
        "colab": {
          "base_uri": "https://localhost:8080/",
          "height": 257
        },
        "id": "s_VhsoSzaCjT",
        "outputId": "666f86e5-f250-44db-bd58-bae7b6f79ff1"
      },
      "execution_count": null,
      "outputs": [
        {
          "output_type": "execute_result",
          "data": {
            "text/plain": [
              "   Trip Duration           Start Time            Stop Time  Start Station ID  \\\n",
              "0           2084  2016-04-01 00:16:13  2016-04-01 00:50:58              3203   \n",
              "1            324  2016-04-01 00:32:48  2016-04-01 00:38:13              3202   \n",
              "2            387  2016-04-01 02:00:33  2016-04-01 02:07:00              3220   \n",
              "\n",
              "  Start Station Name  Start Station Latitude  Start Station Longitude  \\\n",
              "0      Hamilton Park               40.727596               -74.044247   \n",
              "1       Newport PATH               40.727224               -74.033759   \n",
              "2  5 Corners Library               40.734961               -74.059503   \n",
              "\n",
              "   End Station ID End Station Name  End Station Latitude  \\\n",
              "0            3209     Brunswick St             40.724176   \n",
              "1            3203    Hamilton Park             40.727596   \n",
              "2            3215      Central Ave             40.746730   \n",
              "\n",
              "   End Station Longitude  Bike ID   User Type  Birth Year  Gender   age  \n",
              "0             -74.050656    24500  Subscriber      1979.0       1  37.0  \n",
              "1             -74.044247    24475  Subscriber      1954.0       1  62.0  \n",
              "2             -74.049251    24503  Subscriber      1975.0       1  41.0  "
            ],
            "text/html": [
              "\n",
              "  <div id=\"df-a90e6eed-2785-45ed-9693-080291b0f055\">\n",
              "    <div class=\"colab-df-container\">\n",
              "      <div>\n",
              "<style scoped>\n",
              "    .dataframe tbody tr th:only-of-type {\n",
              "        vertical-align: middle;\n",
              "    }\n",
              "\n",
              "    .dataframe tbody tr th {\n",
              "        vertical-align: top;\n",
              "    }\n",
              "\n",
              "    .dataframe thead th {\n",
              "        text-align: right;\n",
              "    }\n",
              "</style>\n",
              "<table border=\"1\" class=\"dataframe\">\n",
              "  <thead>\n",
              "    <tr style=\"text-align: right;\">\n",
              "      <th></th>\n",
              "      <th>Trip Duration</th>\n",
              "      <th>Start Time</th>\n",
              "      <th>Stop Time</th>\n",
              "      <th>Start Station ID</th>\n",
              "      <th>Start Station Name</th>\n",
              "      <th>Start Station Latitude</th>\n",
              "      <th>Start Station Longitude</th>\n",
              "      <th>End Station ID</th>\n",
              "      <th>End Station Name</th>\n",
              "      <th>End Station Latitude</th>\n",
              "      <th>End Station Longitude</th>\n",
              "      <th>Bike ID</th>\n",
              "      <th>User Type</th>\n",
              "      <th>Birth Year</th>\n",
              "      <th>Gender</th>\n",
              "      <th>age</th>\n",
              "    </tr>\n",
              "  </thead>\n",
              "  <tbody>\n",
              "    <tr>\n",
              "      <th>0</th>\n",
              "      <td>2084</td>\n",
              "      <td>2016-04-01 00:16:13</td>\n",
              "      <td>2016-04-01 00:50:58</td>\n",
              "      <td>3203</td>\n",
              "      <td>Hamilton Park</td>\n",
              "      <td>40.727596</td>\n",
              "      <td>-74.044247</td>\n",
              "      <td>3209</td>\n",
              "      <td>Brunswick St</td>\n",
              "      <td>40.724176</td>\n",
              "      <td>-74.050656</td>\n",
              "      <td>24500</td>\n",
              "      <td>Subscriber</td>\n",
              "      <td>1979.0</td>\n",
              "      <td>1</td>\n",
              "      <td>37.0</td>\n",
              "    </tr>\n",
              "    <tr>\n",
              "      <th>1</th>\n",
              "      <td>324</td>\n",
              "      <td>2016-04-01 00:32:48</td>\n",
              "      <td>2016-04-01 00:38:13</td>\n",
              "      <td>3202</td>\n",
              "      <td>Newport PATH</td>\n",
              "      <td>40.727224</td>\n",
              "      <td>-74.033759</td>\n",
              "      <td>3203</td>\n",
              "      <td>Hamilton Park</td>\n",
              "      <td>40.727596</td>\n",
              "      <td>-74.044247</td>\n",
              "      <td>24475</td>\n",
              "      <td>Subscriber</td>\n",
              "      <td>1954.0</td>\n",
              "      <td>1</td>\n",
              "      <td>62.0</td>\n",
              "    </tr>\n",
              "    <tr>\n",
              "      <th>2</th>\n",
              "      <td>387</td>\n",
              "      <td>2016-04-01 02:00:33</td>\n",
              "      <td>2016-04-01 02:07:00</td>\n",
              "      <td>3220</td>\n",
              "      <td>5 Corners Library</td>\n",
              "      <td>40.734961</td>\n",
              "      <td>-74.059503</td>\n",
              "      <td>3215</td>\n",
              "      <td>Central Ave</td>\n",
              "      <td>40.746730</td>\n",
              "      <td>-74.049251</td>\n",
              "      <td>24503</td>\n",
              "      <td>Subscriber</td>\n",
              "      <td>1975.0</td>\n",
              "      <td>1</td>\n",
              "      <td>41.0</td>\n",
              "    </tr>\n",
              "  </tbody>\n",
              "</table>\n",
              "</div>\n",
              "      <button class=\"colab-df-convert\" onclick=\"convertToInteractive('df-a90e6eed-2785-45ed-9693-080291b0f055')\"\n",
              "              title=\"Convert this dataframe to an interactive table.\"\n",
              "              style=\"display:none;\">\n",
              "        \n",
              "  <svg xmlns=\"http://www.w3.org/2000/svg\" height=\"24px\"viewBox=\"0 0 24 24\"\n",
              "       width=\"24px\">\n",
              "    <path d=\"M0 0h24v24H0V0z\" fill=\"none\"/>\n",
              "    <path d=\"M18.56 5.44l.94 2.06.94-2.06 2.06-.94-2.06-.94-.94-2.06-.94 2.06-2.06.94zm-11 1L8.5 8.5l.94-2.06 2.06-.94-2.06-.94L8.5 2.5l-.94 2.06-2.06.94zm10 10l.94 2.06.94-2.06 2.06-.94-2.06-.94-.94-2.06-.94 2.06-2.06.94z\"/><path d=\"M17.41 7.96l-1.37-1.37c-.4-.4-.92-.59-1.43-.59-.52 0-1.04.2-1.43.59L10.3 9.45l-7.72 7.72c-.78.78-.78 2.05 0 2.83L4 21.41c.39.39.9.59 1.41.59.51 0 1.02-.2 1.41-.59l7.78-7.78 2.81-2.81c.8-.78.8-2.07 0-2.86zM5.41 20L4 18.59l7.72-7.72 1.47 1.35L5.41 20z\"/>\n",
              "  </svg>\n",
              "      </button>\n",
              "      \n",
              "  <style>\n",
              "    .colab-df-container {\n",
              "      display:flex;\n",
              "      flex-wrap:wrap;\n",
              "      gap: 12px;\n",
              "    }\n",
              "\n",
              "    .colab-df-convert {\n",
              "      background-color: #E8F0FE;\n",
              "      border: none;\n",
              "      border-radius: 50%;\n",
              "      cursor: pointer;\n",
              "      display: none;\n",
              "      fill: #1967D2;\n",
              "      height: 32px;\n",
              "      padding: 0 0 0 0;\n",
              "      width: 32px;\n",
              "    }\n",
              "\n",
              "    .colab-df-convert:hover {\n",
              "      background-color: #E2EBFA;\n",
              "      box-shadow: 0px 1px 2px rgba(60, 64, 67, 0.3), 0px 1px 3px 1px rgba(60, 64, 67, 0.15);\n",
              "      fill: #174EA6;\n",
              "    }\n",
              "\n",
              "    [theme=dark] .colab-df-convert {\n",
              "      background-color: #3B4455;\n",
              "      fill: #D2E3FC;\n",
              "    }\n",
              "\n",
              "    [theme=dark] .colab-df-convert:hover {\n",
              "      background-color: #434B5C;\n",
              "      box-shadow: 0px 1px 3px 1px rgba(0, 0, 0, 0.15);\n",
              "      filter: drop-shadow(0px 1px 2px rgba(0, 0, 0, 0.3));\n",
              "      fill: #FFFFFF;\n",
              "    }\n",
              "  </style>\n",
              "\n",
              "      <script>\n",
              "        const buttonEl =\n",
              "          document.querySelector('#df-a90e6eed-2785-45ed-9693-080291b0f055 button.colab-df-convert');\n",
              "        buttonEl.style.display =\n",
              "          google.colab.kernel.accessAllowed ? 'block' : 'none';\n",
              "\n",
              "        async function convertToInteractive(key) {\n",
              "          const element = document.querySelector('#df-a90e6eed-2785-45ed-9693-080291b0f055');\n",
              "          const dataTable =\n",
              "            await google.colab.kernel.invokeFunction('convertToInteractive',\n",
              "                                                     [key], {});\n",
              "          if (!dataTable) return;\n",
              "\n",
              "          const docLinkHtml = 'Like what you see? Visit the ' +\n",
              "            '<a target=\"_blank\" href=https://colab.research.google.com/notebooks/data_table.ipynb>data table notebook</a>'\n",
              "            + ' to learn more about interactive tables.';\n",
              "          element.innerHTML = '';\n",
              "          dataTable['output_type'] = 'display_data';\n",
              "          await google.colab.output.renderOutput(dataTable, element);\n",
              "          const docLink = document.createElement('div');\n",
              "          docLink.innerHTML = docLinkHtml;\n",
              "          element.appendChild(docLink);\n",
              "        }\n",
              "      </script>\n",
              "    </div>\n",
              "  </div>\n",
              "  "
            ]
          },
          "metadata": {},
          "execution_count": 6
        }
      ]
    },
    {
      "cell_type": "markdown",
      "metadata": {
        "id": "iRMm6dcRsChJ"
      },
      "source": [
        "Now, extract the \"Trip Duration\" column (the units of which are seconds) and **take the logarithm of those using numpy's `log10()` function$^{\\dagger}$.  Put them into a column in `citi` called \"logdur\".**\n",
        "\n",
        "<i><small>$^{\\dagger}$ recall that log10(x) = y where 10<sup>y</sup> = x, so if a trip duration is `t` = 100 seconds, `np.log10(t)` = 2 since 10<sup>2</sup> = 100.</small>"
      ]
    },
    {
      "cell_type": "code",
      "metadata": {
        "id": "HBo0mE33uGyK"
      },
      "source": [
        "citi['logdur']=np.log10(citi['Trip Duration']) #log transformation"
      ],
      "execution_count": null,
      "outputs": []
    },
    {
      "cell_type": "markdown",
      "metadata": {
        "id": "84bGnQmV5GCy"
      },
      "source": [
        "### **PART 4 - Visualize the data and update metrics**"
      ]
    },
    {
      "cell_type": "markdown",
      "metadata": {
        "id": "cUba6njRu8Gy"
      },
      "source": [
        "Since we're interested in trip durations, **use `citi`'s `.hist()` method to plot a histogram of the \"Trip Duration\" column of the data setting the range from 0 to 10000 seconds and using 100 bins**."
      ]
    },
    {
      "cell_type": "code",
      "metadata": {
        "id": "1UyRIaRVxN0s",
        "colab": {
          "base_uri": "https://localhost:8080/",
          "height": 265
        },
        "outputId": "586b79ad-422d-4d2b-ca48-aa80a66f89ff"
      },
      "source": [
        "plt.hist(citi['Trip Duration'],bins=100, range=[0,10000]) #plotting histogram\n",
        "plt.show()"
      ],
      "execution_count": null,
      "outputs": [
        {
          "output_type": "display_data",
          "data": {
            "text/plain": [
              "<Figure size 432x288 with 1 Axes>"
            ],
            "image/png": "[encoded data removed]"
          },
          "metadata": {
            "needs_background": "light"
          }
        }
      ]
    },
    {
      "cell_type": "markdown",
      "metadata": {
        "id": "oTbiE8Pbu8ej"
      },
      "source": [
        "**Would you characterize this distribution as \"Gaussian\"?  Why or why not?**"
      ]
    },
    {
      "cell_type": "markdown",
      "metadata": {
        "id": "5DkaRen42Lr3"
      },
      "source": [
        "I would not classify this distribution as Gaussian as the plot above **does not look like a bell shaped curve**.Majority of the values are populated on the left side of the curve.  It is a right skewed distribution as the tail on the right side is longer."
      ]
    },
    {
      "cell_type": "markdown",
      "metadata": {
        "id": "aEgewh4m121F"
      },
      "source": [
        "Now, **plot a histogram with 100 bins (no need to set the range) of the logarithm of the trip durations that you calculated above**."
      ]
    },
    {
      "cell_type": "code",
      "metadata": {
        "id": "TzqNSS-P12pz",
        "colab": {
          "base_uri": "https://localhost:8080/",
          "height": 266
        },
        "outputId": "17f8d37f-ae98-4a26-9293-12b2b6746ea2"
      },
      "source": [
        "plt.hist(citi['logdur'],bins=100)\n",
        "plt.show()"
      ],
      "execution_count": null,
      "outputs": [
        {
          "output_type": "display_data",
          "data": {
            "text/plain": [
              "<Figure size 432x288 with 1 Axes>"
            ],
            "image/png": "[encoded data removed]"
          },
          "metadata": {
            "needs_background": "light"
          }
        }
      ]
    },
    {
      "cell_type": "markdown",
      "metadata": {
        "id": "b2qNrG_t2Ao2"
      },
      "source": [
        "**Would you characterize this distribution as Gaussian?  Why or why not?**"
      ]
    },
    {
      "cell_type": "markdown",
      "metadata": {
        "id": "_2wFa1XP12fh"
      },
      "source": [
        "I would characterize this distribution as **Gaussian as the distribution is bell shaped**. After the log transformation of the Trip duration variable the data is now more like the shape of a bell making the distribution gaussian."
      ]
    },
    {
      "cell_type": "markdown",
      "metadata": {
        "id": "78ZLmYkK2TCL"
      },
      "source": [
        "The previous plot might give you a sense for how to break up the rides into \"short\" and \"long\" rides (which we'll use as a proxy for \"commuter\" and \"recreational\" respectively).  **Calculate the median of the logarithm of the trip duration.**"
      ]
    },
    {
      "cell_type": "code",
      "metadata": {
        "id": "9QWSgqSP2S5w",
        "colab": {
          "base_uri": "https://localhost:8080/"
        },
        "outputId": "58dcff8a-9203-4bd7-980e-dc781744f641"
      },
      "source": [
        "dur_median=citi['logdur'].median() #calculating median\n",
        "print(\"Median of the logarithm of the trip duration is {0}\".format(dur_median))"
      ],
      "execution_count": null,
      "outputs": [
        {
          "output_type": "stream",
          "name": "stdout",
          "text": [
            "Median of the logarithm of the trip duration is 2.6138418218760693\n"
          ]
        }
      ]
    },
    {
      "cell_type": "markdown",
      "metadata": {
        "id": "WFEr_yEZ3Roo"
      },
      "source": [
        "We'll use this as the short/long dividing line.  **What is the duration of this trip in minutes?  Does that seem like a resonable time for commuting?  How far would you get in that time biking at 10 mph (and is that a reasonable biking speed)?**"
      ]
    },
    {
      "cell_type": "code",
      "metadata": {
        "id": "JJrrSGBx2SwP",
        "colab": {
          "base_uri": "https://localhost:8080/"
        },
        "outputId": "eefb7568-9fee-4da6-fd4c-43612566f52f"
      },
      "source": [
        "dur_median_min=(10**dur_median)/60 #reverse log transform and converting seconds to minutes (dividing by 60)\n",
        "print(\"Duration of this trip (dividing line) in minutes is {0}\".format(dur_median_min))"
      ],
      "execution_count": null,
      "outputs": [
        {
          "output_type": "stream",
          "name": "stdout",
          "text": [
            "Duration of this trip (dividing line) in minutes is 6.8500000000000005\n"
          ]
        }
      ]
    },
    {
      "cell_type": "code",
      "source": [
        "dur_median_hr= (dur_median_min/60) #duration in hour\n",
        "dur_median_hr*10 #distance= speed*time"
      ],
      "metadata": {
        "colab": {
          "base_uri": "https://localhost:8080/"
        },
        "id": "di1b0Pl4NTqz",
        "outputId": "5b131781-b570-4ea8-cb37-c77a65b0046e"
      },
      "execution_count": null,
      "outputs": [
        {
          "output_type": "execute_result",
          "data": {
            "text/plain": [
              "1.1416666666666668"
            ]
          },
          "metadata": {},
          "execution_count": 12
        }
      ]
    },
    {
      "cell_type": "markdown",
      "source": [
        "The duration of this trip which is used as dividing line is 6.85 minutes. We would cover a distance of **1.142 miles in 6.85 minutes** which is reasonable time for commuting. 10 mph is a reasonable biking speed."
      ],
      "metadata": {
        "id": "lRmcgMYJ0aT-"
      }
    },
    {
      "cell_type": "markdown",
      "metadata": {
        "id": "MZJKAesj4Ux3"
      },
      "source": [
        "**Add two columns to your `citi` dataframe: a column called \"short_trip\" that is `True` when the trip duration is less than dividing line above and `False` otherwise, and a column called \"long_trip\" that is `True` when the duration is greater than or equal to the dividing line above but `False` otherwise.**"
      ]
    },
    {
      "cell_type": "code",
      "metadata": {
        "id": "pgQWHdyz12UY"
      },
      "source": [
        "citi['short_trip'] = np.where(citi['logdur']<(citi['logdur'].median()) , True, False)\n",
        "citi['long_trip'] = np.where(citi['logdur']>=(citi['logdur'].median()) , True, False)"
      ],
      "execution_count": null,
      "outputs": []
    },
    {
      "cell_type": "code",
      "source": [
        "citi.head(3)"
      ],
      "metadata": {
        "colab": {
          "base_uri": "https://localhost:8080/",
          "height": 257
        },
        "id": "k2onAmWrgsBX",
        "outputId": "7e123c5e-5ed1-4193-de88-61828495f3b2"
      },
      "execution_count": null,
      "outputs": [
        {
          "output_type": "execute_result",
          "data": {
            "text/plain": [
              "   Trip Duration           Start Time            Stop Time  Start Station ID  \\\n",
              "0           2084  2016-04-01 00:16:13  2016-04-01 00:50:58              3203   \n",
              "1            324  2016-04-01 00:32:48  2016-04-01 00:38:13              3202   \n",
              "2            387  2016-04-01 02:00:33  2016-04-01 02:07:00              3220   \n",
              "\n",
              "  Start Station Name  Start Station Latitude  Start Station Longitude  \\\n",
              "0      Hamilton Park               40.727596               -74.044247   \n",
              "1       Newport PATH               40.727224               -74.033759   \n",
              "2  5 Corners Library               40.734961               -74.059503   \n",
              "\n",
              "   End Station ID End Station Name  End Station Latitude  \\\n",
              "0            3209     Brunswick St             40.724176   \n",
              "1            3203    Hamilton Park             40.727596   \n",
              "2            3215      Central Ave             40.746730   \n",
              "\n",
              "   End Station Longitude  Bike ID   User Type  Birth Year  Gender   age  \\\n",
              "0             -74.050656    24500  Subscriber      1979.0       1  37.0   \n",
              "1             -74.044247    24475  Subscriber      1954.0       1  62.0   \n",
              "2             -74.049251    24503  Subscriber      1975.0       1  41.0   \n",
              "\n",
              "     logdur  short_trip  long_trip  \n",
              "0  3.318898       False       True  \n",
              "1  2.510545        True      False  \n",
              "2  2.587711        True      False  "
            ],
            "text/html": [
              "\n",
              "  <div id=\"df-d4b2479b-b1f3-440f-906c-e80a5d153798\">\n",
              "    <div class=\"colab-df-container\">\n",
              "      <div>\n",
              "<style scoped>\n",
              "    .dataframe tbody tr th:only-of-type {\n",
              "        vertical-align: middle;\n",
              "    }\n",
              "\n",
              "    .dataframe tbody tr th {\n",
              "        vertical-align: top;\n",
              "    }\n",
              "\n",
              "    .dataframe thead th {\n",
              "        text-align: right;\n",
              "    }\n",
              "</style>\n",
              "<table border=\"1\" class=\"dataframe\">\n",
              "  <thead>\n",
              "    <tr style=\"text-align: right;\">\n",
              "      <th></th>\n",
              "      <th>Trip Duration</th>\n",
              "      <th>Start Time</th>\n",
              "      <th>Stop Time</th>\n",
              "      <th>Start Station ID</th>\n",
              "      <th>Start Station Name</th>\n",
              "      <th>Start Station Latitude</th>\n",
              "      <th>Start Station Longitude</th>\n",
              "      <th>End Station ID</th>\n",
              "      <th>End Station Name</th>\n",
              "      <th>End Station Latitude</th>\n",
              "      <th>End Station Longitude</th>\n",
              "      <th>Bike ID</th>\n",
              "      <th>User Type</th>\n",
              "      <th>Birth Year</th>\n",
              "      <th>Gender</th>\n",
              "      <th>age</th>\n",
              "      <th>logdur</th>\n",
              "      <th>short_trip</th>\n",
              "      <th>long_trip</th>\n",
              "    </tr>\n",
              "  </thead>\n",
              "  <tbody>\n",
              "    <tr>\n",
              "      <th>0</th>\n",
              "      <td>2084</td>\n",
              "      <td>2016-04-01 00:16:13</td>\n",
              "      <td>2016-04-01 00:50:58</td>\n",
              "      <td>3203</td>\n",
              "      <td>Hamilton Park</td>\n",
              "      <td>40.727596</td>\n",
              "      <td>-74.044247</td>\n",
              "      <td>3209</td>\n",
              "      <td>Brunswick St</td>\n",
              "      <td>40.724176</td>\n",
              "      <td>-74.050656</td>\n",
              "      <td>24500</td>\n",
              "      <td>Subscriber</td>\n",
              "      <td>1979.0</td>\n",
              "      <td>1</td>\n",
              "      <td>37.0</td>\n",
              "      <td>3.318898</td>\n",
              "      <td>False</td>\n",
              "      <td>True</td>\n",
              "    </tr>\n",
              "    <tr>\n",
              "      <th>1</th>\n",
              "      <td>324</td>\n",
              "      <td>2016-04-01 00:32:48</td>\n",
              "      <td>2016-04-01 00:38:13</td>\n",
              "      <td>3202</td>\n",
              "      <td>Newport PATH</td>\n",
              "      <td>40.727224</td>\n",
              "      <td>-74.033759</td>\n",
              "      <td>3203</td>\n",
              "      <td>Hamilton Park</td>\n",
              "      <td>40.727596</td>\n",
              "      <td>-74.044247</td>\n",
              "      <td>24475</td>\n",
              "      <td>Subscriber</td>\n",
              "      <td>1954.0</td>\n",
              "      <td>1</td>\n",
              "      <td>62.0</td>\n",
              "      <td>2.510545</td>\n",
              "      <td>True</td>\n",
              "      <td>False</td>\n",
              "    </tr>\n",
              "    <tr>\n",
              "      <th>2</th>\n",
              "      <td>387</td>\n",
              "      <td>2016-04-01 02:00:33</td>\n",
              "      <td>2016-04-01 02:07:00</td>\n",
              "      <td>3220</td>\n",
              "      <td>5 Corners Library</td>\n",
              "      <td>40.734961</td>\n",
              "      <td>-74.059503</td>\n",
              "      <td>3215</td>\n",
              "      <td>Central Ave</td>\n",
              "      <td>40.746730</td>\n",
              "      <td>-74.049251</td>\n",
              "      <td>24503</td>\n",
              "      <td>Subscriber</td>\n",
              "      <td>1975.0</td>\n",
              "      <td>1</td>\n",
              "      <td>41.0</td>\n",
              "      <td>2.587711</td>\n",
              "      <td>True</td>\n",
              "      <td>False</td>\n",
              "    </tr>\n",
              "  </tbody>\n",
              "</table>\n",
              "</div>\n",
              "      <button class=\"colab-df-convert\" onclick=\"convertToInteractive('df-d4b2479b-b1f3-440f-906c-e80a5d153798')\"\n",
              "              title=\"Convert this dataframe to an interactive table.\"\n",
              "              style=\"display:none;\">\n",
              "        \n",
              "  <svg xmlns=\"http://www.w3.org/2000/svg\" height=\"24px\"viewBox=\"0 0 24 24\"\n",
              "       width=\"24px\">\n",
              "    <path d=\"M0 0h24v24H0V0z\" fill=\"none\"/>\n",
              "    <path d=\"M18.56 5.44l.94 2.06.94-2.06 2.06-.94-2.06-.94-.94-2.06-.94 2.06-2.06.94zm-11 1L8.5 8.5l.94-2.06 2.06-.94-2.06-.94L8.5 2.5l-.94 2.06-2.06.94zm10 10l.94 2.06.94-2.06 2.06-.94-2.06-.94-.94-2.06-.94 2.06-2.06.94z\"/><path d=\"M17.41 7.96l-1.37-1.37c-.4-.4-.92-.59-1.43-.59-.52 0-1.04.2-1.43.59L10.3 9.45l-7.72 7.72c-.78.78-.78 2.05 0 2.83L4 21.41c.39.39.9.59 1.41.59.51 0 1.02-.2 1.41-.59l7.78-7.78 2.81-2.81c.8-.78.8-2.07 0-2.86zM5.41 20L4 18.59l7.72-7.72 1.47 1.35L5.41 20z\"/>\n",
              "  </svg>\n",
              "      </button>\n",
              "      \n",
              "  <style>\n",
              "    .colab-df-container {\n",
              "      display:flex;\n",
              "      flex-wrap:wrap;\n",
              "      gap: 12px;\n",
              "    }\n",
              "\n",
              "    .colab-df-convert {\n",
              "      background-color: #E8F0FE;\n",
              "      border: none;\n",
              "      border-radius: 50%;\n",
              "      cursor: pointer;\n",
              "      display: none;\n",
              "      fill: #1967D2;\n",
              "      height: 32px;\n",
              "      padding: 0 0 0 0;\n",
              "      width: 32px;\n",
              "    }\n",
              "\n",
              "    .colab-df-convert:hover {\n",
              "      background-color: #E2EBFA;\n",
              "      box-shadow: 0px 1px 2px rgba(60, 64, 67, 0.3), 0px 1px 3px 1px rgba(60, 64, 67, 0.15);\n",
              "      fill: #174EA6;\n",
              "    }\n",
              "\n",
              "    [theme=dark] .colab-df-convert {\n",
              "      background-color: #3B4455;\n",
              "      fill: #D2E3FC;\n",
              "    }\n",
              "\n",
              "    [theme=dark] .colab-df-convert:hover {\n",
              "      background-color: #434B5C;\n",
              "      box-shadow: 0px 1px 3px 1px rgba(0, 0, 0, 0.15);\n",
              "      filter: drop-shadow(0px 1px 2px rgba(0, 0, 0, 0.3));\n",
              "      fill: #FFFFFF;\n",
              "    }\n",
              "  </style>\n",
              "\n",
              "      <script>\n",
              "        const buttonEl =\n",
              "          document.querySelector('#df-d4b2479b-b1f3-440f-906c-e80a5d153798 button.colab-df-convert');\n",
              "        buttonEl.style.display =\n",
              "          google.colab.kernel.accessAllowed ? 'block' : 'none';\n",
              "\n",
              "        async function convertToInteractive(key) {\n",
              "          const element = document.querySelector('#df-d4b2479b-b1f3-440f-906c-e80a5d153798');\n",
              "          const dataTable =\n",
              "            await google.colab.kernel.invokeFunction('convertToInteractive',\n",
              "                                                     [key], {});\n",
              "          if (!dataTable) return;\n",
              "\n",
              "          const docLinkHtml = 'Like what you see? Visit the ' +\n",
              "            '<a target=\"_blank\" href=https://colab.research.google.com/notebooks/data_table.ipynb>data table notebook</a>'\n",
              "            + ' to learn more about interactive tables.';\n",
              "          element.innerHTML = '';\n",
              "          dataTable['output_type'] = 'display_data';\n",
              "          await google.colab.output.renderOutput(dataTable, element);\n",
              "          const docLink = document.createElement('div');\n",
              "          docLink.innerHTML = docLinkHtml;\n",
              "          element.appendChild(docLink);\n",
              "        }\n",
              "      </script>\n",
              "    </div>\n",
              "  </div>\n",
              "  "
            ]
          },
          "metadata": {},
          "execution_count": 14
        }
      ]
    },
    {
      "cell_type": "markdown",
      "metadata": {
        "id": "3lfTZYna7sm0"
      },
      "source": [
        "Now, we're going to use a pandas dataframe trick that is quite useful (and related to similar functionality in other data analysis software) to \"group\" the data \"by\" the age using `citi`'s `.groupby()` method.  It also needs a function to perform on the groups which outputs another data frame.  If you've accomplished the above correctly, this line of code should execute without an error:"
      ]
    },
    {
      "cell_type": "code",
      "metadata": {
        "id": "_qVvPMW57uUa",
        "colab": {
          "base_uri": "https://localhost:8080/",
          "height": 238
        },
        "outputId": "f336ffc6-13ea-4494-c72d-164cf4d1b2a8"
      },
      "source": [
        "citig = citi.groupby(\"age\")[['short_trip','long_trip']].sum()\n",
        "citig.head(5)"
      ],
      "execution_count": null,
      "outputs": [
        {
          "output_type": "execute_result",
          "data": {
            "text/plain": [
              "      short_trip  long_trip\n",
              "age                        \n",
              "17.0           1          4\n",
              "18.0           0          9\n",
              "19.0           0          1\n",
              "20.0           8         27\n",
              "21.0          13         11"
            ],
            "text/html": [
              "\n",
              "  <div id=\"df-4eac0194-1509-44aa-a95b-1e8153106bac\">\n",
              "    <div class=\"colab-df-container\">\n",
              "      <div>\n",
              "<style scoped>\n",
              "    .dataframe tbody tr th:only-of-type {\n",
              "        vertical-align: middle;\n",
              "    }\n",
              "\n",
              "    .dataframe tbody tr th {\n",
              "        vertical-align: top;\n",
              "    }\n",
              "\n",
              "    .dataframe thead th {\n",
              "        text-align: right;\n",
              "    }\n",
              "</style>\n",
              "<table border=\"1\" class=\"dataframe\">\n",
              "  <thead>\n",
              "    <tr style=\"text-align: right;\">\n",
              "      <th></th>\n",
              "      <th>short_trip</th>\n",
              "      <th>long_trip</th>\n",
              "    </tr>\n",
              "    <tr>\n",
              "      <th>age</th>\n",
              "      <th></th>\n",
              "      <th></th>\n",
              "    </tr>\n",
              "  </thead>\n",
              "  <tbody>\n",
              "    <tr>\n",
              "      <th>17.0</th>\n",
              "      <td>1</td>\n",
              "      <td>4</td>\n",
              "    </tr>\n",
              "    <tr>\n",
              "      <th>18.0</th>\n",
              "      <td>0</td>\n",
              "      <td>9</td>\n",
              "    </tr>\n",
              "    <tr>\n",
              "      <th>19.0</th>\n",
              "      <td>0</td>\n",
              "      <td>1</td>\n",
              "    </tr>\n",
              "    <tr>\n",
              "      <th>20.0</th>\n",
              "      <td>8</td>\n",
              "      <td>27</td>\n",
              "    </tr>\n",
              "    <tr>\n",
              "      <th>21.0</th>\n",
              "      <td>13</td>\n",
              "      <td>11</td>\n",
              "    </tr>\n",
              "  </tbody>\n",
              "</table>\n",
              "</div>\n",
              "      <button class=\"colab-df-convert\" onclick=\"convertToInteractive('df-4eac0194-1509-44aa-a95b-1e8153106bac')\"\n",
              "              title=\"Convert this dataframe to an interactive table.\"\n",
              "              style=\"display:none;\">\n",
              "        \n",
              "  <svg xmlns=\"http://www.w3.org/2000/svg\" height=\"24px\"viewBox=\"0 0 24 24\"\n",
              "       width=\"24px\">\n",
              "    <path d=\"M0 0h24v24H0V0z\" fill=\"none\"/>\n",
              "    <path d=\"M18.56 5.44l.94 2.06.94-2.06 2.06-.94-2.06-.94-.94-2.06-.94 2.06-2.06.94zm-11 1L8.5 8.5l.94-2.06 2.06-.94-2.06-.94L8.5 2.5l-.94 2.06-2.06.94zm10 10l.94 2.06.94-2.06 2.06-.94-2.06-.94-.94-2.06-.94 2.06-2.06.94z\"/><path d=\"M17.41 7.96l-1.37-1.37c-.4-.4-.92-.59-1.43-.59-.52 0-1.04.2-1.43.59L10.3 9.45l-7.72 7.72c-.78.78-.78 2.05 0 2.83L4 21.41c.39.39.9.59 1.41.59.51 0 1.02-.2 1.41-.59l7.78-7.78 2.81-2.81c.8-.78.8-2.07 0-2.86zM5.41 20L4 18.59l7.72-7.72 1.47 1.35L5.41 20z\"/>\n",
              "  </svg>\n",
              "      </button>\n",
              "      \n",
              "  <style>\n",
              "    .colab-df-container {\n",
              "      display:flex;\n",
              "      flex-wrap:wrap;\n",
              "      gap: 12px;\n",
              "    }\n",
              "\n",
              "    .colab-df-convert {\n",
              "      background-color: #E8F0FE;\n",
              "      border: none;\n",
              "      border-radius: 50%;\n",
              "      cursor: pointer;\n",
              "      display: none;\n",
              "      fill: #1967D2;\n",
              "      height: 32px;\n",
              "      padding: 0 0 0 0;\n",
              "      width: 32px;\n",
              "    }\n",
              "\n",
              "    .colab-df-convert:hover {\n",
              "      background-color: #E2EBFA;\n",
              "      box-shadow: 0px 1px 2px rgba(60, 64, 67, 0.3), 0px 1px 3px 1px rgba(60, 64, 67, 0.15);\n",
              "      fill: #174EA6;\n",
              "    }\n",
              "\n",
              "    [theme=dark] .colab-df-convert {\n",
              "      background-color: #3B4455;\n",
              "      fill: #D2E3FC;\n",
              "    }\n",
              "\n",
              "    [theme=dark] .colab-df-convert:hover {\n",
              "      background-color: #434B5C;\n",
              "      box-shadow: 0px 1px 3px 1px rgba(0, 0, 0, 0.15);\n",
              "      filter: drop-shadow(0px 1px 2px rgba(0, 0, 0, 0.3));\n",
              "      fill: #FFFFFF;\n",
              "    }\n",
              "  </style>\n",
              "\n",
              "      <script>\n",
              "        const buttonEl =\n",
              "          document.querySelector('#df-4eac0194-1509-44aa-a95b-1e8153106bac button.colab-df-convert');\n",
              "        buttonEl.style.display =\n",
              "          google.colab.kernel.accessAllowed ? 'block' : 'none';\n",
              "\n",
              "        async function convertToInteractive(key) {\n",
              "          const element = document.querySelector('#df-4eac0194-1509-44aa-a95b-1e8153106bac');\n",
              "          const dataTable =\n",
              "            await google.colab.kernel.invokeFunction('convertToInteractive',\n",
              "                                                     [key], {});\n",
              "          if (!dataTable) return;\n",
              "\n",
              "          const docLinkHtml = 'Like what you see? Visit the ' +\n",
              "            '<a target=\"_blank\" href=https://colab.research.google.com/notebooks/data_table.ipynb>data table notebook</a>'\n",
              "            + ' to learn more about interactive tables.';\n",
              "          element.innerHTML = '';\n",
              "          dataTable['output_type'] = 'display_data';\n",
              "          await google.colab.output.renderOutput(dataTable, element);\n",
              "          const docLink = document.createElement('div');\n",
              "          docLink.innerHTML = docLinkHtml;\n",
              "          element.appendChild(docLink);\n",
              "        }\n",
              "      </script>\n",
              "    </div>\n",
              "  </div>\n",
              "  "
            ]
          },
          "metadata": {},
          "execution_count": 15
        }
      ]
    },
    {
      "cell_type": "markdown",
      "metadata": {
        "id": "z2c5V0Ph7ueY"
      },
      "source": [
        "This new dataframe should now have an index that is the age groups and two columns (called \"short_trip\" and \"long_trip\") that are the sums of short and long trips for that age group.  **Get the total number of trips for that age group by adding those together.**"
      ]
    },
    {
      "cell_type": "code",
      "metadata": {
        "id": "5bT6BMXi87DP",
        "colab": {
          "base_uri": "https://localhost:8080/",
          "height": 175
        },
        "outputId": "5ef1caaa-cfd1-44a3-8f01-fd5644624c67"
      },
      "source": [
        "citig['total_trips']=citig['short_trip']+citig['long_trip']\n",
        "citig.head(3)"
      ],
      "execution_count": null,
      "outputs": [
        {
          "output_type": "execute_result",
          "data": {
            "text/plain": [
              "      short_trip  long_trip  total_trips\n",
              "age                                     \n",
              "17.0           1          4            5\n",
              "18.0           0          9            9\n",
              "19.0           0          1            1"
            ],
            "text/html": [
              "\n",
              "  <div id=\"df-5ae3704b-95de-4c14-9856-4a8bcd20f821\">\n",
              "    <div class=\"colab-df-container\">\n",
              "      <div>\n",
              "<style scoped>\n",
              "    .dataframe tbody tr th:only-of-type {\n",
              "        vertical-align: middle;\n",
              "    }\n",
              "\n",
              "    .dataframe tbody tr th {\n",
              "        vertical-align: top;\n",
              "    }\n",
              "\n",
              "    .dataframe thead th {\n",
              "        text-align: right;\n",
              "    }\n",
              "</style>\n",
              "<table border=\"1\" class=\"dataframe\">\n",
              "  <thead>\n",
              "    <tr style=\"text-align: right;\">\n",
              "      <th></th>\n",
              "      <th>short_trip</th>\n",
              "      <th>long_trip</th>\n",
              "      <th>total_trips</th>\n",
              "    </tr>\n",
              "    <tr>\n",
              "      <th>age</th>\n",
              "      <th></th>\n",
              "      <th></th>\n",
              "      <th></th>\n",
              "    </tr>\n",
              "  </thead>\n",
              "  <tbody>\n",
              "    <tr>\n",
              "      <th>17.0</th>\n",
              "      <td>1</td>\n",
              "      <td>4</td>\n",
              "      <td>5</td>\n",
              "    </tr>\n",
              "    <tr>\n",
              "      <th>18.0</th>\n",
              "      <td>0</td>\n",
              "      <td>9</td>\n",
              "      <td>9</td>\n",
              "    </tr>\n",
              "    <tr>\n",
              "      <th>19.0</th>\n",
              "      <td>0</td>\n",
              "      <td>1</td>\n",
              "      <td>1</td>\n",
              "    </tr>\n",
              "  </tbody>\n",
              "</table>\n",
              "</div>\n",
              "      <button class=\"colab-df-convert\" onclick=\"convertToInteractive('df-5ae3704b-95de-4c14-9856-4a8bcd20f821')\"\n",
              "              title=\"Convert this dataframe to an interactive table.\"\n",
              "              style=\"display:none;\">\n",
              "        \n",
              "  <svg xmlns=\"http://www.w3.org/2000/svg\" height=\"24px\"viewBox=\"0 0 24 24\"\n",
              "       width=\"24px\">\n",
              "    <path d=\"M0 0h24v24H0V0z\" fill=\"none\"/>\n",
              "    <path d=\"M18.56 5.44l.94 2.06.94-2.06 2.06-.94-2.06-.94-.94-2.06-.94 2.06-2.06.94zm-11 1L8.5 8.5l.94-2.06 2.06-.94-2.06-.94L8.5 2.5l-.94 2.06-2.06.94zm10 10l.94 2.06.94-2.06 2.06-.94-2.06-.94-.94-2.06-.94 2.06-2.06.94z\"/><path d=\"M17.41 7.96l-1.37-1.37c-.4-.4-.92-.59-1.43-.59-.52 0-1.04.2-1.43.59L10.3 9.45l-7.72 7.72c-.78.78-.78 2.05 0 2.83L4 21.41c.39.39.9.59 1.41.59.51 0 1.02-.2 1.41-.59l7.78-7.78 2.81-2.81c.8-.78.8-2.07 0-2.86zM5.41 20L4 18.59l7.72-7.72 1.47 1.35L5.41 20z\"/>\n",
              "  </svg>\n",
              "      </button>\n",
              "      \n",
              "  <style>\n",
              "    .colab-df-container {\n",
              "      display:flex;\n",
              "      flex-wrap:wrap;\n",
              "      gap: 12px;\n",
              "    }\n",
              "\n",
              "    .colab-df-convert {\n",
              "      background-color: #E8F0FE;\n",
              "      border: none;\n",
              "      border-radius: 50%;\n",
              "      cursor: pointer;\n",
              "      display: none;\n",
              "      fill: #1967D2;\n",
              "      height: 32px;\n",
              "      padding: 0 0 0 0;\n",
              "      width: 32px;\n",
              "    }\n",
              "\n",
              "    .colab-df-convert:hover {\n",
              "      background-color: #E2EBFA;\n",
              "      box-shadow: 0px 1px 2px rgba(60, 64, 67, 0.3), 0px 1px 3px 1px rgba(60, 64, 67, 0.15);\n",
              "      fill: #174EA6;\n",
              "    }\n",
              "\n",
              "    [theme=dark] .colab-df-convert {\n",
              "      background-color: #3B4455;\n",
              "      fill: #D2E3FC;\n",
              "    }\n",
              "\n",
              "    [theme=dark] .colab-df-convert:hover {\n",
              "      background-color: #434B5C;\n",
              "      box-shadow: 0px 1px 3px 1px rgba(0, 0, 0, 0.15);\n",
              "      filter: drop-shadow(0px 1px 2px rgba(0, 0, 0, 0.3));\n",
              "      fill: #FFFFFF;\n",
              "    }\n",
              "  </style>\n",
              "\n",
              "      <script>\n",
              "        const buttonEl =\n",
              "          document.querySelector('#df-5ae3704b-95de-4c14-9856-4a8bcd20f821 button.colab-df-convert');\n",
              "        buttonEl.style.display =\n",
              "          google.colab.kernel.accessAllowed ? 'block' : 'none';\n",
              "\n",
              "        async function convertToInteractive(key) {\n",
              "          const element = document.querySelector('#df-5ae3704b-95de-4c14-9856-4a8bcd20f821');\n",
              "          const dataTable =\n",
              "            await google.colab.kernel.invokeFunction('convertToInteractive',\n",
              "                                                     [key], {});\n",
              "          if (!dataTable) return;\n",
              "\n",
              "          const docLinkHtml = 'Like what you see? Visit the ' +\n",
              "            '<a target=\"_blank\" href=https://colab.research.google.com/notebooks/data_table.ipynb>data table notebook</a>'\n",
              "            + ' to learn more about interactive tables.';\n",
              "          element.innerHTML = '';\n",
              "          dataTable['output_type'] = 'display_data';\n",
              "          await google.colab.output.renderOutput(dataTable, element);\n",
              "          const docLink = document.createElement('div');\n",
              "          docLink.innerHTML = docLinkHtml;\n",
              "          element.appendChild(docLink);\n",
              "        }\n",
              "      </script>\n",
              "    </div>\n",
              "  </div>\n",
              "  "
            ]
          },
          "metadata": {},
          "execution_count": 16
        }
      ]
    },
    {
      "cell_type": "markdown",
      "metadata": {
        "id": "_VRi2Dv187P6"
      },
      "source": [
        "**Plot the fraction of trips that are short as a function of age group.**$^{\\dagger}$\n",
        "\n",
        "<small>$^{\\dagger}$ you can access the index values of a dataframe like so: `age_group = citig.index`</small>"
      ]
    },
    {
      "cell_type": "code",
      "source": [
        "age_group=citig.index\n",
        "citig[\"age_group\"]=age_group"
      ],
      "metadata": {
        "id": "vAtsUrYmQwoq"
      },
      "execution_count": null,
      "outputs": []
    },
    {
      "cell_type": "code",
      "source": [
        "citig.head(3)"
      ],
      "metadata": {
        "colab": {
          "base_uri": "https://localhost:8080/",
          "height": 175
        },
        "id": "r0nD1vLz4zTx",
        "outputId": "cec15eff-44c5-4081-f1fa-cfedb8dbf2bb"
      },
      "execution_count": null,
      "outputs": [
        {
          "output_type": "execute_result",
          "data": {
            "text/plain": [
              "      short_trip  long_trip  total_trips  age_group\n",
              "age                                                \n",
              "17.0           1          4            5       17.0\n",
              "18.0           0          9            9       18.0\n",
              "19.0           0          1            1       19.0"
            ],
            "text/html": [
              "\n",
              "  <div id=\"df-3dbdc789-ca5f-4d76-9442-c3913ac01a68\">\n",
              "    <div class=\"colab-df-container\">\n",
              "      <div>\n",
              "<style scoped>\n",
              "    .dataframe tbody tr th:only-of-type {\n",
              "        vertical-align: middle;\n",
              "    }\n",
              "\n",
              "    .dataframe tbody tr th {\n",
              "        vertical-align: top;\n",
              "    }\n",
              "\n",
              "    .dataframe thead th {\n",
              "        text-align: right;\n",
              "    }\n",
              "</style>\n",
              "<table border=\"1\" class=\"dataframe\">\n",
              "  <thead>\n",
              "    <tr style=\"text-align: right;\">\n",
              "      <th></th>\n",
              "      <th>short_trip</th>\n",
              "      <th>long_trip</th>\n",
              "      <th>total_trips</th>\n",
              "      <th>age_group</th>\n",
              "    </tr>\n",
              "    <tr>\n",
              "      <th>age</th>\n",
              "      <th></th>\n",
              "      <th></th>\n",
              "      <th></th>\n",
              "      <th></th>\n",
              "    </tr>\n",
              "  </thead>\n",
              "  <tbody>\n",
              "    <tr>\n",
              "      <th>17.0</th>\n",
              "      <td>1</td>\n",
              "      <td>4</td>\n",
              "      <td>5</td>\n",
              "      <td>17.0</td>\n",
              "    </tr>\n",
              "    <tr>\n",
              "      <th>18.0</th>\n",
              "      <td>0</td>\n",
              "      <td>9</td>\n",
              "      <td>9</td>\n",
              "      <td>18.0</td>\n",
              "    </tr>\n",
              "    <tr>\n",
              "      <th>19.0</th>\n",
              "      <td>0</td>\n",
              "      <td>1</td>\n",
              "      <td>1</td>\n",
              "      <td>19.0</td>\n",
              "    </tr>\n",
              "  </tbody>\n",
              "</table>\n",
              "</div>\n",
              "      <button class=\"colab-df-convert\" onclick=\"convertToInteractive('df-3dbdc789-ca5f-4d76-9442-c3913ac01a68')\"\n",
              "              title=\"Convert this dataframe to an interactive table.\"\n",
              "              style=\"display:none;\">\n",
              "        \n",
              "  <svg xmlns=\"http://www.w3.org/2000/svg\" height=\"24px\"viewBox=\"0 0 24 24\"\n",
              "       width=\"24px\">\n",
              "    <path d=\"M0 0h24v24H0V0z\" fill=\"none\"/>\n",
              "    <path d=\"M18.56 5.44l.94 2.06.94-2.06 2.06-.94-2.06-.94-.94-2.06-.94 2.06-2.06.94zm-11 1L8.5 8.5l.94-2.06 2.06-.94-2.06-.94L8.5 2.5l-.94 2.06-2.06.94zm10 10l.94 2.06.94-2.06 2.06-.94-2.06-.94-.94-2.06-.94 2.06-2.06.94z\"/><path d=\"M17.41 7.96l-1.37-1.37c-.4-.4-.92-.59-1.43-.59-.52 0-1.04.2-1.43.59L10.3 9.45l-7.72 7.72c-.78.78-.78 2.05 0 2.83L4 21.41c.39.39.9.59 1.41.59.51 0 1.02-.2 1.41-.59l7.78-7.78 2.81-2.81c.8-.78.8-2.07 0-2.86zM5.41 20L4 18.59l7.72-7.72 1.47 1.35L5.41 20z\"/>\n",
              "  </svg>\n",
              "      </button>\n",
              "      \n",
              "  <style>\n",
              "    .colab-df-container {\n",
              "      display:flex;\n",
              "      flex-wrap:wrap;\n",
              "      gap: 12px;\n",
              "    }\n",
              "\n",
              "    .colab-df-convert {\n",
              "      background-color: #E8F0FE;\n",
              "      border: none;\n",
              "      border-radius: 50%;\n",
              "      cursor: pointer;\n",
              "      display: none;\n",
              "      fill: #1967D2;\n",
              "      height: 32px;\n",
              "      padding: 0 0 0 0;\n",
              "      width: 32px;\n",
              "    }\n",
              "\n",
              "    .colab-df-convert:hover {\n",
              "      background-color: #E2EBFA;\n",
              "      box-shadow: 0px 1px 2px rgba(60, 64, 67, 0.3), 0px 1px 3px 1px rgba(60, 64, 67, 0.15);\n",
              "      fill: #174EA6;\n",
              "    }\n",
              "\n",
              "    [theme=dark] .colab-df-convert {\n",
              "      background-color: #3B4455;\n",
              "      fill: #D2E3FC;\n",
              "    }\n",
              "\n",
              "    [theme=dark] .colab-df-convert:hover {\n",
              "      background-color: #434B5C;\n",
              "      box-shadow: 0px 1px 3px 1px rgba(0, 0, 0, 0.15);\n",
              "      filter: drop-shadow(0px 1px 2px rgba(0, 0, 0, 0.3));\n",
              "      fill: #FFFFFF;\n",
              "    }\n",
              "  </style>\n",
              "\n",
              "      <script>\n",
              "        const buttonEl =\n",
              "          document.querySelector('#df-3dbdc789-ca5f-4d76-9442-c3913ac01a68 button.colab-df-convert');\n",
              "        buttonEl.style.display =\n",
              "          google.colab.kernel.accessAllowed ? 'block' : 'none';\n",
              "\n",
              "        async function convertToInteractive(key) {\n",
              "          const element = document.querySelector('#df-3dbdc789-ca5f-4d76-9442-c3913ac01a68');\n",
              "          const dataTable =\n",
              "            await google.colab.kernel.invokeFunction('convertToInteractive',\n",
              "                                                     [key], {});\n",
              "          if (!dataTable) return;\n",
              "\n",
              "          const docLinkHtml = 'Like what you see? Visit the ' +\n",
              "            '<a target=\"_blank\" href=https://colab.research.google.com/notebooks/data_table.ipynb>data table notebook</a>'\n",
              "            + ' to learn more about interactive tables.';\n",
              "          element.innerHTML = '';\n",
              "          dataTable['output_type'] = 'display_data';\n",
              "          await google.colab.output.renderOutput(dataTable, element);\n",
              "          const docLink = document.createElement('div');\n",
              "          docLink.innerHTML = docLinkHtml;\n",
              "          element.appendChild(docLink);\n",
              "        }\n",
              "      </script>\n",
              "    </div>\n",
              "  </div>\n",
              "  "
            ]
          },
          "metadata": {},
          "execution_count": 18
        }
      ]
    },
    {
      "cell_type": "code",
      "metadata": {
        "id": "5ZROkrtC-qsV",
        "colab": {
          "base_uri": "https://localhost:8080/",
          "height": 351
        },
        "outputId": "2f139fea-c91b-4115-9f3c-4745bcc7652c"
      },
      "source": [
        "citig[\"stfrac\"]= citig[\"short_trip\"]/citig[\"total_trips\"]\n",
        "citig.plot(\"age_group\",\"stfrac\", xlabel=\"Age group\",\n",
        "          ylabel=\"Fraction of short trips\", figsize=(10, 5),grid=True,label=\"Fraction of trips(short)\")"
      ],
      "execution_count": null,
      "outputs": [
        {
          "output_type": "execute_result",
          "data": {
            "text/plain": [
              "<matplotlib.axes._subplots.AxesSubplot at 0x7fdefb8ca100>"
            ]
          },
          "metadata": {},
          "execution_count": 19
        },
        {
          "output_type": "display_data",
          "data": {
            "text/plain": [
              "<Figure size 720x360 with 1 Axes>"
            ],
            "image/png": "[encoded data removed]"
          },
          "metadata": {
            "needs_background": "light"
          }
        }
      ]
    },
    {
      "cell_type": "code",
      "source": [
        "citig['stfrac'].max()\n",
        "citig[citig[\"stfrac\"]==1.0]"
      ],
      "metadata": {
        "colab": {
          "base_uri": "https://localhost:8080/",
          "height": 112
        },
        "id": "oDITIHwC7eAT",
        "outputId": "943a3a2d-2356-40d8-c07a-c0bce3c4c5f7"
      },
      "execution_count": null,
      "outputs": [
        {
          "output_type": "execute_result",
          "data": {
            "text/plain": [
              "      short_trip  long_trip  total_trips  age_group  stfrac\n",
              "age                                                        \n",
              "75.0           8          0            8       75.0     1.0"
            ],
            "text/html": [
              "\n",
              "  <div id=\"df-4e19405a-9850-4283-bdac-d405a4b2b68c\">\n",
              "    <div class=\"colab-df-container\">\n",
              "      <div>\n",
              "<style scoped>\n",
              "    .dataframe tbody tr th:only-of-type {\n",
              "        vertical-align: middle;\n",
              "    }\n",
              "\n",
              "    .dataframe tbody tr th {\n",
              "        vertical-align: top;\n",
              "    }\n",
              "\n",
              "    .dataframe thead th {\n",
              "        text-align: right;\n",
              "    }\n",
              "</style>\n",
              "<table border=\"1\" class=\"dataframe\">\n",
              "  <thead>\n",
              "    <tr style=\"text-align: right;\">\n",
              "      <th></th>\n",
              "      <th>short_trip</th>\n",
              "      <th>long_trip</th>\n",
              "      <th>total_trips</th>\n",
              "      <th>age_group</th>\n",
              "      <th>stfrac</th>\n",
              "    </tr>\n",
              "    <tr>\n",
              "      <th>age</th>\n",
              "      <th></th>\n",
              "      <th></th>\n",
              "      <th></th>\n",
              "      <th></th>\n",
              "      <th></th>\n",
              "    </tr>\n",
              "  </thead>\n",
              "  <tbody>\n",
              "    <tr>\n",
              "      <th>75.0</th>\n",
              "      <td>8</td>\n",
              "      <td>0</td>\n",
              "      <td>8</td>\n",
              "      <td>75.0</td>\n",
              "      <td>1.0</td>\n",
              "    </tr>\n",
              "  </tbody>\n",
              "</table>\n",
              "</div>\n",
              "      <button class=\"colab-df-convert\" onclick=\"convertToInteractive('df-4e19405a-9850-4283-bdac-d405a4b2b68c')\"\n",
              "              title=\"Convert this dataframe to an interactive table.\"\n",
              "              style=\"display:none;\">\n",
              "        \n",
              "  <svg xmlns=\"http://www.w3.org/2000/svg\" height=\"24px\"viewBox=\"0 0 24 24\"\n",
              "       width=\"24px\">\n",
              "    <path d=\"M0 0h24v24H0V0z\" fill=\"none\"/>\n",
              "    <path d=\"M18.56 5.44l.94 2.06.94-2.06 2.06-.94-2.06-.94-.94-2.06-.94 2.06-2.06.94zm-11 1L8.5 8.5l.94-2.06 2.06-.94-2.06-.94L8.5 2.5l-.94 2.06-2.06.94zm10 10l.94 2.06.94-2.06 2.06-.94-2.06-.94-.94-2.06-.94 2.06-2.06.94z\"/><path d=\"M17.41 7.96l-1.37-1.37c-.4-.4-.92-.59-1.43-.59-.52 0-1.04.2-1.43.59L10.3 9.45l-7.72 7.72c-.78.78-.78 2.05 0 2.83L4 21.41c.39.39.9.59 1.41.59.51 0 1.02-.2 1.41-.59l7.78-7.78 2.81-2.81c.8-.78.8-2.07 0-2.86zM5.41 20L4 18.59l7.72-7.72 1.47 1.35L5.41 20z\"/>\n",
              "  </svg>\n",
              "      </button>\n",
              "      \n",
              "  <style>\n",
              "    .colab-df-container {\n",
              "      display:flex;\n",
              "      flex-wrap:wrap;\n",
              "      gap: 12px;\n",
              "    }\n",
              "\n",
              "    .colab-df-convert {\n",
              "      background-color: #E8F0FE;\n",
              "      border: none;\n",
              "      border-radius: 50%;\n",
              "      cursor: pointer;\n",
              "      display: none;\n",
              "      fill: #1967D2;\n",
              "      height: 32px;\n",
              "      padding: 0 0 0 0;\n",
              "      width: 32px;\n",
              "    }\n",
              "\n",
              "    .colab-df-convert:hover {\n",
              "      background-color: #E2EBFA;\n",
              "      box-shadow: 0px 1px 2px rgba(60, 64, 67, 0.3), 0px 1px 3px 1px rgba(60, 64, 67, 0.15);\n",
              "      fill: #174EA6;\n",
              "    }\n",
              "\n",
              "    [theme=dark] .colab-df-convert {\n",
              "      background-color: #3B4455;\n",
              "      fill: #D2E3FC;\n",
              "    }\n",
              "\n",
              "    [theme=dark] .colab-df-convert:hover {\n",
              "      background-color: #434B5C;\n",
              "      box-shadow: 0px 1px 3px 1px rgba(0, 0, 0, 0.15);\n",
              "      filter: drop-shadow(0px 1px 2px rgba(0, 0, 0, 0.3));\n",
              "      fill: #FFFFFF;\n",
              "    }\n",
              "  </style>\n",
              "\n",
              "      <script>\n",
              "        const buttonEl =\n",
              "          document.querySelector('#df-4e19405a-9850-4283-bdac-d405a4b2b68c button.colab-df-convert');\n",
              "        buttonEl.style.display =\n",
              "          google.colab.kernel.accessAllowed ? 'block' : 'none';\n",
              "\n",
              "        async function convertToInteractive(key) {\n",
              "          const element = document.querySelector('#df-4e19405a-9850-4283-bdac-d405a4b2b68c');\n",
              "          const dataTable =\n",
              "            await google.colab.kernel.invokeFunction('convertToInteractive',\n",
              "                                                     [key], {});\n",
              "          if (!dataTable) return;\n",
              "\n",
              "          const docLinkHtml = 'Like what you see? Visit the ' +\n",
              "            '<a target=\"_blank\" href=https://colab.research.google.com/notebooks/data_table.ipynb>data table notebook</a>'\n",
              "            + ' to learn more about interactive tables.';\n",
              "          element.innerHTML = '';\n",
              "          dataTable['output_type'] = 'display_data';\n",
              "          await google.colab.output.renderOutput(dataTable, element);\n",
              "          const docLink = document.createElement('div');\n",
              "          docLink.innerHTML = docLinkHtml;\n",
              "          element.appendChild(docLink);\n",
              "        }\n",
              "      </script>\n",
              "    </div>\n",
              "  </div>\n",
              "  "
            ]
          },
          "metadata": {},
          "execution_count": 20
        }
      ]
    },
    {
      "cell_type": "code",
      "source": [
        "citig['short_trip'].max()\n",
        "citig[citig[\"short_trip\"]==593]"
      ],
      "metadata": {
        "colab": {
          "base_uri": "https://localhost:8080/",
          "height": 112
        },
        "id": "-wcn_rKL8yQ5",
        "outputId": "4faea7e2-ad00-4ff6-fd51-f4642f6d99e4"
      },
      "execution_count": null,
      "outputs": [
        {
          "output_type": "execute_result",
          "data": {
            "text/plain": [
              "      short_trip  long_trip  total_trips  age_group    stfrac\n",
              "age                                                          \n",
              "35.0         593        327          920       35.0  0.644565"
            ],
            "text/html": [
              "\n",
              "  <div id=\"df-c807140c-68d7-4f0d-871e-71ae6d418723\">\n",
              "    <div class=\"colab-df-container\">\n",
              "      <div>\n",
              "<style scoped>\n",
              "    .dataframe tbody tr th:only-of-type {\n",
              "        vertical-align: middle;\n",
              "    }\n",
              "\n",
              "    .dataframe tbody tr th {\n",
              "        vertical-align: top;\n",
              "    }\n",
              "\n",
              "    .dataframe thead th {\n",
              "        text-align: right;\n",
              "    }\n",
              "</style>\n",
              "<table border=\"1\" class=\"dataframe\">\n",
              "  <thead>\n",
              "    <tr style=\"text-align: right;\">\n",
              "      <th></th>\n",
              "      <th>short_trip</th>\n",
              "      <th>long_trip</th>\n",
              "      <th>total_trips</th>\n",
              "      <th>age_group</th>\n",
              "      <th>stfrac</th>\n",
              "    </tr>\n",
              "    <tr>\n",
              "      <th>age</th>\n",
              "      <th></th>\n",
              "      <th></th>\n",
              "      <th></th>\n",
              "      <th></th>\n",
              "      <th></th>\n",
              "    </tr>\n",
              "  </thead>\n",
              "  <tbody>\n",
              "    <tr>\n",
              "      <th>35.0</th>\n",
              "      <td>593</td>\n",
              "      <td>327</td>\n",
              "      <td>920</td>\n",
              "      <td>35.0</td>\n",
              "      <td>0.644565</td>\n",
              "    </tr>\n",
              "  </tbody>\n",
              "</table>\n",
              "</div>\n",
              "      <button class=\"colab-df-convert\" onclick=\"convertToInteractive('df-c807140c-68d7-4f0d-871e-71ae6d418723')\"\n",
              "              title=\"Convert this dataframe to an interactive table.\"\n",
              "              style=\"display:none;\">\n",
              "        \n",
              "  <svg xmlns=\"http://www.w3.org/2000/svg\" height=\"24px\"viewBox=\"0 0 24 24\"\n",
              "       width=\"24px\">\n",
              "    <path d=\"M0 0h24v24H0V0z\" fill=\"none\"/>\n",
              "    <path d=\"M18.56 5.44l.94 2.06.94-2.06 2.06-.94-2.06-.94-.94-2.06-.94 2.06-2.06.94zm-11 1L8.5 8.5l.94-2.06 2.06-.94-2.06-.94L8.5 2.5l-.94 2.06-2.06.94zm10 10l.94 2.06.94-2.06 2.06-.94-2.06-.94-.94-2.06-.94 2.06-2.06.94z\"/><path d=\"M17.41 7.96l-1.37-1.37c-.4-.4-.92-.59-1.43-.59-.52 0-1.04.2-1.43.59L10.3 9.45l-7.72 7.72c-.78.78-.78 2.05 0 2.83L4 21.41c.39.39.9.59 1.41.59.51 0 1.02-.2 1.41-.59l7.78-7.78 2.81-2.81c.8-.78.8-2.07 0-2.86zM5.41 20L4 18.59l7.72-7.72 1.47 1.35L5.41 20z\"/>\n",
              "  </svg>\n",
              "      </button>\n",
              "      \n",
              "  <style>\n",
              "    .colab-df-container {\n",
              "      display:flex;\n",
              "      flex-wrap:wrap;\n",
              "      gap: 12px;\n",
              "    }\n",
              "\n",
              "    .colab-df-convert {\n",
              "      background-color: #E8F0FE;\n",
              "      border: none;\n",
              "      border-radius: 50%;\n",
              "      cursor: pointer;\n",
              "      display: none;\n",
              "      fill: #1967D2;\n",
              "      height: 32px;\n",
              "      padding: 0 0 0 0;\n",
              "      width: 32px;\n",
              "    }\n",
              "\n",
              "    .colab-df-convert:hover {\n",
              "      background-color: #E2EBFA;\n",
              "      box-shadow: 0px 1px 2px rgba(60, 64, 67, 0.3), 0px 1px 3px 1px rgba(60, 64, 67, 0.15);\n",
              "      fill: #174EA6;\n",
              "    }\n",
              "\n",
              "    [theme=dark] .colab-df-convert {\n",
              "      background-color: #3B4455;\n",
              "      fill: #D2E3FC;\n",
              "    }\n",
              "\n",
              "    [theme=dark] .colab-df-convert:hover {\n",
              "      background-color: #434B5C;\n",
              "      box-shadow: 0px 1px 3px 1px rgba(0, 0, 0, 0.15);\n",
              "      filter: drop-shadow(0px 1px 2px rgba(0, 0, 0, 0.3));\n",
              "      fill: #FFFFFF;\n",
              "    }\n",
              "  </style>\n",
              "\n",
              "      <script>\n",
              "        const buttonEl =\n",
              "          document.querySelector('#df-c807140c-68d7-4f0d-871e-71ae6d418723 button.colab-df-convert');\n",
              "        buttonEl.style.display =\n",
              "          google.colab.kernel.accessAllowed ? 'block' : 'none';\n",
              "\n",
              "        async function convertToInteractive(key) {\n",
              "          const element = document.querySelector('#df-c807140c-68d7-4f0d-871e-71ae6d418723');\n",
              "          const dataTable =\n",
              "            await google.colab.kernel.invokeFunction('convertToInteractive',\n",
              "                                                     [key], {});\n",
              "          if (!dataTable) return;\n",
              "\n",
              "          const docLinkHtml = 'Like what you see? Visit the ' +\n",
              "            '<a target=\"_blank\" href=https://colab.research.google.com/notebooks/data_table.ipynb>data table notebook</a>'\n",
              "            + ' to learn more about interactive tables.';\n",
              "          element.innerHTML = '';\n",
              "          dataTable['output_type'] = 'display_data';\n",
              "          await google.colab.output.renderOutput(dataTable, element);\n",
              "          const docLink = document.createElement('div');\n",
              "          docLink.innerHTML = docLinkHtml;\n",
              "          element.appendChild(docLink);\n",
              "        }\n",
              "      </script>\n",
              "    </div>\n",
              "  </div>\n",
              "  "
            ]
          },
          "metadata": {},
          "execution_count": 21
        }
      ]
    },
    {
      "cell_type": "markdown",
      "metadata": {
        "id": "p5sktAiJlrBX"
      },
      "source": [
        "**What is the age group that is predominantly using citi bikes for commuting?  How did you make that determination?  What are the assumptions that went into finding this model?**"
      ]
    },
    {
      "cell_type": "markdown",
      "metadata": {
        "id": "UTfDGhlxlwfr"
      },
      "source": [
        "Based on the above plot and analysis :Those in the age group of 35 took the highest number of short trips i.e 593. Out of 920 trips taken by those in the age group of 35, 593 trips were for commuting. Majority (65%) of the trips taken by those in the age group 35 were for commuting.\n",
        "In addition, Out of 8 total trips taken by those in age group 75, 8 of them were short trips. All the trips made by the age group 75 were only for commuting and not for recreation.  \n",
        "The determination was made using above analysis and plots.\n",
        "The assumptions that went into finding this model includes dividng the status of the trip into long and short trip based on the median of the trip duration. Those whose trip duration was less than the median were considered as a short trip i.e for commuting and the others were considered as taking a long trip i.e for recreation."
      ]
    },
    {
      "cell_type": "markdown",
      "metadata": {
        "id": "VGwQfqBl5KxN"
      },
      "source": [
        "### **EXTRA CREDIT - Fit a model parameter by hand (aka: \"fit by eye\")**"
      ]
    },
    {
      "cell_type": "markdown",
      "metadata": {
        "id": "YYYX30Zm5Rb2"
      },
      "source": [
        "Let's approximate the number of short trips as a function of age group by a parabola.  Here's the function we'll use:"
      ]
    },
    {
      "cell_type": "code",
      "metadata": {
        "id": "tTbX9C21AkxN"
      },
      "source": [
        "def short_by_age(age_groups, peak_age, peak_value):\n",
        "  \"\"\"\n",
        "  Generate a model for the fraction of trips that are short as a\n",
        "  function of age group.\n",
        "  \"\"\"\n",
        "\n",
        "  model = -6e-4 * (age_groups - peak_age)**2 + peak_value\n",
        "\n",
        "  return model"
      ],
      "execution_count": null,
      "outputs": []
    },
    {
      "cell_type": "markdown",
      "metadata": {
        "id": "7ojWFVFiBJND"
      },
      "source": [
        "**Use the above function to fit the `peak_age` and `peak_value` parameters \"by eye\".**  By that I mean, choose some values, plot it, chose a new value and plot it to see if it fits better by eye, then repeat until you have something that looks reasonable."
      ]
    },
    {
      "cell_type": "code",
      "source": [
        "plt.plot(short_by_age(age_group,25,100)) #initial fitting"
      ],
      "metadata": {
        "colab": {
          "base_uri": "https://localhost:8080/",
          "height": 282
        },
        "id": "zOvsF2eU-HLa",
        "outputId": "86ecbb81-039c-4cc8-fc81-9c6c384dc124"
      },
      "execution_count": null,
      "outputs": [
        {
          "output_type": "execute_result",
          "data": {
            "text/plain": [
              "[<matplotlib.lines.Line2D at 0x7fdefb876640>]"
            ]
          },
          "metadata": {},
          "execution_count": 23
        },
        {
          "output_type": "display_data",
          "data": {
            "text/plain": [
              "<Figure size 432x288 with 1 Axes>"
            ],
            "image/png": "[encoded data removed]"
          },
          "metadata": {
            "needs_background": "light"
          }
        }
      ]
    },
    {
      "cell_type": "code",
      "source": [
        "plt.plot(short_by_age(age_group,45,500)) #final fitting by eye. The model has been fitted by taking the peak age as 45 and peak value as 500. It is a parabola."
      ],
      "metadata": {
        "id": "7V7mdPwi-6LS",
        "colab": {
          "base_uri": "https://localhost:8080/",
          "height": 282
        },
        "outputId": "13ca7576-7072-4142-ddfa-2391012eb8e3"
      },
      "execution_count": null,
      "outputs": [
        {
          "output_type": "execute_result",
          "data": {
            "text/plain": [
              "[<matplotlib.lines.Line2D at 0x7fdefb7c8fd0>]"
            ]
          },
          "metadata": {},
          "execution_count": 24
        },
        {
          "output_type": "display_data",
          "data": {
            "text/plain": [
              "<Figure size 432x288 with 1 Axes>"
            ],
            "image/png": "[encoded data removed]"
          },
          "metadata": {
            "needs_background": "light"
          }
        }
      ]
    }
  ]
}